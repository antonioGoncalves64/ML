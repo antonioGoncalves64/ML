{
  "cells": [
    {
      "cell_type": "markdown",
      "id": "f1cc65d6",
      "metadata": {
        "id": "f1cc65d6"
      },
      "source": [
        "\n",
        "<h1 style=\"text-align: left; color:#52595D\"> ML Lab: Logistic Regression, Decision Boundary  </h1>\n",
        "<figure>\n",
        "<img align=\"center\" src=\"https://github.com/antonioGoncalves64/ML/blob/main/images/robby.png?raw=1\"     style=\" width:250px; padding: 10px; \" >\n",
        "</figure>\n",
        "\n"
      ]
    },
    {
      "cell_type": "markdown",
      "id": "86fe6af0",
      "metadata": {
        "id": "86fe6af0"
      },
      "source": [
        "## Goals\n",
        "In this lab, you will:\n",
        "- Plot the decision boundary for a logistic regression model. This will give you a better sense of what the model is predicting.\n"
      ]
    },
    {
      "cell_type": "code",
      "execution_count": 10,
      "id": "6ee320a5",
      "metadata": {
        "id": "6ee320a5",
        "outputId": "9197be2b-3a8f-49f9-e47f-f7c9363f3f1c",
        "colab": {
          "base_uri": "https://localhost:8080/",
          "height": 187
        }
      },
      "outputs": [
        {
          "output_type": "stream",
          "name": "stdout",
          "text": [
            "Cloning into 'ML'...\n",
            "remote: Enumerating objects: 345, done.\u001b[K\n",
            "remote: Counting objects:   0% (1/153)\u001b[K\rremote: Counting objects:   1% (2/153)\u001b[K\rremote: Counting objects:   2% (4/153)\u001b[K\rremote: Counting objects:   3% (5/153)\u001b[K\rremote: Counting objects:   4% (7/153)\u001b[K\rremote: Counting objects:   5% (8/153)\u001b[K\rremote: Counting objects:   6% (10/153)\u001b[K\rremote: Counting objects:   7% (11/153)\u001b[K\rremote: Counting objects:   8% (13/153)\u001b[K\rremote: Counting objects:   9% (14/153)\u001b[K\rremote: Counting objects:  10% (16/153)\u001b[K\rremote: Counting objects:  11% (17/153)\u001b[K\rremote: Counting objects:  12% (19/153)\u001b[K\rremote: Counting objects:  13% (20/153)\u001b[K\rremote: Counting objects:  14% (22/153)\u001b[K\rremote: Counting objects:  15% (23/153)\u001b[K\rremote: Counting objects:  16% (25/153)\u001b[K\rremote: Counting objects:  17% (27/153)\u001b[K\rremote: Counting objects:  18% (28/153)\u001b[K\rremote: Counting objects:  19% (30/153)\u001b[K\rremote: Counting objects:  20% (31/153)\u001b[K\rremote: Counting objects:  21% (33/153)\u001b[K\rremote: Counting objects:  22% (34/153)\u001b[K\rremote: Counting objects:  23% (36/153)\u001b[K\rremote: Counting objects:  24% (37/153)\u001b[K\rremote: Counting objects:  25% (39/153)\u001b[K\rremote: Counting objects:  26% (40/153)\u001b[K\rremote: Counting objects:  27% (42/153)\u001b[K\rremote: Counting objects:  28% (43/153)\u001b[K\rremote: Counting objects:  29% (45/153)\u001b[K\rremote: Counting objects:  30% (46/153)\u001b[K\rremote: Counting objects:  31% (48/153)\u001b[K\rremote: Counting objects:  32% (49/153)\u001b[K\rremote: Counting objects:  33% (51/153)\u001b[K\rremote: Counting objects:  34% (53/153)\u001b[K\rremote: Counting objects:  35% (54/153)\u001b[K\rremote: Counting objects:  36% (56/153)\u001b[K\rremote: Counting objects:  37% (57/153)\u001b[K\rremote: Counting objects:  38% (59/153)\u001b[K\rremote: Counting objects:  39% (60/153)\u001b[K\rremote: Counting objects:  40% (62/153)\u001b[K\rremote: Counting objects:  41% (63/153)\u001b[K\rremote: Counting objects:  42% (65/153)\u001b[K\rremote: Counting objects:  43% (66/153)\u001b[K\rremote: Counting objects:  44% (68/153)\u001b[K\rremote: Counting objects:  45% (69/153)\u001b[K\rremote: Counting objects:  46% (71/153)\u001b[K\rremote: Counting objects:  47% (72/153)\u001b[K\rremote: Counting objects:  48% (74/153)\u001b[K\rremote: Counting objects:  49% (75/153)\u001b[K\rremote: Counting objects:  50% (77/153)\u001b[K\rremote: Counting objects:  51% (79/153)\u001b[K\rremote: Counting objects:  52% (80/153)\u001b[K\rremote: Counting objects:  53% (82/153)\u001b[K\rremote: Counting objects:  54% (83/153)\u001b[K\rremote: Counting objects:  55% (85/153)\u001b[K\rremote: Counting objects:  56% (86/153)\u001b[K\rremote: Counting objects:  57% (88/153)\u001b[K\rremote: Counting objects:  58% (89/153)\u001b[K\rremote: Counting objects:  59% (91/153)\u001b[K\rremote: Counting objects:  60% (92/153)\u001b[K\rremote: Counting objects:  61% (94/153)\u001b[K\rremote: Counting objects:  62% (95/153)\u001b[K\rremote: Counting objects:  63% (97/153)\u001b[K\rremote: Counting objects:  64% (98/153)\u001b[K\rremote: Counting objects:  65% (100/153)\u001b[K\rremote: Counting objects:  66% (101/153)\u001b[K\rremote: Counting objects:  67% (103/153)\u001b[K\rremote: Counting objects:  68% (105/153)\u001b[K\rremote: Counting objects:  69% (106/153)\u001b[K\rremote: Counting objects:  70% (108/153)\u001b[K\rremote: Counting objects:  71% (109/153)\u001b[K\rremote: Counting objects:  72% (111/153)\u001b[K\rremote: Counting objects:  73% (112/153)\u001b[K\rremote: Counting objects:  74% (114/153)\u001b[K\rremote: Counting objects:  75% (115/153)\u001b[K\rremote: Counting objects:  76% (117/153)\u001b[K\rremote: Counting objects:  77% (118/153)\u001b[K\rremote: Counting objects:  78% (120/153)\u001b[K\rremote: Counting objects:  79% (121/153)\u001b[K\rremote: Counting objects:  80% (123/153)\u001b[K\rremote: Counting objects:  81% (124/153)\u001b[K\rremote: Counting objects:  82% (126/153)\u001b[K\rremote: Counting objects:  83% (127/153)\u001b[K\rremote: Counting objects:  84% (129/153)\u001b[K\rremote: Counting objects:  85% (131/153)\u001b[K\rremote: Counting objects:  86% (132/153)\u001b[K\rremote: Counting objects:  87% (134/153)\u001b[K\rremote: Counting objects:  88% (135/153)\u001b[K\rremote: Counting objects:  89% (137/153)\u001b[K\rremote: Counting objects:  90% (138/153)\u001b[K\rremote: Counting objects:  91% (140/153)\u001b[K\rremote: Counting objects:  92% (141/153)\u001b[K\rremote: Counting objects:  93% (143/153)\u001b[K\rremote: Counting objects:  94% (144/153)\u001b[K\rremote: Counting objects:  95% (146/153)\u001b[K\rremote: Counting objects:  96% (147/153)\u001b[K\rremote: Counting objects:  97% (149/153)\u001b[K\rremote: Counting objects:  98% (150/153)\u001b[K\rremote: Counting objects:  99% (152/153)\u001b[K\rremote: Counting objects: 100% (153/153)\u001b[K\rremote: Counting objects: 100% (153/153), done.\u001b[K\n",
            "remote: Compressing objects: 100% (117/117), done.\u001b[K\n",
            "remote: Total 345 (delta 71), reused 104 (delta 33), pack-reused 192\u001b[K\n",
            "Receiving objects: 100% (345/345), 10.36 MiB | 20.02 MiB/s, done.\n",
            "Resolving deltas: 100% (158/158), done.\n",
            "mv: cannot move '/content/ML/datasets' to './datasets': Directory not empty\n",
            "mv: cannot move '/content/ML/images' to './images': Directory not empty\n",
            "mv: cannot move '/content/ML/utils' to './utils': Directory not empty\n"
          ]
        }
      ],
      "source": [
        "!rm -r /content/ML\n",
        "!git clone https://github.com/antonioGoncalves64/ML \n",
        "!mv  /content/ML/* .\n",
        "\n",
        "!pip install -q ipympl\n",
        "\n",
        "\n",
        "from google.colab import output\n",
        "output.enable_custom_widget_manager()\n",
        "\n",
        "import numpy as np\n",
        "%matplotlib widget\n",
        "import matplotlib.pyplot as plt\n",
        "from lab_utils_common2 import plot_data, sigmoid, draw_vthresh\n",
        "plt.style.use('./deeplearning.mplstyle')"
      ]
    },
    {
      "cell_type": "markdown",
      "id": "7867bf8d",
      "metadata": {
        "id": "7867bf8d"
      },
      "source": [
        "## Dataset\n",
        "\n",
        "Let's suppose you have following training dataset\n",
        "- The input variable `X` is a numpy array which has 6 training examples, each with two features\n",
        "- The output variable `y` is also a numpy array with 6 examples, and `y` is either `0` or `1`"
      ]
    },
    {
      "cell_type": "code",
      "execution_count": 2,
      "id": "9baca38b",
      "metadata": {
        "id": "9baca38b"
      },
      "outputs": [],
      "source": [
        "X = np.array([[0.5, 1.5], [1,1], [1.5, 0.5], [3, 0.5], [2, 2], [1, 2.5]])\n",
        "y = np.array([0, 0, 0, 1, 1, 1]).reshape(-1,1) "
      ]
    },
    {
      "cell_type": "markdown",
      "id": "182b8eb5",
      "metadata": {
        "id": "182b8eb5"
      },
      "source": [
        "### Plot data \n",
        "\n",
        "Let's use a helper function to plot this data. The data points with label $y=1$ are shown as red crosses, while the data points with label $y=0$ are shown as blue circles. "
      ]
    },
    {
      "cell_type": "code",
      "execution_count": 7,
      "id": "89a44af6",
      "metadata": {
        "id": "89a44af6",
        "outputId": "f9275740-2059-4725-f788-d2b571615364",
        "colab": {
          "base_uri": "https://localhost:8080/",
          "height": 425,
          "referenced_widgets": [
            "9f486f74c19946149be8d411328bb936",
            "b8c419e0b31e4393bdc08317a8e754ae",
            "3ae821d7519a443889a0874b49bbe0fe",
            "07b1b9e3b3894f59a3757173303aa47b"
          ]
        }
      },
      "outputs": [
        {
          "output_type": "display_data",
          "data": {
            "text/plain": [
              "Canvas(footer_visible=False, header_visible=False, toolbar=Toolbar(toolitems=[('Home', 'Reset original view', …"
            ],
            "image/png": "[encoded data removed]",
            "text/html": [
              "\n",
              "            <div style=\"display: inline-block;\">\n",
              "                <div class=\"jupyter-widgets widget-label\" style=\"text-align: center;\">\n",
              "                    Figure\n",
              "                </div>\n",
              "                <img src='data:image/png;base64,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' width=400.0/>\n",
              "            </div>\n",
              "        "
            ],
            "application/vnd.jupyter.widget-view+json": {
              "version_major": 2,
              "version_minor": 0,
              "model_id": "9f486f74c19946149be8d411328bb936"
            }
          },
          "metadata": {
            "application/vnd.jupyter.widget-view+json": {
              "colab": {
                "custom_widget_manager": {
                  "url": "https://ssl.gstatic.com/colaboratory-static/widgets/colab-cdn-widget-manager/b3e629b1971e1542/manager.min.js"
                }
              }
            }
          }
        }
      ],
      "source": [
        "from google.colab import output\n",
        "output.enable_custom_widget_manager()\n",
        "\n",
        "fig,ax = plt.subplots(1,1,figsize=(4,4))\n",
        "plot_data(X, y, ax)\n",
        "\n",
        "ax.axis([0, 4, 0, 3.5])\n",
        "ax.set_ylabel('$x_1$')\n",
        "ax.set_xlabel('$x_0$')\n",
        "plt.show()"
      ]
    },
    {
      "cell_type": "markdown",
      "id": "bdfd265a",
      "metadata": {
        "id": "bdfd265a"
      },
      "source": [
        "## Logistic regression model\n",
        "\n",
        "\n",
        "* Suppose you'd like to train a logistic regression model on this data which has the form   \n",
        "\n",
        "  $f(x) = g(w_0x_0+w_1x_1 + b)$\n",
        "  \n",
        "  where $g(z) = \\frac{1}{1+e^{-z}}$, which is the sigmoid function\n",
        "\n",
        "\n",
        "* Let's say that you trained the model and get the parameters as $b = -3, w_0 = 1, w_1 = 1$. That is,\n",
        "\n",
        "  $f(x) = g(x_0+x_1-3)$\n",
        "\n",
        "  (You'll learn how to fit these parameters to the data further in the course)\n",
        "  \n",
        "  \n",
        "Let's try to understand what this trained model is predicting by plotting its decision boundary"
      ]
    },
    {
      "cell_type": "markdown",
      "id": "3251639a",
      "metadata": {
        "id": "3251639a"
      },
      "source": [
        "### Refresher on logistic regression and decision boundary\n",
        "\n",
        "* Recall that for logistic regression, the model is represented as \n",
        "\n",
        "  $$f_{\\mathbf{w},b}(\\mathbf{x}^{(i)}) = g(\\mathbf{w} \\cdot \\mathbf{x}^{(i)} + b) \\tag{1}$$\n",
        "\n",
        "  where $g(z)$ is known as the sigmoid function and it maps all input values to values between 0 and 1:\n",
        "\n",
        "  $g(z) = \\frac{1}{1+e^{-z}}\\tag{2}$\n",
        "  and $\\mathbf{w} \\cdot \\mathbf{x}$ is the vector dot product:\n",
        "  \n",
        "  $$\\mathbf{w} \\cdot \\mathbf{x} = w_0 x_0 + w_1 x_1$$\n",
        "  \n",
        "  \n",
        " * We interpret the output of the model ($f_{\\mathbf{w},b}(x)$) as the probability that $y=1$ given $\\mathbf{x}$ and parameterized by $\\mathbf{w}$ and $b$.\n",
        "* Therefore, to get a final prediction ($y=0$ or $y=1$) from the logistic regression model, we can use the following heuristic -\n",
        "\n",
        "  if $f_{\\mathbf{w},b}(x) >= 0.5$, predict $y=1$\n",
        "  \n",
        "  if $f_{\\mathbf{w},b}(x) < 0.5$, predict $y=0$\n",
        "  \n",
        "  \n",
        "* Let's plot the sigmoid function to see where $g(z) >= 0.5$"
      ]
    },
    {
      "cell_type": "code",
      "execution_count": 9,
      "id": "a73f3496",
      "metadata": {
        "id": "a73f3496",
        "outputId": "022a4022-f0b2-46a3-df84-e67f3bd95120",
        "colab": {
          "base_uri": "https://localhost:8080/",
          "height": 389,
          "referenced_widgets": [
            "abb3ba0a26e64286aef1ea4954ce65d5",
            "508d06d1295f46efbd9b2e5ce24154fb",
            "1974f4fda6f34eacb54c4ae2ebab923d",
            "6e4814890dc44c61816978cbebc8dbbb"
          ]
        }
      },
      "outputs": [
        {
          "output_type": "display_data",
          "data": {
            "text/plain": [
              "Canvas(toolbar=Toolbar(toolitems=[('Home', 'Reset original view', 'home', 'home'), ('Back', 'Back to previous …"
            ],
            "image/png": "[encoded data removed]",
            "text/html": [
              "\n",
              "            <div style=\"display: inline-block;\">\n",
              "                <div class=\"jupyter-widgets widget-label\" style=\"text-align: center;\">\n",
              "                    Figure\n",
              "                </div>\n",
              "                <img src='data:image/png;base64,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' width=500.0/>\n",
              "            </div>\n",
              "        "
            ],
            "application/vnd.jupyter.widget-view+json": {
              "version_major": 2,
              "version_minor": 0,
              "model_id": "abb3ba0a26e64286aef1ea4954ce65d5"
            }
          },
          "metadata": {
            "application/vnd.jupyter.widget-view+json": {
              "colab": {
                "custom_widget_manager": {
                  "url": "https://ssl.gstatic.com/colaboratory-static/widgets/colab-cdn-widget-manager/b3e629b1971e1542/manager.min.js"
                }
              }
            }
          }
        }
      ],
      "source": [
        "# Plot sigmoid(z) over a range of values from -10 to 10\n",
        "z = np.arange(-10,11)\n",
        "\n",
        "fig,ax = plt.subplots(1,1,figsize=(5,3))\n",
        "# Plot z vs sigmoid(z)\n",
        "ax.plot(z, sigmoid(z), c=\"b\")\n",
        "\n",
        "ax.set_title(\"Sigmoid function\")\n",
        "ax.set_ylabel('sigmoid(z)')\n",
        "ax.set_xlabel('z')\n",
        "draw_vthresh(ax,0)"
      ]
    },
    {
      "cell_type": "markdown",
      "id": "7b5bea62",
      "metadata": {
        "id": "7b5bea62"
      },
      "source": [
        "* As you can see, $g(z) >= 0.5$ for $z >=0$\n",
        "\n",
        "* For a logistic regression model, $z = \\mathbf{w} \\cdot \\mathbf{x} + b$. Therefore,\n",
        "\n",
        "  if $\\mathbf{w} \\cdot \\mathbf{x} + b >= 0$, the model predicts $y=1$\n",
        "  \n",
        "  if $\\mathbf{w} \\cdot \\mathbf{x} + b < 0$, the model predicts $y=0$\n",
        "  \n",
        "  \n",
        "  \n",
        "### Plotting decision boundary\n",
        "\n",
        "Now, let's go back to our example to understand how the logistic regression model is making predictions.\n",
        "\n",
        "* Our logistic regression model has the form\n",
        "\n",
        "  $f(\\mathbf{x}) = g(-3 + x_0+x_1)$\n",
        "\n",
        "\n",
        "* From what you've learnt above, you can see that this model predicts $y=1$ if $-3 + x_0+x_1 >= 0$\n",
        "\n",
        "Let's see what this looks like graphically. We'll start by plotting $-3 + x_0+x_1 = 0$, which is equivalent to $x_1 = 3 - x_0$.\n"
      ]
    },
    {
      "cell_type": "code",
      "execution_count": null,
      "id": "f3c4a990",
      "metadata": {
        "id": "f3c4a990",
        "outputId": "0e7ad26e-62fd-47f2-dba8-47a65264d266",
        "colab": {
          "base_uri": "https://localhost:8080/",
          "height": 382
        }
      },
      "outputs": [
        {
          "output_type": "display_data",
          "data": {
            "text/plain": [
              "<Figure size 500x400 with 1 Axes>"
            ],
            "image/png": "[encoded data removed]"
          },
          "metadata": {}
        }
      ],
      "source": [
        "# Choose values between 0 and 6\n",
        "x0 = np.arange(0,6)\n",
        "\n",
        "x1 = 3 - x0\n",
        "fig,ax = plt.subplots(1,1,figsize=(5,4))\n",
        "# Plot the decision boundary\n",
        "ax.plot(x0,x1, c=\"b\")\n",
        "ax.axis([0, 4, 0, 3.5])\n",
        "\n",
        "# Fill the region below the line\n",
        "ax.fill_between(x0,x1, alpha=0.2)\n",
        "\n",
        "# Plot the original data\n",
        "plot_data(X,y,ax)\n",
        "ax.set_ylabel(r'$x_1$')\n",
        "ax.set_xlabel(r'$x_0$')\n",
        "plt.show()"
      ]
    },
    {
      "cell_type": "markdown",
      "id": "dbb5b861",
      "metadata": {
        "id": "dbb5b861"
      },
      "source": [
        "* In the plot above, the blue line represents the line $x_0 + x_1 - 3 = 0$ and it should intersect the x1 axis at 3 (if we set $x_1$ = 3, $x_0$ = 0) and the x0 axis at 3 (if we set $x_1$ = 0, $x_0$ = 3). \n",
        "\n",
        "\n",
        "* The shaded region represents $-3 + x_0+x_1 < 0$. The region above the line is $-3 + x_0+x_1 > 0$.\n",
        "\n",
        "\n",
        "* Any point in the shaded region (under the line) is classified as $y=0$.  Any point on or above the line is classified as $y=1$. This line is known as the \"decision boundary\".\n",
        "\n",
        "As we've seen in the lectures, by using higher order polynomial terms (eg: $f(x) = g( x_0^2 + x_1 -1)$, we can come up with more complex non-linear boundaries."
      ]
    },
    {
      "cell_type": "markdown",
      "id": "cfde5655",
      "metadata": {
        "id": "cfde5655"
      },
      "source": []
    },
    {
      "cell_type": "code",
      "execution_count": null,
      "id": "40e0932c",
      "metadata": {
        "id": "40e0932c"
      },
      "outputs": [],
      "source": []
    },
    {
      "cell_type": "code",
      "execution_count": null,
      "id": "a2ef86f2",
      "metadata": {
        "id": "a2ef86f2"
      },
      "outputs": [],
      "source": []
    }
  ],
  "metadata": {
    "kernelspec": {
      "display_name": "Python 3 (ipykernel)",
      "language": "python",
      "name": "python3"
    },
    "language_info": {
      "codemirror_mode": {
        "name": "ipython",
        "version": 3
      },
      "file_extension": ".py",
      "mimetype": "text/x-python",
      "name": "python",
      "nbconvert_exporter": "python",
      "pygments_lexer": "ipython3",
      "version": "3.9.12"
    },
    "colab": {
      "provenance": []
    },
    "widgets": {
      "application/vnd.jupyter.widget-state+json": {
        "9f486f74c19946149be8d411328bb936": {
          "model_module": "jupyter-matplotlib",
          "model_name": "MPLCanvasModel",
          "model_module_version": "^0.11",
          "state": {
            "_cursor": "default",
            "_data_url": "data:image/png;base64,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",
            "_dom_classes": [],
            "_figure_label": "Figure 3",
            "_image_mode": "full",
            "_message": "",
            "_model_module": "jupyter-matplotlib",
            "_model_module_version": "^0.11",
            "_model_name": "MPLCanvasModel",
            "_rubberband_height": 0,
            "_rubberband_width": 0,
            "_rubberband_x": 0,
            "_rubberband_y": 0,
            "_size": [
              400,
              400
            ],
            "_view_count": null,
            "_view_module": "jupyter-matplotlib",
            "_view_module_version": "^0.11",
            "_view_name": "MPLCanvasView",
            "capture_scroll": false,
            "footer_visible": false,
            "header_visible": false,
            "layout": "IPY_MODEL_b8c419e0b31e4393bdc08317a8e754ae",
            "pan_zoom_throttle": 33,
            "resizable": true,
            "toolbar": "IPY_MODEL_3ae821d7519a443889a0874b49bbe0fe",
            "toolbar_position": "left",
            "toolbar_visible": false
          }
        },
        "b8c419e0b31e4393bdc08317a8e754ae": {
          "model_module": "@jupyter-widgets/base",
          "model_name": "LayoutModel",
          "model_module_version": "1.2.0",
          "state": {
            "_model_module": "@jupyter-widgets/base",
            "_model_module_version": "1.2.0",
            "_model_name": "LayoutModel",
            "_view_count": null,
            "_view_module": "@jupyter-widgets/base",
            "_view_module_version": "1.2.0",
            "_view_name": "LayoutView",
            "align_content": null,
            "align_items": null,
            "align_self": null,
            "border": null,
            "bottom": null,
            "display": null,
            "flex": null,
            "flex_flow": null,
            "grid_area": null,
            "grid_auto_columns": null,
            "grid_auto_flow": null,
            "grid_auto_rows": null,
            "grid_column": null,
            "grid_gap": null,
            "grid_row": null,
            "grid_template_areas": null,
            "grid_template_columns": null,
            "grid_template_rows": null,
            "height": null,
            "justify_content": null,
            "justify_items": null,
            "left": null,
            "margin": null,
            "max_height": null,
            "max_width": null,
            "min_height": null,
            "min_width": null,
            "object_fit": null,
            "object_position": null,
            "order": null,
            "overflow": null,
            "overflow_x": null,
            "overflow_y": null,
            "padding": null,
            "right": null,
            "top": null,
            "visibility": null,
            "width": null
          }
        },
        "3ae821d7519a443889a0874b49bbe0fe": {
          "model_module": "jupyter-matplotlib",
          "model_name": "ToolbarModel",
          "model_module_version": "^0.11",
          "state": {
            "_current_action": "",
            "_dom_classes": [],
            "_model_module": "jupyter-matplotlib",
            "_model_module_version": "^0.11",
            "_model_name": "ToolbarModel",
            "_view_count": null,
            "_view_module": "jupyter-matplotlib",
            "_view_module_version": "^0.11",
            "_view_name": "ToolbarView",
            "button_style": "",
            "collapsed": true,
            "layout": "IPY_MODEL_07b1b9e3b3894f59a3757173303aa47b",
            "orientation": "vertical",
            "toolitems": [
              [
                "Home",
                "Reset original view",
                "home",
                "home"
              ],
              [
                "Back",
                "Back to previous view",
                "arrow-left",
                "back"
              ],
              [
                "Forward",
                "Forward to next view",
                "arrow-right",
                "forward"
              ],
              [
                "Pan",
                "Left button pans, Right button zooms\nx/y fixes axis, CTRL fixes aspect",
                "arrows",
                "pan"
              ],
              [
                "Zoom",
                "Zoom to rectangle\nx/y fixes axis",
                "square-o",
                "zoom"
              ],
              [
                "Download",
                "Download plot",
                "floppy-o",
                "save_figure"
              ]
            ]
          }
        },
        "07b1b9e3b3894f59a3757173303aa47b": {
          "model_module": "@jupyter-widgets/base",
          "model_name": "LayoutModel",
          "model_module_version": "1.2.0",
          "state": {
            "_model_module": "@jupyter-widgets/base",
            "_model_module_version": "1.2.0",
            "_model_name": "LayoutModel",
            "_view_count": null,
            "_view_module": "@jupyter-widgets/base",
            "_view_module_version": "1.2.0",
            "_view_name": "LayoutView",
            "align_content": null,
            "align_items": null,
            "align_self": null,
            "border": null,
            "bottom": null,
            "display": null,
            "flex": null,
            "flex_flow": null,
            "grid_area": null,
            "grid_auto_columns": null,
            "grid_auto_flow": null,
            "grid_auto_rows": null,
            "grid_column": null,
            "grid_gap": null,
            "grid_row": null,
            "grid_template_areas": null,
            "grid_template_columns": null,
            "grid_template_rows": null,
            "height": null,
            "justify_content": null,
            "justify_items": null,
            "left": null,
            "margin": null,
            "max_height": null,
            "max_width": null,
            "min_height": null,
            "min_width": null,
            "object_fit": null,
            "object_position": null,
            "order": null,
            "overflow": null,
            "overflow_x": null,
            "overflow_y": null,
            "padding": null,
            "right": null,
            "top": null,
            "visibility": null,
            "width": null
          }
        },
        "abb3ba0a26e64286aef1ea4954ce65d5": {
          "model_module": "jupyter-matplotlib",
          "model_name": "MPLCanvasModel",
          "model_module_version": "^0.11",
          "state": {
            "_cursor": "default",
            "_data_url": "data:image/png;base64,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",
            "_dom_classes": [],
            "_figure_label": "Figure 4",
            "_image_mode": "full",
            "_message": "",
            "_model_module": "jupyter-matplotlib",
            "_model_module_version": "^0.11",
            "_model_name": "MPLCanvasModel",
            "_rubberband_height": 0,
            "_rubberband_width": 0,
            "_rubberband_x": 0,
            "_rubberband_y": 0,
            "_size": [
              500,
              300
            ],
            "_view_count": null,
            "_view_module": "jupyter-matplotlib",
            "_view_module_version": "^0.11",
            "_view_name": "MPLCanvasView",
            "capture_scroll": false,
            "footer_visible": true,
            "header_visible": true,
            "layout": "IPY_MODEL_508d06d1295f46efbd9b2e5ce24154fb",
            "pan_zoom_throttle": 33,
            "resizable": true,
            "toolbar": "IPY_MODEL_1974f4fda6f34eacb54c4ae2ebab923d",
            "toolbar_position": "left",
            "toolbar_visible": "fade-in-fade-out"
          }
        },
        "508d06d1295f46efbd9b2e5ce24154fb": {
          "model_module": "@jupyter-widgets/base",
          "model_name": "LayoutModel",
          "model_module_version": "1.2.0",
          "state": {
            "_model_module": "@jupyter-widgets/base",
            "_model_module_version": "1.2.0",
            "_model_name": "LayoutModel",
            "_view_count": null,
            "_view_module": "@jupyter-widgets/base",
            "_view_module_version": "1.2.0",
            "_view_name": "LayoutView",
            "align_content": null,
            "align_items": null,
            "align_self": null,
            "border": null,
            "bottom": null,
            "display": null,
            "flex": null,
            "flex_flow": null,
            "grid_area": null,
            "grid_auto_columns": null,
            "grid_auto_flow": null,
            "grid_auto_rows": null,
            "grid_column": null,
            "grid_gap": null,
            "grid_row": null,
            "grid_template_areas": null,
            "grid_template_columns": null,
            "grid_template_rows": null,
            "height": null,
            "justify_content": null,
            "justify_items": null,
            "left": null,
            "margin": null,
            "max_height": null,
            "max_width": null,
            "min_height": null,
            "min_width": null,
            "object_fit": null,
            "object_position": null,
            "order": null,
            "overflow": null,
            "overflow_x": null,
            "overflow_y": null,
            "padding": null,
            "right": null,
            "top": null,
            "visibility": null,
            "width": null
          }
        },
        "1974f4fda6f34eacb54c4ae2ebab923d": {
          "model_module": "jupyter-matplotlib",
          "model_name": "ToolbarModel",
          "model_module_version": "^0.11",
          "state": {
            "_current_action": "",
            "_dom_classes": [],
            "_model_module": "jupyter-matplotlib",
            "_model_module_version": "^0.11",
            "_model_name": "ToolbarModel",
            "_view_count": null,
            "_view_module": "jupyter-matplotlib",
            "_view_module_version": "^0.11",
            "_view_name": "ToolbarView",
            "button_style": "",
            "collapsed": true,
            "layout": "IPY_MODEL_6e4814890dc44c61816978cbebc8dbbb",
            "orientation": "vertical",
            "toolitems": [
              [
                "Home",
                "Reset original view",
                "home",
                "home"
              ],
              [
                "Back",
                "Back to previous view",
                "arrow-left",
                "back"
              ],
              [
                "Forward",
                "Forward to next view",
                "arrow-right",
                "forward"
              ],
              [
                "Pan",
                "Left button pans, Right button zooms\nx/y fixes axis, CTRL fixes aspect",
                "arrows",
                "pan"
              ],
              [
                "Zoom",
                "Zoom to rectangle\nx/y fixes axis",
                "square-o",
                "zoom"
              ],
              [
                "Download",
                "Download plot",
                "floppy-o",
                "save_figure"
              ]
            ]
          }
        },
        "6e4814890dc44c61816978cbebc8dbbb": {
          "model_module": "@jupyter-widgets/base",
          "model_name": "LayoutModel",
          "model_module_version": "1.2.0",
          "state": {
            "_model_module": "@jupyter-widgets/base",
            "_model_module_version": "1.2.0",
            "_model_name": "LayoutModel",
            "_view_count": null,
            "_view_module": "@jupyter-widgets/base",
            "_view_module_version": "1.2.0",
            "_view_name": "LayoutView",
            "align_content": null,
            "align_items": null,
            "align_self": null,
            "border": null,
            "bottom": null,
            "display": null,
            "flex": null,
            "flex_flow": null,
            "grid_area": null,
            "grid_auto_columns": null,
            "grid_auto_flow": null,
            "grid_auto_rows": null,
            "grid_column": null,
            "grid_gap": null,
            "grid_row": null,
            "grid_template_areas": null,
            "grid_template_columns": null,
            "grid_template_rows": null,
            "height": null,
            "justify_content": null,
            "justify_items": null,
            "left": null,
            "margin": null,
            "max_height": null,
            "max_width": null,
            "min_height": null,
            "min_width": null,
            "object_fit": null,
            "object_position": null,
            "order": null,
            "overflow": null,
            "overflow_x": null,
            "overflow_y": null,
            "padding": null,
            "right": null,
            "top": null,
            "visibility": null,
            "width": null
          }
        }
      }
    }
  },
  "nbformat": 4,
  "nbformat_minor": 5
}