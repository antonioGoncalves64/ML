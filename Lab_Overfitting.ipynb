{
  "cells": [
    {
      "cell_type": "markdown",
      "metadata": {
        "id": "oC_VOiJUgBI8"
      },
      "source": [
        "<h1 style=\"text-align: left; color:#52595D\"> Lab Overfitting  </h1>\n",
        "\n",
        "\n",
        "\n",
        "<figure>\n",
        "<img align=\"center\" src=\"https://github.com/antonioGoncalves64/ML/blob/main/images/robby.png?raw=1\"     style=\" width:250px; padding: 10px; \" >\n",
        "</figure>\n"
      ],
      "id": "oC_VOiJUgBI8"
    },
    {
      "cell_type": "markdown",
      "metadata": {
        "id": "94uUEId6gBI-"
      },
      "source": [
        "## Goals\n",
        "In this lab, you will explore:\n",
        "- the situations where overfitting can occur\n",
        "- some of the solutions"
      ],
      "id": "94uUEId6gBI-"
    },
    {
      "cell_type": "code",
      "source": [
        "!rm -r /content/ML\n",
        "!git clone https://github.com/antonioGoncalves64/ML \n",
        "!mv  /content/ML/* .\n",
        "\n",
        "!pip install -q ipympl"
      ],
      "metadata": {
        "id": "mwQyAIZTgCnE",
        "outputId": "267d0c36-0787-4b28-991a-d1e5d811880d",
        "colab": {
          "base_uri": "https://localhost:8080/"
        }
      },
      "id": "mwQyAIZTgCnE",
      "execution_count": null,
      "outputs": [
        {
          "output_type": "stream",
          "name": "stdout",
          "text": [
            "rm: cannot remove '/content/ML': No such file or directory\n",
            "Cloning into 'ML'...\n",
            "remote: Enumerating objects: 335, done.\u001b[K\n",
            "remote: Counting objects: 100% (143/143), done.\u001b[K\n",
            "remote: Compressing objects: 100% (111/111), done.\u001b[K\n",
            "remote: Total 335 (delta 63), reused 98 (delta 29), pack-reused 192\u001b[K\n",
            "Receiving objects: 100% (335/335), 10.36 MiB | 28.60 MiB/s, done.\n",
            "Resolving deltas: 100% (150/150), done.\n"
          ]
        }
      ]
    },
    {
      "cell_type": "code",
      "execution_count": null,
      "metadata": {
        "id": "zNJt3PsggBI_",
        "outputId": "f39b8fdd-c603-4ffb-b2ec-c55d4c1295ce",
        "colab": {
          "base_uri": "https://localhost:8080/",
          "height": 471
        }
      },
      "outputs": [
        {
          "output_type": "error",
          "ename": "ImportError",
          "evalue": "ignored",
          "traceback": [
            "\u001b[0;31m---------------------------------------------------------------------------\u001b[0m",
            "\u001b[0;31mImportError\u001b[0m                               Traceback (most recent call last)",
            "\u001b[0;32m<ipython-input-4-f3bcc0000dd4>\u001b[0m in \u001b[0;36m<cell line: 4>\u001b[0;34m()\u001b[0m\n\u001b[1;32m      2\u001b[0m \u001b[0;32mimport\u001b[0m \u001b[0mmatplotlib\u001b[0m\u001b[0;34m.\u001b[0m\u001b[0mpyplot\u001b[0m \u001b[0;32mas\u001b[0m \u001b[0mplt\u001b[0m\u001b[0;34m\u001b[0m\u001b[0;34m\u001b[0m\u001b[0m\n\u001b[1;32m      3\u001b[0m \u001b[0;32mfrom\u001b[0m \u001b[0mipywidgets\u001b[0m \u001b[0;32mimport\u001b[0m \u001b[0mOutput\u001b[0m\u001b[0;34m\u001b[0m\u001b[0;34m\u001b[0m\u001b[0m\n\u001b[0;32m----> 4\u001b[0;31m \u001b[0;32mfrom\u001b[0m \u001b[0mplt_overfit\u001b[0m \u001b[0;32mimport\u001b[0m \u001b[0moverfit_example\u001b[0m\u001b[0;34m,\u001b[0m \u001b[0moutput\u001b[0m\u001b[0;34m\u001b[0m\u001b[0;34m\u001b[0m\u001b[0m\n\u001b[0m\u001b[1;32m      5\u001b[0m \u001b[0mplt\u001b[0m\u001b[0;34m.\u001b[0m\u001b[0mstyle\u001b[0m\u001b[0;34m.\u001b[0m\u001b[0muse\u001b[0m\u001b[0;34m(\u001b[0m\u001b[0;34m'./deeplearning.mplstyle'\u001b[0m\u001b[0;34m)\u001b[0m\u001b[0;34m\u001b[0m\u001b[0;34m\u001b[0m\u001b[0m\n",
            "\u001b[0;32m/content/plt_overfit.py\u001b[0m in \u001b[0;36m<module>\u001b[0;34m\u001b[0m\n\u001b[1;32m      8\u001b[0m \u001b[0;32mfrom\u001b[0m \u001b[0mmatplotlib\u001b[0m\u001b[0;34m.\u001b[0m\u001b[0mwidgets\u001b[0m \u001b[0;32mimport\u001b[0m \u001b[0mButton\u001b[0m\u001b[0;34m,\u001b[0m \u001b[0mCheckButtons\u001b[0m\u001b[0;34m\u001b[0m\u001b[0;34m\u001b[0m\u001b[0m\n\u001b[1;32m      9\u001b[0m \u001b[0;32mfrom\u001b[0m \u001b[0msklearn\u001b[0m\u001b[0;34m.\u001b[0m\u001b[0mlinear_model\u001b[0m \u001b[0;32mimport\u001b[0m \u001b[0mLogisticRegression\u001b[0m\u001b[0;34m,\u001b[0m \u001b[0mRidge\u001b[0m\u001b[0;34m\u001b[0m\u001b[0;34m\u001b[0m\u001b[0m\n\u001b[0;32m---> 10\u001b[0;31m \u001b[0;32mfrom\u001b[0m \u001b[0mlab_utils_common\u001b[0m \u001b[0;32mimport\u001b[0m \u001b[0mnp\u001b[0m\u001b[0;34m,\u001b[0m \u001b[0mplt\u001b[0m\u001b[0;34m,\u001b[0m \u001b[0mdlc\u001b[0m\u001b[0;34m,\u001b[0m \u001b[0mpredict_logistic\u001b[0m\u001b[0;34m,\u001b[0m \u001b[0mplot_data\u001b[0m\u001b[0;34m,\u001b[0m \u001b[0mzscore_normalize_features\u001b[0m\u001b[0;34m\u001b[0m\u001b[0;34m\u001b[0m\u001b[0m\n\u001b[0m\u001b[1;32m     11\u001b[0m \u001b[0;34m\u001b[0m\u001b[0m\n\u001b[1;32m     12\u001b[0m \u001b[0;32mdef\u001b[0m \u001b[0mmap_one_feature\u001b[0m\u001b[0;34m(\u001b[0m\u001b[0mX1\u001b[0m\u001b[0;34m,\u001b[0m \u001b[0mdegree\u001b[0m\u001b[0;34m)\u001b[0m\u001b[0;34m:\u001b[0m\u001b[0;34m\u001b[0m\u001b[0;34m\u001b[0m\u001b[0m\n",
            "\u001b[0;31mImportError\u001b[0m: cannot import name 'predict_logistic' from 'lab_utils_common' (/content/lab_utils_common.py)",
            "",
            "\u001b[0;31m---------------------------------------------------------------------------\u001b[0;32m\nNOTE: If your import is failing due to a missing package, you can\nmanually install dependencies using either !pip or !apt.\n\nTo view examples of installing some common dependencies, click the\n\"Open Examples\" button below.\n\u001b[0;31m---------------------------------------------------------------------------\u001b[0m\n"
          ],
          "errorDetails": {
            "actions": [
              {
                "action": "open_url",
                "actionText": "Open Examples",
                "url": "/notebooks/snippets/importing_libraries.ipynb"
              }
            ]
          }
        }
      ],
      "source": [
        "%matplotlib widget\n",
        "import matplotlib.pyplot as plt\n",
        "from ipywidgets import Output\n",
        "from plt_overfit import overfit_example, output\n",
        "plt.style.use('./deeplearning.mplstyle')"
      ],
      "id": "zNJt3PsggBI_"
    },
    {
      "cell_type": "markdown",
      "metadata": {
        "id": "haMYi6mggBJB"
      },
      "source": [
        "# Overfitting\n",
        "The week's lecture described situations where overfitting can arise. Run the cell below to generate a plot that will allow you to explore overfitting. There are further instructions below the cell."
      ],
      "id": "haMYi6mggBJB"
    },
    {
      "cell_type": "code",
      "execution_count": null,
      "metadata": {
        "id": "X69BQv93gBJC"
      },
      "outputs": [],
      "source": [
        "plt.close(\"all\")\n",
        "display(output)\n",
        "ofit = overfit_example(False)"
      ],
      "id": "X69BQv93gBJC"
    },
    {
      "cell_type": "markdown",
      "metadata": {
        "id": "5oO0-QPzgBJC"
      },
      "source": [
        "In the plot above you can:\n",
        "- switch between Regression and Categorization examples\n",
        "- add data\n",
        "- select the degree of the model\n",
        "- fit the model to the data  \n",
        "\n",
        "Here are some things you should try:\n",
        "- Fit the data with degree = 1; Note 'underfitting'.\n",
        "- Fit the data with degree = 6; Note 'overfitting'\n",
        "- tune degree to get the 'best fit'\n",
        "- add data:\n",
        "    - extreme examples can increase overfitting (assuming they are outliers).\n",
        "    - nominal examples can reduce overfitting\n",
        "- switch between `Regression` and `Categorical` to try both examples.\n",
        "\n",
        "To reset the plot, re-run the cell. Click slowly to allow the plot to update before receiving the next click.\n",
        "\n",
        "Notes on implementations:\n",
        "- the 'ideal' curves represent the generator model to which noise was added to achieve the data set\n",
        "- 'fit' does not use pure gradient descent to improve speed. These methods can be used on smaller data sets. "
      ],
      "id": "5oO0-QPzgBJC"
    },
    {
      "cell_type": "markdown",
      "metadata": {
        "id": "_Vc4xQp8gBJD"
      },
      "source": [
        "## Congratulations!\n",
        "You have developed some intuition about the causes and solutions to overfitting. In the next lab, you will explore a commonly used solution, Regularization."
      ],
      "id": "_Vc4xQp8gBJD"
    },
    {
      "cell_type": "code",
      "execution_count": null,
      "metadata": {
        "id": "2cxKMZ47gBJE"
      },
      "outputs": [],
      "source": [],
      "id": "2cxKMZ47gBJE"
    }
  ],
  "metadata": {
    "kernelspec": {
      "display_name": "Python 3",
      "language": "python",
      "name": "python3"
    },
    "language_info": {
      "codemirror_mode": {
        "name": "ipython",
        "version": 3
      },
      "file_extension": ".py",
      "mimetype": "text/x-python",
      "name": "python",
      "nbconvert_exporter": "python",
      "pygments_lexer": "ipython3",
      "version": "3.8.10"
    },
    "colab": {
      "provenance": []
    }
  },
  "nbformat": 4,
  "nbformat_minor": 5
}