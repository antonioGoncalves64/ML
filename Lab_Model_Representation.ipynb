{
  "cells": [
    {
      "cell_type": "markdown",
<<<<<<< HEAD
      "source": [
        "<h1 style=\"text-align: left; color:#52595D\"> ML Lab: Linear Regression with one  Variable  </h1>\n",
        "\n",
        "<img src=\"images/robby.png\" alt=\"drawing\" width=\"200\"/>"
      ],
      "metadata": {},
      "id": "d9dabad5"
    },
    {
      "cell_type": "markdown",
      "source": [
        "## Goals\n",
        "In this lab you will:\n",
        "- Learn to implement the model $f_{w,b}$ for linear regression with one variable"
      ],
      "metadata": {},
      "id": "9632d387"
    },
    {
      "cell_type": "markdown",
      "source": [
        "## Tools\n",
        "In this lab you will make use of: \n",
        "- NumPy, a popular library for scientific computing\n",
        "- Matplotlib, a popular library for plotting data"
      ],
      "metadata": {},
      "id": "c5aed168"
    },
    {
      "cell_type": "code",
      "source": [
        "import numpy as np\n",
        "import matplotlib.pyplot as plt\n",
        "plt.style.use('./utils/deeplearning.mplstyle')"
      ],
      "outputs": [],
      "execution_count": 1,
      "metadata": {},
      "id": "e4a6261a"
    },
    {
      "cell_type": "markdown",
      "source": [
        "# Problem Statement\n",
        "\n",
        "\n",
        "This lab will use a simple data set with only two data points - a house with 1000 square feet(sqft) sold for \\\\$300,000 and a house with 2000 square feet sold for \\\\$500,000. These two points will constitute our *data or training set*. In this lab, the units of size are 1000 sqft and the units of price are 1000s of dollars.\n",
        "\n",
        "| Size (1000 sqft)     | Price (1000s of dollars) |\n",
        "| -------------------| ------------------------ |\n",
        "| 1.0               | 300                      |\n",
        "| 2.0               | 500                      |\n",
        "\n",
        "You would like to fit a linear regression model (shown above as the blue straight line) through these two points, so you can then predict price for other houses - say, a house with 1200 sqft.\n"
      ],
      "metadata": {},
      "id": "35f3c2f4"
    },
    {
      "cell_type": "markdown",
      "source": [
        "#### Please run the following code cell to create your `x_train` and `y_train` variables. The data is stored in one-dimensional NumPy arrays."
      ],
      "metadata": {},
      "id": "635367f0"
    },
    {
      "cell_type": "code",
      "source": [
        "# x_train is the input variable (size in 1000 square feet)\n",
        "# y_train is the target (price in 1000s of dollars)\n",
        "x_train = np.array([1.0, 2.0])\n",
        "y_train = np.array([300.0, 500.0])\n",
        "print(f\"x_train = {x_train}\")\n",
        "print(f\"y_train = {y_train}\")"
      ],
=======
      "metadata": {
        "id": "view-in-github",
        "colab_type": "text"
      },
      "source": [
        "<a href=\"https://colab.research.google.com/github/antonioGoncalves64/ML/blob/main/Lab_Model_Representation.ipynb\" target=\"_parent\"><img src=\"https://colab.research.google.com/assets/colab-badge.svg\" alt=\"Open In Colab\"/></a>"
      ]
    },
    {
      "cell_type": "markdown",
      "id": "d9dabad5",
      "metadata": {
        "id": "d9dabad5"
      },
      "source": [
        "<h1 style=\"text-align: left; color:#52595D\"> ML Lab: Linear Regression with one  Variable  </h1>\n",
        "<figure>\n",
        "<img src=\"https://github.com/antonioGoncalves64/ML/blob/main/images/robby.png?raw=1\" alt=\"drawing\" width=\"200\"/>"
      ]
    },
    {
      "cell_type": "markdown",
      "id": "9632d387",
      "metadata": {
        "id": "9632d387"
      },
      "source": [
        "## Goals\n",
        "In this lab you will:\n",
        "- Learn to implement the model $f_{w,b}$ for linear regression with one variable"
      ]
    },
    {
      "cell_type": "markdown",
      "id": "c5aed168",
      "metadata": {
        "id": "c5aed168"
      },
      "source": [
        "## Tools\n",
        "In this lab you will make use of: \n",
        "- NumPy, a popular library for scientific computing\n",
        "- Matplotlib, a popular library for plotting data"
      ]
    },
    {
      "cell_type": "code",
      "execution_count": null,
      "id": "e4a6261a",
      "metadata": {
        "id": "e4a6261a"
      },
      "outputs": [],
      "source": [
        "import numpy as np\n",
        "import matplotlib.pyplot as plt\n",
        "#plt.style.use('deeplearning.mplstyle')"
      ]
    },
    {
      "cell_type": "markdown",
      "id": "35f3c2f4",
      "metadata": {
        "id": "35f3c2f4"
      },
      "source": [
        "# Problem Statement\n",
        "\n",
        "\n",
        "This lab will use a simple data set with only two data points - a house with 1000 square feet(sqft) sold for \\\\$300,000 and a house with 2000 square feet sold for \\\\$500,000. These two points will constitute our *data or training set*. In this lab, the units of size are 1000 sqft and the units of price are 1000s of dollars.\n",
        "\n",
        "| Size (1000 sqft)     | Price (1000s of dollars) |\n",
        "| -------------------| ------------------------ |\n",
        "| 1.0               | 300                      |\n",
        "| 2.0               | 500                      |\n",
        "\n",
        "You would like to fit a linear regression model (shown above as the blue straight line) through these two points, so you can then predict price for other houses - say, a house with 1200 sqft.\n"
      ]
    },
    {
      "cell_type": "markdown",
      "id": "635367f0",
      "metadata": {
        "id": "635367f0"
      },
      "source": [
        "#### Please run the following code cell to create your `x_train` and `y_train` variables. The data is stored in one-dimensional NumPy arrays."
      ]
    },
    {
      "cell_type": "code",
      "execution_count": null,
      "id": "eef47687",
      "metadata": {
        "id": "eef47687",
        "outputId": "8c3af576-e0da-4aa4-f551-56d2bbda3645",
        "colab": {
          "base_uri": "https://localhost:8080/"
        }
      },
>>>>>>> f2adcd5d8fa8db8c0b09e0bc450fd68b39e2f1f7
      "outputs": [
        {
          "output_type": "stream",
          "name": "stdout",
          "text": [
            "x_train = [1. 2.]\n",
            "y_train = [300. 500.]\n"
          ]
        }
      ],
<<<<<<< HEAD
      "execution_count": 2,
      "metadata": {},
      "id": "eef47687"
    },
    {
      "cell_type": "markdown",
      "source": [
        ">**Note**: The python 'f-string' output formatting described [here](https://docs.python.org/3/tutorial/inputoutput.html) when printing. The content between the curly braces is evaluated when producing the output."
      ],
      "metadata": {},
      "id": "5f05802a"
    },
    {
      "cell_type": "markdown",
      "source": [
        "### Number of training examples `m`\n",
        "You will use `m` to denote the number of training examples. Numpy arrays have a `.shape` parameter. `x_train.shape` returns a python tuple with an entry for each dimension. `x_train.shape[0]` is the length of the array and number of examples as shown below."
      ],
      "metadata": {},
      "id": "53e2ef50"
    },
    {
      "cell_type": "code",
      "source": [
        "# m is the number of training examples\n",
        "print(f\"x_train.shape: {x_train.shape}\")\n",
        "m = x_train.shape[0]\n",
        "print(f\"Number of training examples is: {m}\")"
      ],
=======
      "source": [
        "# x_train is the input variable (size in 1000 square feet)\n",
        "# y_train is the target (price in 1000s of dollars)\n",
        "x_train = np.array([1.0, 2.0])\n",
        "y_train = np.array([300.0, 500.0])\n",
        "print(f\"x_train = {x_train}\")\n",
        "print(f\"y_train = {y_train}\")"
      ]
    },
    {
      "cell_type": "markdown",
      "id": "5f05802a",
      "metadata": {
        "id": "5f05802a"
      },
      "source": [
        ">**Note**: The python 'f-string' output formatting described [here](https://docs.python.org/3/tutorial/inputoutput.html) when printing. The content between the curly braces is evaluated when producing the output."
      ]
    },
    {
      "cell_type": "markdown",
      "id": "53e2ef50",
      "metadata": {
        "id": "53e2ef50"
      },
      "source": [
        "### Number of training examples `m`\n",
        "You will use `m` to denote the number of training examples. Numpy arrays have a `.shape` parameter. `x_train.shape` returns a python tuple with an entry for each dimension. `x_train.shape[0]` is the length of the array and number of examples as shown below."
      ]
    },
    {
      "cell_type": "code",
      "execution_count": null,
      "id": "e7d764d3",
      "metadata": {
        "id": "e7d764d3",
        "outputId": "3c6eb06a-ac8b-4df8-9990-e714a26ec7ee",
        "colab": {
          "base_uri": "https://localhost:8080/"
        }
      },
>>>>>>> f2adcd5d8fa8db8c0b09e0bc450fd68b39e2f1f7
      "outputs": [
        {
          "output_type": "stream",
          "name": "stdout",
          "text": [
            "x_train.shape: (2,)\n",
            "Number of training examples is: 2\n"
          ]
        }
      ],
<<<<<<< HEAD
      "execution_count": 3,
      "metadata": {},
      "id": "e7d764d3"
    },
    {
      "cell_type": "code",
      "source": [
        "\n"
      ],
      "outputs": [],
      "execution_count": null,
      "metadata": {},
      "id": "6cb9af7f"
    },
    {
      "cell_type": "markdown",
      "source": [
        "One can also use the Python `len()` function as shown below."
      ],
      "metadata": {},
      "id": "2d3b8462"
    },
    {
      "cell_type": "code",
      "source": [
        "# m is the number of training examples\n",
        "m = len(x_train)\n",
        "print(f\"Number of training examples is: {m}\")"
      ],
=======
      "source": [
        "# m is the number of training examples\n",
        "print(f\"x_train.shape: {x_train.shape}\")\n",
        "m = x_train.shape[0]\n",
        "print(f\"Number of training examples is: {m}\")"
      ]
    },
    {
      "cell_type": "code",
      "execution_count": null,
      "id": "6cb9af7f",
      "metadata": {
        "id": "6cb9af7f"
      },
      "outputs": [],
      "source": [
        "\n"
      ]
    },
    {
      "cell_type": "markdown",
      "id": "2d3b8462",
      "metadata": {
        "id": "2d3b8462"
      },
      "source": [
        "One can also use the Python `len()` function as shown below."
      ]
    },
    {
      "cell_type": "code",
      "execution_count": null,
      "id": "198c954e",
      "metadata": {
        "id": "198c954e",
        "outputId": "b824f841-b8ba-4b64-b435-36a133c14797",
        "colab": {
          "base_uri": "https://localhost:8080/"
        }
      },
>>>>>>> f2adcd5d8fa8db8c0b09e0bc450fd68b39e2f1f7
      "outputs": [
        {
          "output_type": "stream",
          "name": "stdout",
          "text": [
            "Number of training examples is: 2\n"
          ]
        }
      ],
<<<<<<< HEAD
      "execution_count": 4,
      "metadata": {},
      "id": "198c954e"
    },
    {
      "cell_type": "markdown",
=======
      "source": [
        "# m is the number of training examples\n",
        "m = len(x_train)\n",
        "print(f\"Number of training examples is: {m}\")"
      ]
    },
    {
      "cell_type": "markdown",
      "id": "9c994009",
      "metadata": {
        "id": "9c994009"
      },
>>>>>>> f2adcd5d8fa8db8c0b09e0bc450fd68b39e2f1f7
      "source": [
        "### Training example `x_i, y_i`\n",
        "\n",
        "You will use (x$^{(i)}$, y$^{(i)}$) to denote the $i^{th}$ training example. Since Python is zero indexed, (x$^{(0)}$, y$^{(0)}$) is (1.0, 300.0) and (x$^{(1)}$, y$^{(1)}$) is (2.0, 500.0). \n",
        "\n",
        "To access a value in a Numpy array, one indexes the array with the desired offset. For example the syntax to access location zero of `x_train` is `x_train[0]`.\n",
        "Run the next code block below to get the $i^{th}$ training example."
<<<<<<< HEAD
      ],
      "metadata": {},
      "id": "9c994009"
    },
    {
      "cell_type": "code",
      "source": [
        "i = 0 # Change this to 1 to see (x^1, y^1)\n",
        "\n",
        "x_i = x_train[i]\n",
        "y_i = y_train[i]\n",
        "print(f\"(x^({i}), y^({i})) = ({x_i}, {y_i})\")"
      ],
=======
      ]
    },
    {
      "cell_type": "code",
      "execution_count": null,
      "id": "c0fc8091",
      "metadata": {
        "id": "c0fc8091",
        "outputId": "08af34c1-aac2-47c1-ae04-bf373c1514be",
        "colab": {
          "base_uri": "https://localhost:8080/"
        }
      },
>>>>>>> f2adcd5d8fa8db8c0b09e0bc450fd68b39e2f1f7
      "outputs": [
        {
          "output_type": "stream",
          "name": "stdout",
          "text": [
            "(x^(0), y^(0)) = (1.0, 300.0)\n"
          ]
        }
      ],
<<<<<<< HEAD
      "execution_count": 5,
      "metadata": {},
      "id": "c0fc8091"
    },
    {
      "cell_type": "markdown",
      "source": [
        "### Plotting the data"
      ],
      "metadata": {},
      "id": "3da9d5a5"
    },
    {
      "cell_type": "markdown",
=======
      "source": [
        "i = 0 # Change this to 1 to see (x^1, y^1)\n",
        "\n",
        "x_i = x_train[i]\n",
        "y_i = y_train[i]\n",
        "print(f\"(x^({i}), y^({i})) = ({x_i}, {y_i})\")"
      ]
    },
    {
      "cell_type": "markdown",
      "id": "3da9d5a5",
      "metadata": {
        "id": "3da9d5a5"
      },
      "source": [
        "### Plotting the data"
      ]
    },
    {
      "cell_type": "markdown",
      "id": "99c4f04e",
      "metadata": {
        "id": "99c4f04e"
      },
>>>>>>> f2adcd5d8fa8db8c0b09e0bc450fd68b39e2f1f7
      "source": [
        "You can plot these two points using the `scatter()` function in the `matplotlib` library, as shown in the cell below. \n",
        "- The function arguments `marker` and `c` show the points as red crosses (the default is blue dots).\n",
        "\n",
        "You can use other functions in the `matplotlib` library to set the title and labels to display"
<<<<<<< HEAD
      ],
      "metadata": {},
      "id": "99c4f04e"
    },
    {
      "cell_type": "code",
=======
      ]
    },
    {
      "cell_type": "code",
      "execution_count": null,
      "id": "6a145188",
      "metadata": {
        "id": "6a145188",
        "outputId": "78e3e813-5769-418e-9cd8-62fbae8338a2",
        "colab": {
          "base_uri": "https://localhost:8080/",
          "height": 295
        }
      },
      "outputs": [
        {
          "output_type": "display_data",
          "data": {
            "text/plain": [
              "<Figure size 432x288 with 1 Axes>"
            ],
            "image/png": "iVBORw0KGgoAAAANSUhEUgAAAYUAAAEWCAYAAACJ0YulAAAAOXRFWHRTb2Z0d2FyZQBNYXRwbG90bGliIHZlcnNpb24zLjUuMywgaHR0cHM6Ly9tYXRwbG90bGliLm9yZy/NK7nSAAAACXBIWXMAAAsTAAALEwEAmpwYAAAhY0lEQVR4nO3de5xdVX338c/XEAQrEC7zyCVAqIAIKhHHAAUsRqmACNQChoqghVeqpW3EVi6tVfBWePpI5CLSFASsKPAoAiJRKZCKVcAA4S6SB6QQoRki4X4L+T5/7DUnJ+PMnJ0w5xxm5vt+vc7r7L3W2nv/duB1frP32nst2SYiIgLgNd0OICIiXj2SFCIioiFJISIiGpIUIiKiIUkhIiIakhQiIqIhSSGiBUlnS/qnV0Ece0i6t9txxNimvKcQo4Wk3wBH2f6PprKPlrLduxXX6pI0BXgAeKYUPQacbfvkrgUV494a3Q4gIphke5mkXYFrJC2w/aPmBpLWsL2sS/HFOJLbRzGmSHqzpHmSlkq6S9L+TXXzJB3VtP5RST8ry5I0W9JiSU9KukPSW0rd+ZK+WJb3lPSwpL8rbR+R9LGmfW4o6QdlH7+U9MX+Y7Ri+xfAXcBbmo5znKRHgfP6y5qOtbmkSyX1SVoi6cymur+QdI+kxyX9WNKWrc4zApIUYgyRNBH4AfAT4H8BfwNcKOlNNTb/E+BdwLbAesAhwJIh2m5c2mwGHAl8TdL6pe5rVLeDNgaOKJ86sUvSbsAOwK1Nx9kA2BKYOaD9BOBK4EFgSonlolJ3APAPwAeBHuB64DurcZ4xDiUpxGhzWbkKWCppKXBWU90uwOuBk22/aPtaqh/OQ2vs9yVgHWA7qr62e2w/Mkzbz9t+yfZVwNPAm8oP9Z8Bn7P9rO27gQtqHPsx4HfAOcDxtq8p5cvLvl6w/dyAbaYBmwKftv2M7edt91+RfBz453IOy4AvA1PL1cKqnGeMQ0kKMdocaHtS/wf4q6a6TYGHbC9vKnuQ6q/oYZUEcibVX/qLJc2RtO4QzZcMuL//LFUy6qHqp3uoqa55eSgb2V7f9pttn95U3mf7+SG22Rx4cIh+hi2B05oS5+8AAZut4nnGOJSkEGPJb4HNJTX/f70FsKgsPwO8rqlu4+aNbZ9u+x3A9lS3Vz69isfvA5YBk5vKNl/FfawU0jB1DwFbSBrsYZGHgL9sTp6217b9cxiR84wxLEkhxpIbqf5qP1bSREl7Ah+g3GsHFgAflPQ6SVtT9QcAIOmdknYu/RLPAM9T3b6pzfbLwKXAieUY2wGHv7JTGtJNwCPAyZL+QNJapU8C4GzgBEk7AEhaT9LBZfkVn2eMbUkKMWbYfpEqCexDdZ/+LOBw278qTWYDLwL/Q3Wv/8KmzdcF/g14nOqW0xLgX1YjjL+m6sB9FPh3qg7eF1ZjP8MqCegDwNbAfwMPAx8qdd8HTgEukvQkcCfVvwmM3HnGGJWX1yLaSNIpwMa2az2FFNFtuVKIGEGStpP0tvKI6TSqW1Tf73ZcEXXljeaIkbUO1S2jTaluU30FuLyrEUWsgtw+ioiIhtw+ioiIhlF9+2ijjTbylClTuh1GRMSocvPNNz9mu2ewulGdFKZMmcL8+fO7HUZExKgi6cGh6nL7KCIiGpIUIiKiIUkhIiIakhQiIqIhSSEiYjQZ+G7ZCL9r1takIOk3Zbq/BZLml7INJF0t6b7yvX4pl6TTJS2UdLukndoZW0TEqHPiiXDMMSsSgV2tn3jiiB2iE1cK77Y91XZvWT8euMb2NsA1ZR2qURy3KZ+ZwNc7EFtExOhgw9KlcNppKxLDMcdU60uXjtgVQzfeUzgA2LMsXwDMA44r5d90Ne7GDZImSdokUwVGRAASzJ5dLZ92WvUBmDWrKpdG5DDtvlIw8BNJN0vqn3j8DU0/9I8CbyjLm7Hy1IUPM8g0ipJmSpovaX5fX1+74o6IePVpTgz9RjAhQPuTwu62d6K6NXS0pHc1V5arglW65rE9x3av7d6enkHf0o6IGJv6bxk1a+5jGAFtTQq2F5XvxVRjyk8D/kfSJgDle3FpvoiV57OdzIq5dSMixrfmPoRZs2D58uq7uY9hBLQtKZR5Y9fpXwb+hGpawCuA/lmojmDFWPNXAIeXp5B2AZ5If0JERCHBpEkr9yHMnl2tT5o0YreQ2jafgqQ/ZMWMU2sA37b9JUkbApcAW1DNEXuI7d9JEnAmsDfV5Osfsz3saHe9vb3OgHgRMa7YKyeAges1SLq56YnQlbTt6SPb9wM7DlK+BHjPIOUGjm5XPBERY8LABDCCncyQN5ojIqJJkkJERDQkKUREREOSQkRENCQpREREQ5JCREQ0JClERERDkkJERDQkKUREREOSQkRENCQpREREQ5JCREQ0JClERERDkkJERDQkKUREREOSQkRENLQ9KUiaIOlWSVeW9eslLSif30q6rJTvKemJprrPtju2iIhYWdtmXmsyC7gHWBfA9h79FZK+x4o5mgGut71fB2KKiIhBtPVKQdJk4P3AOYPUrQtMBy5rZwwREVFfu28ffRU4Flg+SN2BwDW2n2wq21XSbZLmStphsB1KmilpvqT5fX19Ix5wRMR41rakIGk/YLHtm4docijwnab1W4Atbe8InMEQVxC259jutd3b09MzkiFHRIx77bxS2A3YX9JvgIuA6ZK+BSBpI2Aa8MP+xraftP10Wb4KmFjaRUREh7QtKdg+wfZk21OAGcC1tg8r1QcBV9p+vr+9pI0lqSxPK7EtaVd8ERHx+zrx9NFgZgAnDyg7CPiEpGXAc8AM2+54ZBER41hHkoLtecC8pvU9B2lzJnBmJ+KJiIjB5Y3miIhoSFKIiIiGJIWIiGhIUoiIiIYkhYiIaEhSiIiIhiSFiIhoaPmeQhnpdAawB7Ap1Ytld1INUTHX9mCD3UVExCg0bFKQdB6wGXAlcAqwGFgL2BbYG/hHScfb/mm7A42IiPZrdaXwFdt3DlJ+J3CppDWBLUY+rIiI6IZh+xQGSwiS1pf0tlL/ou2F7QouIiI6q1ZHs6R5ktaVtAHVvAf/Jml2e0OLiIhOq/v00XplhrQPAt+0vTPwnvaFFRER3VA3KawhaRPgEKpO54iIGIPqJoWTgB8DC23/UtIfAve1L6yIiOiGOu8pTAA2t/22/jLb9wN/1s7AIiKi81peKdh+GTh0dQ8gaYKkWyVdWdbPl/SApAXlM7WUS9LpkhZKul3STqt7zIiIWD11Z177L0lnAhcDz/QX2r6lxrazgHuAdZvKPm37uwPa7QNsUz47A18v3xER0SF1k8LU8v35pjID04fbqAyR8X7gS8CnWhzjAKonmwzcIGmSpE1sP1IzxoiIeIVqJQXb717N/X8VOBZYZ0D5lyR9FrgGON72C1TDaTzU1ObhUrZSUpA0E5gJsMUWeZk6ImIk1b1SQNL7gR2oxj4CwPbnh2m/H7DY9s2S9myqOgF4FFgTmAMcx8pXIMOyPadsR29vr+tuFxERrdV9o/ls4EPA3wACDga2bLHZbsD+kn4DXARMl/Qt24+48gJwHjCttF8EbN60/eRSFhERHVL3PYU/sn048Ljtk4BdqUZKHZLtE2xPtj2Faujta20fVl6CQ5KAA6kG1wO4Aji8PIW0C/BE+hMiIjqr7u2j58r3s5I2BZYAm6zmMS+U1EN1xbEA+HgpvwrYF1gIPAt8bDX3HxERq6luUrhS0iTgX6gGxDNwTt2D2J4HzCvLgz6xVJ46OrruPiMiYuTVffroC2Xxe+UltLVsP9G+sCIiohtazbz2wWHqsH3pyIcUERHd0upK4QPD1BlIUoiIGEOGTQq209kbETGOtLp9NOzQFLZPHdlwIiKim1rdPho4PEVERIxhrW4fndSpQCIiovvqDnMxWdL3JS0un++VEVAjImIMqTvMxXlUw1BsWj4/KGURETGG1E0KPbbPs72sfM4HetoYV0REdEHdpLBE0mFlas0Jkg6jGv8oIiLGkLpJ4S+AQ6jmQXgEOIgMWBcRMebUHfvoQWD/NscSERFd1urltTOohrMYlO2/HfGIIiKia1rdPpoP3Ew1BedOwH3lM5VqOs2IiBhDWr28dgGApE8Au9teVtbPBq6vcwBJE6iSyyLb+0m6EOgFXgJuAv7S9ktlHufLgQfKppcONwd0RESMvLodzesD6zatv76U1TELuKdp/UJgO+CtwNrAUU1119ueWj5JCBERHVY3KZwM3CrpfEkXUM2+9uVWG5W3nt9P0yxttq9yQXWlkDejIyJeJWolBdvnATsD36eaQ2HX/ltLLXwVOBZYPrBC0kTgI8CPmop3lXSbpLmSdhhsh5JmSpovaX5fX1+d8CMioqa6VwrYftT25eXzaKv2kvYDFtu+eYgmZwE/td3fN3ELsKXtHYEzgMuGiGOO7V7bvT09eak6ImIk1U4Kq2E3YH9JvwEuAqZL+haApM9RDZPRmK/B9pO2ny7LVwETJW3UxvgiImKAYZOCpK1Wd8e2T7A92fYUYAZwre3DJB0FvA841HbjtpKkjSWpLE8rsWUojYiIDmp1pfBdAEnXjOAxzwbeAPxC0gJJny3lBwF3SroNOB2YUTqjIyKiQ1oNc/EaSf8AbDvY1Jx1p+O0PQ+YV5YHPabtM4Ez6+wvIiLao9WVwgzgZarksc4gn4iIGENavdF8L3CKpNttz+1QTBER0SV1nz76uaRT+98PkPQVSeu1NbKIiOi4uknhG8BTVHMqHAI8SabjjIgYc2rNpwC80fafNa2fJGlBG+KJiIguqnul8Jyk3ftXJO0GPNeekCIiolvqXil8HPhmUz/C48AR7QkpIiK6pe50nLcBO0pat6w/2daoIiKiK+peKQBJBhERY107B8SLiIhRJkkhIiIaaiUFSQdLWqcsf0bSpZJ2am9oERHRaXWvFP7J9lPlsdT3AucCX29fWBER0Q11k8LL5fv9wBzbPwTWbE9IERHRLXWTwiJJ/wp8CLhK0mtXYduIiBgl6v6wHwL8GHif7aXABsCn2xVURER0R8ukUKbIfGtZfauknYFHbf+kzgEkTZB0q6Qry/pWkm6UtFDSxZLWLOWvLesLS/2U1TuliIhYXa3maP4T4D7gRGDf8jkJuK/U1TELuKdp/RRgtu2tqYbLOLKUHwk8Xspnl3YREdFBra4UTgPea3sf20eVz97AXqVuWJImU3VOn1PWBUynzP0MXAAcWJYPKOuU+veU9hER0SGtksIawMODlC8CJtbY/1eBY4HlZX1DYKntZWX9YWCzsrwZ8BBAqX+itF+JpJn9k/309fXVCCEiIupqNfbRN4BfSrqI8oMNbE41d/O5w20oaT9gse2bJe35CuNssD0HmAPQ29vrkdpvRES0nqP5nyVdDuwP7FqKFwEftn13i33vBuwvaV9gLWBdqltOkyStUa4GJpf99e93c+BhSWsA6wFLVuOcIiJiNbUcJbX8+N8taYOy/rs6O7Z9AnACQLlS+HvbH5b0f4GDgIuo5mS4vGxyRVn/Ram/1nauBCIiOqjV00dbSLpI0mLgRuAmSYtL2ZTVPOZxwKckLaTqM+i/DXUusGEp/xRw/GruPyIiVlOrK4WLqTqLP2z7ZajeOwAOpvpLf5c6B7E9D5hXlu8Hpg3S5vmy34iI6JJWTx9tZPvi/oQAYPtl2xcxyJNBERExurW6UrhZ0llU7w80P310BHBrOwOLiIjOa5UUDqd60/gkVrxPsIiqU3jYR1IjImL0afVI6otU8yZk7oSIiHFg2KRQ3hc4kmooiuYrhcuBc22/1NboIiKio1rdPvp3YCnV7aP+4S4mU/UpfItqfoWIiBgjWiWFd9jedkDZw8ANkn7dppgiIqJLWj2S+jtJB0tqtJP0Gkkfohr2OiIixpBWSWEG1ZAT/yPp1+Xq4FHgg6UuIiLGkFZPH/2G0m8gacNSlkHqIiLGqLpzNGN7SXNCkLRXe0KKiIhuqZ0UBpGX1yIixphW7ylcMVQVGfsoImLMafVI6h7AYcDTA8rFICOdRkTE6NYqKdwAPGv7PwdWSLq3PSFFRES3tHr6aJ9h6t418uFEREQ3vZKO5mFJWkvSTZJuk3SXpJNK+fWSFpTPbyVdVsr3lPREU91n2xVbREQMruUcza/AC8B0209Lmgj8TNJc23v0N5D0PVbM0Qxwve392hhTREQMo21XCq70d1BPLB/310taF5gOXNauGCIiYtW0LSlANZ+zpAXAYuBq2zc2VR8IXGP7yaayXcvtprmSdhhinzMlzZc0v6+vr22xR0SMR7WSgqTdJF1dxj+6X9IDku5vtV2Zz3kq1XDb0yS9pan6UOA7Teu3AFva3hE4gyGuIGzPsd1ru7enp6dO+BERUVPdK4VzgVOB3YF3Ar3luxbbS4HrgL0BJG1E9Z7DD5vaPNl/u8n2VcDE0i4iIjqkblJ4wvZc24v7x0BqNTCepB5Jk8ry2sBewK9K9UHAlbafb2q/sSSV5Wkltgy+FxHRQXWfPrpO0r8Al1I9VQSA7VuG2WYT4AJJE6h+4C+xfWWpmwGcPKD9QcAnJC0DngNm2DYREdExdZPCzuW7t6nMVE8PDcr27cDbh6jbc5CyM4Eza8YTERFtUCsp2H53uwOJiIjuazVK6mG2vyXpU4PV2z61PWFFREQ3tLpS+IPyvU67A4mIiO5rNSDev5bvkzoTTkREdNOwj6RK+oykDYapny4pYxVFRIwRrW4f3QH8QNLzVG8c9wFrAdsAU4H/AL7czgAjIqJzWt0+uhy4XNI2wG5U7x48CXwLmGn7ufaHGBERnVL3kdT7gPvaHEtERHRZW0dJjYiI0SVJISIiGpIUIiKioe58CttKukbSnWX9bZI+097QIiKi0+peKfwbcALwEjQGu5vRrqAiIqI76iaF19m+aUDZspEOJiIiuqtuUnhM0huphstG0kHAI22LKiIiuqJuUjga+FdgO0mLgE8CnxhuA0lrSbpJ0m2S7pJ0Uik/v8zxvKB8ppZySTpd0kJJt0vaabXPKiIiVkvdl9fuB94r6Q+A19h+qsZmLwDTbT8taSLwM0lzS92nbX93QPt9qIbP2IZqUp+vs2Jyn4iI6IC6Tx99WdIk28/YfkrS+pK+ONw2rjxdVieWz3DTax4AfLNsdwMwSdImdeKLiIiRUff20T62l/av2H4c2LfVRpImSFoALAautn1jqfpSuUU0W9JrS9lmwENNmz9cygbuc6ak+ZLm9/X11Qw/IiLqqJsUJjT9eCNpbeC1w7QHwPbLtqcCk4Fpkt5C9WjrdsA7gQ2A41YlYNtzbPfa7u3p6VmVTSMiooW6SeFC4BpJR0o6ErgauKDuQcpVxnXA3rYfKbeIXgDOA6aVZouAzZs2m1zKIiKiQ2olBdunAF8C3lw+X7D9v4fbRlKPpElleW1gL+BX/f0EkgQcCNxZNrkCOLw8hbQL8ITtPPYaEdFBtZ4+ArA9F5jbsuEKmwAXSJpAlXwusX2lpGsl9QACFgAfL+2vouqnWAg8C3xsFY4VEREjYNikIOlntneX9BQrPzkkqgeM1h1q2zIUxtsHKZ8+RHtTvQ8RERFd0mrmtd3L9zqdCSciIrqpZZ9Ceaz0V50IJiIiuqtlUrD9MnCvpC06EE9ERHRR3Y7m9YG7JN0EPNNfaHv/tkQVERFdUTcp/FNbo4iIiFeFVk8frUX1yOjWwB3AubYzj0JExBjVqk/hAqCXKiHsA3yl7RFFRETXtLp9tL3ttwJIOhcYOPtaRESMIa2uFF7qX8hto4iIsa/VlcKOkp4sywLWLust32iOiIjRp9UbzRM6FUhERHRf3aGzIyJiHEhSiIiIhiSFiIhoSFKIiIiGJIWIiGhoW1KQtJakmyTdJukuSSeV8gsl3SvpTknfkDSxlO8p6QlJC8rns+2KLSIiBld7Os7V8AIw3fbT5Yf/Z5LmAhcCh5U23waOAr5e1q+3vV8bY4qIiGG0LSmU6TWfLqsTy8e2r+pvU4bintyuGCIiYtW0tU+hzNq2AFgMXG37xqa6icBHgB81bbJrud00V9IOQ+xzpqT5kub39fW1M/yIiHGnrUnB9su2p1JdDUyT9Jam6rOAn9q+vqzfAmxpe0fgDOCyIfY5x3av7d6enp72BR8RMQ515Okj20uB64C9ASR9DugBPtXU5knbT5flq4CJkjbqRHwREVFp59NHPZImleW1gb2AX0k6CngfcKjt5U3tN5aksjytxLakXfFFRMTva+fTR5sAF0iaQPUDf4ntKyUtAx4EflFywKW2Pw8cBHyi1D8HzCid1RER0SHtfProduDtg5QPekzbZwJntiueiIhoLW80R0REQ5JCREQ0JClERERDkkJERDQkKUREREOSQkRENCQpREREQ5JCREQ0JClERERDkkJERDQkKUREREOSQkRENCQpREREQ5JCREQ0JClERETD+EsKA+ftyTw+EREN7ZyOcy1JN0m6TdJdkk4q5VtJulHSQkkXS1qzlL+2rC8s9VNGPKgTT4RjjlmRCOxq/cQTR/xQERGjUTuvFF4AptveEZgK7C1pF+AUYLbtrYHHgSNL+yOBx0v57NJu5NiwdCmcdtqKxHDMMdX60qW5YoiIoI1JwZWny+rE8jEwHfhuKb8AOLAsH1DWKfXvUZnEeURIMHs2zJpVJYLXvKb6njWrKh/BQ0VEjFZt7VOQNEHSAmAxcDXw/4CltpeVJg8Dm5XlzYCHAEr9E8CGg+xzpqT5kub39fWtakBVAmiWhBAR0dDWpGD7ZdtTgcnANGC7EdjnHNu9tnt7enpWdePqllGz5j6GiIhxriNPH9leClwH7ApMkrRGqZoMLCrLi4DNAUr9esCSEQxiRR/CrFmwfPmKW0lJDBERQHufPuqRNKksrw3sBdxDlRwOKs2OAC4vy1eUdUr9tfYI/lJLMGnSyn0I/X0MkyblFlJEBKCR/N1dacfS26g6jidQJZ9LbH9e0h8CFwEbALcCh9l+QdJawL8Dbwd+B8ywff9wx+jt7fX8+fNXLTB75QQwcD0iYoyTdLPt3sHq1hiscCTYvp3qB35g+f1U/QsDy58HDm5XPA0DE0ASQkREw/h7ozkiIoaUpBAREQ1JChER0ZCkEBERDW17+qgTJPUBD67m5hsBj41gOKNBznl8yDmPD6/knLe0Pejbv6M6KbwSkuYP9UjWWJVzHh9yzuNDu845t48iIqIhSSEiIhrGc1KY0+0AuiDnPD7knMeHtpzzuO1TiIiI3zeerxQiImKAJIWIiGgY80lB0jckLZZ05xD1knS6pIWSbpe0U6djHEk1zvfD5TzvkPRzSTt2OsaR1uqcm9q9U9IySQcN1240qHPOkvaUtEDSXZL+s5PxtUON/7fXk/QDSbeVc/5Yp2McaZI2l3SdpLvLOc0apM2I/oaN+aQAnA/sPUz9PsA25TMT+HoHYmqn8xn+fB8A/tj2W4EvMDY66M5n+HNG0gTgFOAnnQioA85nmHMuc5mcBexvewc6MQJx+53P8P+djwbutr0jsCfwFUlrdiCudloG/J3t7YFdgKMlbT+gzYj+ho35pGD7p1TzMwzlAOCbrtxANTPcJp2JbuS1Ol/bP7f9eFm9gWr2u1Gtxn9jgL8Bvkc1X/ioV+Oc/xy41PZ/l/aj/rxrnLOBdSQJeH1pu2yY9q96th+xfUtZfopqorLNBjQb0d+wMZ8UatgMeKhp/WF+/x99rDoSmNvtINpN0mbAnzL6rwJXxbbA+pLmSbpZ0uHdDqgDzgTeDPwWuAOYZXt5d0MaOZKmUM1Rc+OAqhH9DWvbJDvx6ibp3VRJYfdux9IBXwWOs71c42dSpTWAdwDvAdYGfiHpBtu/7m5YbfU+YAEwHXgjcLWk620/2dWoRoCk11Nd6X6y3eeTpACLgM2b1ieXsjGrTJV6DrCP7SXdjqcDeoGLSkLYCNhX0jLbl3U1qvZ6GFhi+xngGUk/BXYExnJS+BhwcpnbfaGkB4DtgJu6G9YrI2kiVUK40PalgzQZ0d+w3D6CK4DDSw/+LsATth/pdlDtImkL4FLgI2P8r8YG21vZnmJ7CvBd4K/GeEIAuBzYXdIakl4H7Ex1P3os+2+qKyMkvQF4EzDsPO+vdqV/5FzgHtunDtFsRH/DxvyVgqTvUD2JsJGkh4HPARMBbJ8NXAXsCywEnqX6a2PUqnG+nwU2BM4qfzkvG+2jS9Y45zGn1TnbvkfSj4DbgeXAObaHfWT31a7Gf+cvAOdLugMQ1S3D0T6c9m7AR4A7JC0oZf8AbAHt+Q3LMBcREdGQ20cREdGQpBAREQ1JChER0ZCkEBERDUkKERHRkKQQo5qkfyyjR95eRgTduZSfM8jAYauz/0/2DxEh6eByrOWSege0O6GMUnmvpPc1le9dyhZKOr6pfCtJN5byi0di4DZJe5T4FkjaVdK+TXX7Sfr8Kz1GjH1JCjFqSdoV2A/YyfbbgPdSxoCxfZTtu1/h/tcA/gL4dim6E/gg8NMB7bYHZgA7UI3ieZakCWVk1q9RjWK5PXBoU6I6BZhte2vgcaohR16pDwP/bHsq1Ytb+zbV/RD4QHmRLWJIY/7ltRjTNgEes/0CQPOLSpLmAX8PbAr0/4W8NrCm7a0kvQM4lWo0zceAjw7yFuh04Bbby8r+7yn7HhjHAcBFJY4HJC0EppW6hbbvL9tdBBwg6Z6y7z8vbS4ATmTAgH2S/hg4rawaeBfwNHAGsBdVAnwR+AYwCTgEeJ+k91O99LS2pN2pEsXF5d9kP+CSQf81I8iVQoxuPwE2l/RrSWeVH9GV2L7C9tTy1/NtwP8pY8mcARxk+x1UP6pfGmT/uwE314hjqFEqhyrfEFjan2wYelTLvweOLrHvATxHNdrrm6iuPA4H/qic5zlUwx182vahVG+uX1zO/eKyv/llPxFDSlKIUcv201Qjgc4E+oCLJX10sLaSjgWes/01qh/Vt1CNorkA+AyDzyuxSdlvt/wXcKqkvwUmlSTyLuA7tl+2/Vvg2lXY32KqK6eIIeX2UYxqtl8G5gHzypg3R1DN0NUg6b1UM4+9q78IuMv2ri12/xywVo0whhulcrDyJVQToaxRfugHHdXS9smSfkjVN/BfzR3Yq2ktqnOKGFKuFGLUkvQmSds0FU0FHhzQZkuqzt6Dbff/IN4L9JSOaiRNlLTDIIe4B9i6RihXADMkvVbSVlTTIt4E/BLYpjxptCZVZ/QVZWjn64D+uaKPoBrVdOD5vdH2HbZPKfvajqqT+0OlI3sT4N1DxPQUsM6Asm2pOssjhpSkEKPZ64ELVE1qfjvVffYTB7T5KNU9/MvKo5pX2X6R6gf5FEm3UU3M8keD7H8uK64ukPSnZXTOXYEfSvoxgO27qDpv7wZ+RNUP8HK5Cvhr4MdUCeaS0hbgOOBTpVN6Q6rhkQf6pKQ7y7m9VOL5PnBfOdY3gV8M8W9zHbB9OecPlbJ3Uz2FFDGkjJIaMQxJ3weOtX1ft2MZjKTzgSttf7dFuzcA37b9no4EFqNWrhQihnc8VYfzaLcF8HfdDiJe/XKlEBERDblSiIiIhiSFiIhoSFKIiIiGJIWIiGhIUoiIiIb/DxBHTA9Awst5AAAAAElFTkSuQmCC\n"
          },
          "metadata": {
            "needs_background": "light"
          }
        }
      ],
>>>>>>> f2adcd5d8fa8db8c0b09e0bc450fd68b39e2f1f7
      "source": [
        "# Plot the data points\n",
        "plt.scatter(x_train, y_train, marker='x', c='r')\n",
        "# Set the title\n",
        "plt.title(\"Housing Prices\")\n",
        "# Set the y-axis label\n",
        "plt.ylabel('Price (in 1000s of dollars)')\n",
        "# Set the x-axis label\n",
        "plt.xlabel('Size (1000 sqft)')\n",
        "plt.show()"
<<<<<<< HEAD
      ],
      "outputs": [
        {
          "output_type": "display_data",
          "data": {
            "image/png": "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\n",
            "text/plain": "<Figure size 432x288 with 1 Axes>"
          },
          "metadata": {}
        }
      ],
      "execution_count": 6,
      "metadata": {},
      "id": "6a145188"
    },
    {
      "cell_type": "markdown",
=======
      ]
    },
    {
      "cell_type": "markdown",
      "id": "b3a7a0e8",
      "metadata": {
        "id": "b3a7a0e8"
      },
>>>>>>> f2adcd5d8fa8db8c0b09e0bc450fd68b39e2f1f7
      "source": [
        "## Model function\n",
        "\n",
        " The model function for linear regression (which is a function that maps from `x` to `y`) is represented as <br/> \n",
        "\n",
        "$$ f_{w,b}(x^{(i)}) = wx^{(i)} + b \\tag{1}$$\n",
        "\n",
        "<br/> \n",
        "\n",
        "The formula above is how you can represent straight lines - different values of $w$ and $b$ give you different straight lines on the plot. <br/> \n",
        "\n",
        "Let's try to get a better intuition for this through the code blocks below. Let's start with $w = 100$ and $b = 100$. \n",
        "\n",
        "**Note: You can come back to this cell to adjust the model's w and b parameters**"
<<<<<<< HEAD
      ],
      "metadata": {},
      "id": "b3a7a0e8"
    },
    {
      "cell_type": "markdown",
      "source": [
        "w = 100\n",
        "b = 100\n",
        "print(f\"w: {w}\")\n",
        "print(f\"b: {b}\")"
      ],
      "metadata": {},
      "id": "c4b78a08"
    },
    {
      "cell_type": "markdown",
=======
      ]
    },
    {
      "cell_type": "code",
      "source": [
        "w = 100 \n",
        "b = 100 \n",
        "print(f\"w: {w}\") \n",
        "print(f\"b: {b}\")"
      ],
      "metadata": {
        "id": "0SIvaVlQfs3t",
        "outputId": "a0e46b9f-79f3-4cfd-d25a-c9a0640eecd6",
        "colab": {
          "base_uri": "https://localhost:8080/"
        }
      },
      "id": "0SIvaVlQfs3t",
      "execution_count": null,
      "outputs": [
        {
          "output_type": "stream",
          "name": "stdout",
          "text": [
            "w: 100\n",
            "b: 100\n"
          ]
        }
      ]
    },
    {
      "cell_type": "markdown",
      "id": "22a67c19",
      "metadata": {
        "id": "22a67c19"
      },
>>>>>>> f2adcd5d8fa8db8c0b09e0bc450fd68b39e2f1f7
      "source": [
        "Now, let's compute the value of $f_{w,b}(x^{(i)})$ for your two data points. You can explicitly write this out for each data point as - \n",
        "\n",
        "for $x^{(0)}$, `f_wb = w * x[0] + b`\n",
        "\n",
        "for $x^{(1)}$, `f_wb = w * x[1] + b`\n",
        "\n",
        "For a large number of data points, this can get unwieldy and repetitive. So instead, you can calculate the function output in a `for` loop as shown in the `compute_model_output` function below.\n",
        "> **Note**: The argument description `(ndarray (m,))` describes a Numpy n-dimensional array of shape (m,). `(scalar)` describes an argument without dimensions, just a magnitude.  \n",
        "> **Note**: `np.zero(n)` will return a one-dimensional numpy array with $n$ entries   \n"
<<<<<<< HEAD
      ],
      "metadata": {},
      "id": "22a67c19"
    },
    {
      "cell_type": "code",
=======
      ]
    },
    {
      "cell_type": "code",
      "execution_count": null,
      "id": "3863cad7",
      "metadata": {
        "id": "3863cad7"
      },
      "outputs": [],
>>>>>>> f2adcd5d8fa8db8c0b09e0bc450fd68b39e2f1f7
      "source": [
        "def compute_model_output(x, w, b):\n",
        "    \"\"\"\n",
        "    Computes the prediction of a linear model\n",
        "    Args:\n",
        "      x (ndarray (m,)): Data, m examples \n",
        "      w,b (scalar)    : model parameters  \n",
        "    Returns\n",
        "      y (ndarray (m,)): target values\n",
        "    \"\"\"\n",
        "    m = x.shape[0]\n",
        "    f_wb = np.zeros(m)\n",
        "    for i in range(m):\n",
        "        f_wb[i] = w * x[i] + b\n",
        "        \n",
        "    return f_wb"
<<<<<<< HEAD
      ],
      "outputs": [],
      "execution_count": 11,
      "metadata": {},
      "id": "3863cad7"
    },
    {
      "cell_type": "markdown",
      "source": [
        "Now let's call the `compute_model_output` function and plot the output.."
      ],
      "metadata": {},
      "id": "133d7151"
    },
    {
      "cell_type": "code",
=======
      ]
    },
    {
      "cell_type": "markdown",
      "id": "133d7151",
      "metadata": {
        "id": "133d7151"
      },
      "source": [
        "Now let's call the `compute_model_output` function and plot the output.."
      ]
    },
    {
      "cell_type": "code",
      "execution_count": null,
      "id": "21332a57",
      "metadata": {
        "id": "21332a57",
        "outputId": "c879f492-ff89-4c75-e5f6-6430855a99a0",
        "colab": {
          "base_uri": "https://localhost:8080/",
          "height": 295
        }
      },
      "outputs": [
        {
          "output_type": "display_data",
          "data": {
            "text/plain": [
              "<Figure size 432x288 with 1 Axes>"
            ],
            "image/png": "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\n"
          },
          "metadata": {
            "needs_background": "light"
          }
        }
      ],
>>>>>>> f2adcd5d8fa8db8c0b09e0bc450fd68b39e2f1f7
      "source": [
        "tmp_f_wb = compute_model_output(x_train, w, b,)\n",
        "\n",
        "# Plot our model prediction\n",
        "plt.plot(x_train, tmp_f_wb, c='b',label='Our Prediction')\n",
        "\n",
        "# Plot the data points\n",
        "plt.scatter(x_train, y_train, marker='x', c='r',label='Actual Values')\n",
        "\n",
        "# Set the title\n",
        "plt.title(\"Housing Prices\")\n",
        "# Set the y-axis label\n",
        "plt.ylabel('Price (in 1000s of dollars)')\n",
        "# Set the x-axis label\n",
        "plt.xlabel('Size (1000 sqft)')\n",
        "plt.legend()\n",
        "plt.show()"
<<<<<<< HEAD
      ],
      "outputs": [
        {
          "output_type": "display_data",
          "data": {
            "image/png": "iVBORw0KGgoAAAANSUhEUgAAAX4AAAERCAYAAAB8eMxzAAAAOXRFWHRTb2Z0d2FyZQBNYXRwbG90bGliIHZlcnNpb24zLjUuMSwgaHR0cHM6Ly9tYXRwbG90bGliLm9yZy/YYfK9AAAACXBIWXMAAAsTAAALEwEAmpwYAAA+H0lEQVR4nO3deXxM1/vA8U92SZCkxF47ibUoCZFlEmtLSlFbq9S+lKKq1VJUrbX1a4uWSn6WalFUfVNakYiSiiUalfAtglgqIlKCROT+/rhMxUwMSWayzPN+vfKquefOzHPzap45c+45z7FQFEVBCCGE2bAs6ACEEEKYliR+IYQwM5L4hRDCzEjiF0IIMyOJXwghzIwkfiGEMDOS+EWhVL16daKiorIdGz58ONOmTTPae1pbWxMREZGvrxkeHo6FhQXW1tY4OTnRpk0bTp48meP5gwYNYtCgQfkagxBPsi7oAIQoLDIzM43yum5ubsTHx5OWlsb8+fMJDAzk1KlTWFvr/vmtXr3aKDEI8Tjp8Ysia+XKldSqVYsyZcowcOBAbt++Dai9bHd3d+15V69excLCQvt4xowZVK5cmdKlS+Pn58fZs2cBKFGiBAkJCQBoNBpGjhyJp6cnpUuXplevXtoPBkVRmDVrFhUqVKBs2bK4ubkxYMAAg/E6OjoydepUrl+/zsmTJ5k2bRqBgYF0796d0qVL8+WXX+p8q/n222+pX78+pUqVwtvbm2PHjmmvsVmzZpQuXZqAgABt3JcvX6Zz586ULl2aSpUq8d577+X21yuKMUn8okgKCwtj9uzZ7Nixg7Nnz3L37l0++OADg8+LiIhgzZo17N+/n/PnzzN48GDu3Lmj99xTp04REhLC2bNnOXz4MNu3bwdgw4YNrF+/ngMHDnDu3Dlat279zHFnZmby4MEDXnjhBQBiYmIYOnQoycnJDBs2LNu5Bw4cYPz48YSEhHDlyhXGjBlDUlISFy9epEePHnzxxRf8/fffeHp6Mnz4cAA++eQTatasSWJiIvv27aNKlSrPHJswHzLUIwotPz+/bD31zMxMJk+eDMD69esZNmwY9evXB2DmzJm89NJLrFix4qmveefOHW7dusWNGzeoVq0a/fr1y/HcIUOGaL85+Pj4cOrUKQDWrl3LxIkTqVmzJgB169YlPj7e4PXcvn2bTz75hCZNmmgTcqdOnejQoQMANjY22c4PDg5mxIgRtGjRAoCePXsCMGfOHHr27EmbNm0AmDhxIuXKlePBgwfcuXOHtLQ07t27R+3atZ/pw1CYH+nxi0IrIiKCe/fuaX8GDx6sbbt8+TKVK1fWPq5cuTK3b98mNTX1qa/ZoUMHhg4dSufOnXFxcWHgwIGkpaUZjKVEiRJkZGQAcP78eWrUqPHM13H69GlKlChBlSpV+Pvvv9m6deszPS8xMZFq1arpHL9w4QJff/01JUqUoESJElSsWBFFUUhOTmbOnDmkpaVRvXp16taty5o1a545TmE+JPGLIqlSpUpcvHhR+zgxMRFHR0ecnJywtbUlPT1d7/MsLS2ZOXMmV65c4ciRI0RHRxMcHPxc7+3s7MyNGzee+fy6dety7949bt68ycaNG3F1dX2m51WqVInz58/rHK9YsSIjR47M9qGYmZlJuXLlqFGjBjt37iQ1NZU5c+YwZMgQgx+GwvxI4hdFUp8+fQgKCuLEiROkpqYyefJk3nzzTQBq1arFpUuXiImJISkpiTlz5mif9+OPP7J27VpSUlIoU6YMJUuWxMXF5bneu3379qxcuZJ//vmH06dPExoamq/X9kjfvn1ZsWIFhw4dIj09ndDQUMLDw+nduzcbNmwgNDSU9PR0Ll68qJ0N9OmnnxIdHY2iKFSqVAl7e3vs7e2NEp8ouiTxiyKpbdu2TJo0icDAQGrUqIGdnR3z588HoHz58syaNQt/f388PT1xdnbWPq9SpUqsWLGCqlWr4u7ujpeXF717936u954wYQIODg5UrlyZPn368MILL+iMz+eHgIAAZs6cSb9+/ShTpgwzZ87E2dmZOnXq8O233zJ16lTKlCmDl5cXMTExAJQqVYrevXvj5OTE4MGD2bRpE7a2tvkemyjaLKQevxB5M3HiRBwcHIy6uEyI/CQ9fiGe06VLl9i3bx93794lLi6O77//nldeeaWgwxLimcl0TiGe0z///EO/fv24evUqVapUYcKECXh6ehZ0WEI8MxnqEUIIMyNDPUIIYWYK9VCPzD8WQoi8cXJy0jkmPX4hhDAzkviFEMLMFOqhnsfp+7oihBBCl6FhcunxCyGEmSkyPf5H0tPTSU1NzVauV+Sdoig4OTlhZ2dX0KEIIYysyCX+1NRUypYti6WlfFnJT1lZWVy/fp1y5coVdChCCCMrctnTwsJCkr4RWFpayrcoIQqL6dNh40b13xs3qo/zkWTQQm7AgAHa/VRz8s0335gmGCGE8U2bpv68+SZ07ar+99GxfGLUxO/k5IRGo0Gj0bBhwwbGjBmDn58fgYGB2rvOc+bMwcfHhzZt2nDhwgVjhvPcQkJC8Pb2JiAggEGDBmk3834ewcHBuLm54evrS+/evXPcIMSQrVu3snnzZr1tjyf+YcOG5SpOIUQhMH064dPD6cpWMrKsYPt2yMrStuVXz9+oib9Ro0aEh4cTHh5O48aNuXv3LhEREfTp04fg4GBSUlKIjIwkMjKSGTNmsGjRoud6fQuLvP08zYkTJ9i8eTN79+4lLCwMjUbDjBkzAPD29tae9+jfGo2GIUOG4Ofnp/NaH3zwAfv27aNevXrs2rWLAQMG8NZbb+Hv78+VK1cYMmQIAQEBvPHGG2RmZnL16lXatWtHmzZtCAsLA9R7Gzdv3iQrK4vBgwfj5+eHRqNh1apVxMbGotFoOHToEKdOnaJEiRIcP34cX19fvLy8WLdunTbG/v374+HhwZdffvlcv2shhHGlpsLwyDfxJ5ztdGU2k7KfYGkJbm758l5GTfxnzpzB29ubN998kyNHjtC0aVMAmjdvTlxcHGfOnKFBgwbZjhUWe/fupX///toNNvr160d0dPRTnzN16lQiIiJybL98+bJ2U5Dhw4ezd+9eDh06RK1atQgLCyMgIIDQ0FDmzZvHxx9/zJ49ewgICMj2Gtu3b6dy5cpERETw3XffMXDgQO0HrIeHh/a8Tz/9lG+//ZbIyEhWrFjB/fv3AfUb1sGDB9mwYUNufi1CCCP46Sdo0ABW7qmtPTaTTzhBg39PCgyE59w0KCdGTfxXrlxh//79tGjRggsXLmBlZaVts7CwQFEUnWOFhb6ipYZuKleoUEHv8S+++AJ/f3+qVauGr69vtnPj4+PZuHEjGo2GkJAQbty4QVxcXI5lfk+fPq1N8OXLl88xppSUFCpXroyVlRVVq1bl2rVrALi6umJlZWWUHaOEEM8nKQn69lVz+qVL2dvuY8uvtP33wI4d/97wzSOjJf7bt29re5kODg44Oztz9OhRAI4cOUK9evWoXbs2sbGx2Y4VFv7+/oSEhGivYf369bRo0QJQpz5mZmZy/fr1Z3qtDz74gL179/Lxxx/rtNWpU4cBAwYQHh5OVFQU3bt3p1KlSpw+fRrQXYFXq1YtDh8+DEBycjJZWVk8ePBA53VdXFy4ePEiDx484MKFCzJNU4hCRFHg22+hfn31v0+qyyn24cNYHhuSzcqCU6fy5f2NNo///PnzDBw4EHt7e1xdXVm7di0TJ07Ez8+PkiVLsn79epydnfH29sbX1xcrKyuCg4Of6z2MuZNAo0aN6NGjB/7+/tjY2FCtWjWWLl0KQO/evWndunW+fFB17dqVESNGEBAQwIMHD5g9ezbjx49nwIABuLq6kpiYmO38119/ne3bt6PRaLC0tGT37t3Uq1ePtm3bZttU/LPPPqNv3748ePCAkSNHSg9fiEIiMRFGjFCHd55kZQUftIxk6m/tKGF5HwK7qD39rCyYOlX9yQeFeiOWx3u7j2r1JCUl4erqWlAhFWvyuxXCeLKyYNUq+OAD+Ocf3fYmTWD1amjWDHX2jpubOqa/caPa03+OpK8vdz6uyK3cFUKIouavv2DIEAgP122ztVVz+gcfgPaL+eNJPp9u6D5OEr8QQhhJZiYsXgxTpsC9e7rtXl5qL9/d3bRxSeIXQggjiI2FQYNA3yxwR0eYPRtGjVKn55uaJH4hhMhH6ekwa5b6k5mp296+PaxcCdWrmzw0LUn8QgiRT37/Xe3l//mnbpuLCyxaBG+/bbhygLFJkbY82rZtGzdu3Hiu5wQHB7Nq1apcvV94eDiTJ0/O1XOFEMaRlgbjx0OrVvqTfvfucPIk9O9f8Ekfimviz6eSphkZGdSqVUs7f1+f3CR+fV599dVsc/aHDRumXfAmhCi89uyBRo3U3vyTk+PLl4fNm9WfHBb2F4jil/jzsaTpf//7X6ZOnaotlAZqlczWrVvj6enJ2rVr+fnnn3nzzTf57LPPsvXkp02bxq+//srx48d5+eWX8fLyYujQoTm+V+/evfnuu+8AyMzM5OTJk7z44os0a9YMb29vunbtSuYTA4aPCsQlJCTw1ltvARAUFISPjw/+/v4kJCSQnJxMu3bt8Pb2ZuDAgc/9OxBC6HfzpjpFs21bOHdOt33AALWX3727qSMzrHiN8T9etjQrSy1p+nibhcVzLYL45ZdfWLhwIadOneLs2bNUr16dOXPmEBkZibW1NUlJSezZs4fJkydTu3ZtvSuP3dzciI6OxtLSkvbt25OUlKT3vV5//XU6d+7M+++/z+7du+nQoQMuLi78/vvv2NjYMHToUI4dO/bUeJOSkggNDSUyMpK4uDiWLFmCr68vAQEBTJo0ieTk5Ge+diFEzrZvV1ffXrmi21atGnz1lXoTt7AqXj1+N7ec50Y9Z0nTW7duERYWRpcuXdi3bx8bNmwgKSmJqlWrYmtri6WlJeXLlzf4OklJSfTr1w+NRkNsbCxpaWl6zytVqhQVKlTgzJkzfPfdd/Tt25dbt24xatQoNBoNv/zyS47PfeTs2bMcP34cjUbDiBEjuHPnDm3btuXcuXN07tyZnTt3PvP1CyF0Xbumrqfq2lU36VtYwJgxcOJE4U76UNwSf+/eapk7fZ6zpOnWrVtZtGgRP//8M5GRkURFReHq6sr58+e5f/8+iqJw/fp17OzsuHPnDgCOjo6kpKQAaHv2ixYtolevXoSHh+Pv7//U93y0T8HVq1epWbMma9eupWHDhoSHh9OnTx+d8zMyMrK9V/Xq1WnRooV2D4R58+bxzz//sHz5cn766SdWrFjxzNcvhPiXosC6dVCvHjwckc3G3R0iI+HLL6FkSdPH97yKV+LfuFEtaKTPc5Y03bJlCz4+PtrHL774IjExMYwfPx5fX19at25NTEwMXbt25Z133mHOnDm0bduWH374gY4dOxITEwNAhw4dmDJlCl27duXkyZNPfc9XX32VVatW0blzZwB8fX1Zs2YNnTt3Zt++fTrn+/n54ePjw/z58wG1THPbtm3x9fXF19eXtWvXEh8fj5eXF97e3rzyyivPfP1CCNXFi9C5M/TrB0/O47Cygk8+gWPHoHXrgokvN4pXkbbp059+E3fatHyrblccSZE2If6VlaUutJo4EfTtZtq0KXzzjVpcrbAxVKStePX4Hy9bamkJXbr8O+afjyVNhRDF2+nToNHAyJG6Sd/ODubMgUOHCmfSfxbFa1YPqL16C4s8lTQVQpinzExYuFBNF/qKqvn4wNdf59vWtwWm+CV+MHpJUyFE8XP8OAwcCPrWTZYsCXPnwvDhBVNULb8VuUtQFIWsrKyCDqPYycrK0rvPsBDFXXq6Wja5eXP9Sb9jR7UMw8iRxSPpgwl6/Bs3bmTy5Mls3bqV0aNHa49bWloSFhaGRqNBURQsLCzw8PBg3rx5T309Z2dnrl+/Xqg2Zi8OFEXB2dm5oMMQwqQOHIDBgyEuTrfthRfUWvpvvVU46uvkJ6Mm/k2bNnHt2jUqVKhAo0aNCH+4/cyWLVs499ga5z179mBt/Wyh2NraysbhQog8uX1bnYa5ZIn+vbt79oT//EettVMcGe2Ly7Zt20hMTGTMmDHZjj948IBly5YxatQoAOzt7fH396dDhw7E6fvYFUKIfPTLL2pRtf/8RzfpV6gAW7eqi7SKa9IHIyb+3bt3s337dm2pgrFjxwJqSeLu3btjb28PoK0tM3fuXKZMmWKscIQQZi4lRb152749JCTotg8apBZV69rV1JGZntGGepYvX679t7e3N4sXL+bevXsEBwezZ88ebduNGzd44YUXcHBwwM7OzljhCCHM2Nat6s3Zq1d122rUUKdotmlj+rgKikmncy5dupR33nkHW1tb7bGuDz9ebWxsCAoKMmU4Qohi7upVGD1arYf/JAsLeO89+PxzdQ9cc1LkSjYIIYQhigL/938wbpw6xPOk+vVh9Wpo2dL0sZmCeZVsEEKYvfPn4ZVX1I1Qnkz61tbqnP2jR4tv0n8WxXPlrhDC7GRlwfLl8NFH6h64T3r5ZbWoWuPGpo+tsJHEL4Qo8k6dUmfl/PabbluJEjBjBowdq/b4hSR+IUQRdv8+zJ+vVmRPT9dt9/ODVaugdm3Tx1aYSeIXQhRJx46p8/If7nmUTalS8MUX6mboxaW+Tn6SX4kQoki5dw8mTYIWLfQn/U6d1IVYw4ZJ0s+J9PiFEEXG/v3qWP7p07ptZcqoZRj69Cl+RdXym3weCiEKvVu34N131Y1Q9CX93r3VCpt9+0rSfxbP1OP/+++/SUxMBKBKlSqUL87Vi4QQhcquXTB0KFy4oNtWqRKsWAGvvWb6uIqyHBN/VlYWK1euZNmyZdjb21OtWjWysrJISEggIyODd999l6FDh2Ipg2hCCCO4cUNdeft//6e/fehQmDcPZFH/88sx8fv7++Pj40NYWJhO/fvLly8zb948/Pz8iIyMNHqQQgjzoSiwZQuMGgXXrum216qlFlXz9zd9bMVFjrV6Dhw4gJeX11OfHBYWRkBAgFECA6nVI4S5uXJFTfhbt+q2WVqq3wA++wwcHEwfW1FiKHcaLNKWmJiInZ0drq6uHD16lLNnz9K1a9dn3jErLyTxC2EeFAWCg2H8eLh5U7e9YUO1qJqHh6kjK5ryXKStW7du3Lp1i9OnT9O9e3d++eUX+vfvn79RCiHM1rlz6uYoAwfqJn0bG5g2DY4ckaSfnwwm/ps3b1KzZk1CQ0MZPnw4K1eu5Pjx46aITQhRjD14oM67b9gQfv1Vt93DQ62iOXUqPLaFh8gHBhN/2bJlWbNmDatWraJ9+/akpaVx9+5dU8QmhCim4uLUOfnvvQd37mRvs7eHhQvhwAH1Q0HkP4OJf/369Rw/fpyxY8fStGlToqKimDhxoiliE0IUM/fvqzteNWkCBw/qtvv7Q2ysehPXysrk4ZkNgzd3PTw8OHTokKniyUZu7gpRfBw5oo7j//GHblvp0rBggVqOQVbe5l2eb+7a29vnaWhn48aN1H5YE9XNzQ2NRoNGo2HhwoUAzJkzBx8fH9q0acMFfUvzhBBF2t278OGH6pi9vqQfGKgWVRs8WJK+qRick+no6EiXLl1o3rx5tuOzZs0y+OKbNm3i2rVrVKhQAQBXV1fCw8O17SkpKURGRhIZGcmBAwdYtGgRixYtes5LEEIUVvv2qQn9f//TbXN1hSVLoGdPSfimZjDx9+rVK1cvvG3bNhITExk3bhzff/89AGlpafj4+ODi4sJXX31FYmIiDRo0AKB58+Z89tlnuXovIUTh8s8/6haIK1bob3/rLVi0CMqWNW1cQmUw8ed2zv7u3bs5efIk27dvJzY2lrFjx3Ls2DFA/VCYP38+vXr1wuqxOzgW8rEvRJH33/+qtfAf1nXMpkoVCApSa+aLgmMw8e/Zs4dPPvmEpKQkHr8PfPbs2ac+b/ny5dp/e3t7M3fuXNLS0nB0dMTBwQE7Oztq165NbGwsAEeOHKFevXq5vQ4hRAG7fl3d13b9ev3tI0bAnDnqjVxRsAwm/nHjxvHtt9/So0cPYmJiOHLkCGvWrHnuN7p16xavvfYatra2ODg4EBISgouLC97e3vj6+mJlZUVwcHBurkEIUYAUBb7/HkaPhqQk3fbatdV9b/38TB+b0M/gdM769etz8uRJmjVrRkREBKVKldIeMzaZzilE4Xb5stqT//FH3TZLS5gwQS25YG9v8tDMmqHcabDHn5WVxe3bt+nYsSOjR49Go9GYpECbEKLwUhS1aNqECfBYjtFq3Fhtf2IyoCgkDM7jDwsLw87OjunTp1OzZk2OHz/ODz/8YIrYhBCF0Nmz0LYtDBmim/RtbWHGDDh8WJJ+YZbjUE9GRsZTn2hrgqpJMtQjROHxqKjaJ5+oi7Ke1LKl2suvX9/0sYnscj3U4+bmhoWFRbaZPI8eW1hYGJzVI4QoPk6cUMsp6Kve4uAAs2apm6FLfZ2iIcfEf+7cOVPGIYQohDIyYPZsmDlTLbD2pLZt4auvoEYN08cmci/HxP/VV1899YlDhw7N92CEEIVHdLRaVO3ECd02Jye1dPI770i5haIox8R/5coVU8YhhCgk7tyBTz9VSypkZem2d+0Ky5ZBpUomD03kE4Pz+B+5ffs2ACVLljRqQI+Tm7tCmFZ4uFpU7cwZ3bZy5dSE37279PILuzyXZT558iQtWrSgVatWeHp60qJFC/7888/8jVIIUaBSU9X6Ov7++pP+22+rpZN79JCkXxwYXIk1aNAgVq5cSbNmzQA4duwYgwYNIioqyujBCSGMb8cOGD5cXYX7pKpVYeVK6NjR9HEJ43mmzdYfJX2Apk2bcvPmTWPGJIQwgaQk6NsXXntNf9IfNUq9sStJv/gx2ONv1aoV48aN46233gLUPXg9PT2NHpgQwjgUBb79FsaMgeRk3fa6ddWiaj4+po9NmIbBm7sZGRmsWLGCiIgIFEXB19eXkSNHYmdnZ/Tg5OauEPkrMVEtqvbTT7ptVlYwcaI6o6dECdPHJvKPodz5zLN6CoIkfiHyR1YWfP01fPAB3Lql296kiVpu4bFRXVGE5bpkQ40aNZ66I5aUbBCiaPjrL7Wg2mPbXWvZ2cHUqWqVTRsbk4cmCkiOiT8+Ph5FUQgICCA0NJQSD7/7xcTEsCKnjTSFEIVGZiYsXgxTpsC9e7rtXl5qL9/d3eShiQKW46weOzs7SpQoQXJyMk5OTtjZ2WFnZ4enpyfR0dGmjFEI8Zz++ANatVKHdp5M+o6OsGQJREZK0jdXBmf1+Pj4MGrUKAYMGICNjQ0///wz5cuXN0VsQojnlJ6uVsqcNUvt8T+pQwd1Xn61aqaPTRQeBm/uZmZm8vXXXxMWFkZ6ejovv/wyY8aMwcXF5ZneYOPGjUyePJno6Ghef/117t+/j729PZs3b8bZ2RmNRqMt9ezh4cG8efO0z5Wbu0I8u6gotXSyvl1RXVzU2jtvvy0rb81Bgc7q2bRpE1euXOH777/XfnCUKlWKBQsWUKVKFXr16oVGo+HXX3/Vu52jJH4hDEtLU8fxFy9W5+g/qUcPdWinQgWThyYKSJ5r9eTWtm3bSExMZMyYMYC6Y1epUqUAOHHiBA0bNgTA3t4ef39/OnToQFxcnLHCEaJY2rMHGjVSe/NPJv3y5WHLFti0SZK+yM5oiX/37t1s374djUZDbGwsY8eOBWDhwoU0btyYBg0aABAaGkpkZCRz585lypQpxgpHiGLl5k21imbbtqBvz6R33oG4OOjWzeShiSIgx8Q/YsQIALZv356rF16+fDnh4eGEh4fTqFEjFi1axOTJk7G1tWXcuHHa827cuAGAg4ODSVYDC1HUbd+u7mu7erVuW7VqsGsXfPONOq4vhD45jvHXrVuX06dPU79+fU7qu1v0HLy9vZk1axbdunXTDvF07NiRjz76CF9fXwBsbGwICgqiTp062ufJGL8Q//r7b7W+zvff67ZZWMDo0eoWiSbcMkMUUrm+ufv++++zY8cOEhMTadKkifb4oxk4Bw4cyP9onyCJXwh17H79enjvPXj4BTkbd3e19+/lZfrYROGUp1k9N27c4P3332fatGk6bdVMMBFYEr8wdxcuqLXyQ0N126yt4cMPYfJkKaomssuX6ZyxsbFEREQA6oKul156KR9DzJkkfmGusrIgKEhN7A93Pc2mWTO1l//Yl3EhtPI8nXPJkiUMHTqUe/fucffuXUaMGMF//vOf/I1SCKF1+jRoNOpGKE8mfTs7mDMHfv9dkr7IPYM9/gYNGnD06FHtjJv09HSaNm2a5xu+z0J6/MKcZGbCggVqtcz0dN12Hx91g5S6dU0fmyhacl2W+XHp6enZEv/TyjULIZ7f8eMwcCAcParbVrIkzJunboZuabSVN8KcGEz8U6ZMoWXLlrRp0wZFUdi7dy+TJ082RWxCFHv37sHnn8PcufqLqr3yijrWX7Wq6WMTxdcz3dy9evUqhw4dQlEUPD09qWCi9d8y1COKswMH1KJq8fG6bS+8AF9+CW++KUXVxPOTrReFKGRu34aPP4alS/UXVevZUy2qVq6c6WMTxUO+jPELIfLH7t0wdCicP6/bVrEiLF8OXbuaPCxhZuRWkRAmkJKiFk7r0EF/0n9UR1+SvjAFg4k/MTGRpKQkAI4ePcrmzZvJ1HcXSgih1w8/qEXVgoN122rUgF9/VadpOjubOjJhrgwm/m7dunHr1i1Onz5N9+7d+eWXX+jfv78pYhOiSLt6Vd0EpXt39d+Ps7CAceMgNhbatCmY+IT5Mpj4b968Sc2aNQkNDWX48OGsXLmS48ePmyI2IYokRYGQELWXv2WLbnv9+uqMnoUL1Y3PhTA1g4m/bNmyrFmzhlWrVtG+fXvS0tK4e/euKWIToshJSICOHWHAAHVc/3HW1vDpp+oirZYtCyI6IVQGE//69es5fvw4Y8eOpWnTpkRFRTFx4kRTxCZEkZGVpU7BbNhQnbnzpObN4cgRmD5drbcjREEyOI//7t27/P333wCUK1cOBwcHkwQGMo9fFA3x8eo2iL/9pttWogTMmAFjx6o9fiFMIdfz+OPi4hg0aBApKSmUKVMGRVFITk7G2dmZ1atXa/fMFcJc3b8PX3yh9uIzMnTb/fzU2Tq1a5s+NiGeJsehnn79+hEUFERcXBz79+/nt99+Iz4+nq+++oq33377md9g48aN1H74f/6YMWPw8/MjMDBQ+4k0Z84cfHx8aNOmDRcuXMjj5QhhGseOgYcHfPKJbtIvVQpWroSwMEn6onDKMfHfunWLxo0b6xxv3Lgxt/XtDKHHpk2buHbtGhUqVODEiRPcvXuXiIgI+vTpQ3BwMCkpKURGRhIZGcmMGTNYtGhR7q9ECBO4excmTYIWLSAmRre9Uyd1IdbQoVJJUxReOf6v2aNHDwIDAwkODmbnzp3s2rWLtWvX0qVLF7p162bwhbdt20ZiYiJjxowBID4+nqZNmwLQvHlz4uLiOHPmjHbI6NExIQqr/fvVzU/mzIEHD7K3lS0LGzbAjh1QpUqBhCfEM8txjH/mzJmEhYURHh6u3Vi9fPnyjB49mrZt2xp84d27d3Py5Em2b99ObGwsU6dO1X4IAFhYWKAoClZWVtmOCVHY3Lql9vKXLdPf3qePWknT1dW0cQmRW0+dZxAQEEBAQACKojx3Ul6+fLn2397e3gQFBbFkyRIAjhw5Qr169ahduzaxsbHZjglRmPz8s7oBir7bT5Urw4oVEBho+riEyIscE//Vq1cZN24cUVFRZGZmoigK1tbWeHp6snDhQipXrvxcb9SwYUPs7Ozw8/OjZMmSrF+/HmdnZ7y9vfH19cXKyopgfcVMhCgAyckwfjz83//pbx82TN08RWYZi6Iox3n8fn5+TJgwgU6dOmH58C5VVlYWO3fu5IsvvmDfvn1GD07m8QtTUxTYvBnefReuXdNtr1ULvv4a/P1NH5sQz8pQ7szx5u7Vq1cJDAzUJn0AS0tLAgMDtQu6hChOrlyBbt3UjVCeTPqWljBhAvzxhyR9UfTlONTj6+vLu+++S48ePXB1dcXa2ppr166xadMmWrdubcoYhTAqRYE1a9Shncc6SloNG8Lq1eq8fSGKgxyHeh48eEBISAjh4eFcfVhTtnz58vj5+TFgwACsTbD+XIZ6hLGdO6fOuf/1V902GxuYPBk++ghsbU0fmxC5JXvuCqHHgwfqnrcffwx37ui2e3qqvXypTCKKolyP8aelpTFp0iRatmxJ9erVqV69Op6ennz44Yf8888/xolWCBM4eRJ8fNTCaU8mfXt7tU7+b79J0hfFV46Jv0+fPlSqVImtW7fyv//9j7/++ott27bx4osv0rdvX1PGKES+yMiAzz+Hpk3h4EHd9oAAOHFC3RnrsXWFQhQ7OQ711K1bl9OnT+t9kpubG6dOnTJqYCBDPSL/HD6sbmj+xx+6baVLw4IFarssHhfFQa6Heho0aMD8+fNJSEggLS2N9PR0Ll68yIIFC3B3dzdOtELks7t3YeJEdcxeX9J/7TV16GfwYEn6wnzk2ONPS0tj7ty52lk9FhYW2lk9H374ISVLljR6cNLjF3kREaEm9L/+0m1zdVV3zOrZUxK+KH5kVo8wO//8Ax9+CEFB+tvfegsWLVIragpRHOV6qOdpNmzYkPuIhDCi//5XnY2jL+lXqQI7d8LatZL0hXnLMfFnZGTo/UlPT5cNU0Shc/262pPv1AkSE3XbR4yAP/+EV181fWxCFDY5Lr+tX78+58+f58UXX+TRaNCjGvqPVvIKUdAUBb77DkaPVpP/k+rUUfe99fU1fWxCFFY5Jv5Dhw7RoEEDzp49q9PWokULowYlxLO4dAlGjoQff9Rte1RUbdo0dVGWEOJfOSb+F154gZCQEL1t8+bNM1pAQhiiKGovfsIE9Ubukxo3VsstNG9u+tiEKApkVo8oUs6cgSFDYO9e3TZbW/j0U3Xevo2N6WMTorAwlDuNX2JTiHzw4IG6r+3kyeqirCe1aqX28mX3TiEMk8QvCr0TJ9RyCocO6bY5OMDs2TBqlNTXEeJZGS3xJycn07NnT7KysgCYNm0aU6dO1bZbWloSFhaGRqPRbubu4eEh9w+EVkaGmtRnzoT793Xb27aFr76CGjVMH5sQRdkzJf579+6RlJTE47cDqlat+tTnODk5sWvXLqytrZk2bRppaWmEh4cDsGXLFs6dO6c9d8+ePSbZ2EUUHYcOqb38Eyd025yd1dLJAwZIuQUhcsNgtv30009ZvXo1VapU0e6/a2FhwYEDB57+wg8TuZeXFy4uLnzyySeAurPXsmXL2LlzJwD29vb4+/vj4ODA4sWLqSeDtGbtzh31Bu2iRfDwy2I2r78Oy5ZBxYqmj02I4sLgrJ5atWoRFxeHbR72ngsKCsLa2prBgwezevVq7t27x6hRo7KdExMTw+eff87mzZu1x2RWj3nZu1ctqqZn6Qjly6sJv3t308clRFGT51o9NWvW5I6+vekMSElJISMjA1C/Idy/f5979+4RHBzMkCFDtOfduHEDAAcHB+zs7J77fUTRl5oKw4apG6HoS/r9+6ulkyXpC5E/DA71pKam0qZNG9zc3LIdN1SoLSEhgVGjRmFra4uLiwvr1q1j6dKlvPPOO9m+PXTt2hUAGxsbgnIqpyiKrR07YPhwuHxZt61qVfXmbYcOpo9LiOLM4FBPRESE3uN+fn5GCehxMtRTfCUlwZgxsHGj/vZ334VZs6BUKdPGJURxIPX4RaGiKPDtt2rST07WbXdzU8sxeHubPjYhiotcr9ytX78+J0+epGLFilg8Nmfu0Zz7y/q+mwvxFBcvquWRH07oysbKSi218OmnUKKE6WMTwpxIj18YXVYWfP01fPAB3Lql296kCXzzDTRtavLQhCiWcj2r588//zT44n/p28xUiMf873/qbJ3hw3WTvp2dOo5/6JAkfSFMKcfE37dvX7788kvS09N12u7fv8/y5cvp3bu3UYMTRVdmJnzxhVoiWd/8gNatISYGJk2SSppCmFqOY/z79+9n5syZ1KpVC09PT2rUqIGlpSXnzp0jOjqaPn36sFdfbVxh9v74Qy23cPiwbpujI8yZo26gYpmrHZ+FEHllcIw/MzOT6OhoEh9uZFqlShVatGhhkto6MsZftKSnqwXVZs9We/xP6tABVq6EatVMH5sQ5iTP9fitra1p1apV/kYlip2oKLWXf/KkbpuLCyxeDP36SVE1IQoD+bIt8iQtDcaNAy8v/Um/Rw+Ii4O335akL0RhIbWQRa79+isMHQqPVdjWqlBBLarWrZvp4xJCPJ30+MVzu3lTHdZp105/0n/nHbX3L0lfiMLJYOL/448/aNu2LU0fTrQODw9nypQpRg9MFE7btkH9+uqCqydVrw67d6ttLi6mjkwI8awMJv5BgwaxYMEC7t27B0Dr1q1Zt26d0QMThcvff0PPnupGKFeuZG+zsFBr78TGqt8ChBCFm8Ex/oyMDF566SXtYxsbG6mbb0YUBdatg7Fj4eHWCdm4u8Pq1erNXSFE0WCwx9+4cWN27tyJhYUF165d4/3338fDw8MUsYkCduECdOqkzsh5MulbW8PkyerqW0n6QhQtBhN/UFAQ+/fvx8HBgVdffRVLS0uWLVtmithEAcnKguXLoUEDCA3VbX/5ZXVV7owZar0dIUTRYnDl7u+//46joyMNGzYE4PTp06SkpODp6Wn04GTlrumdOqXue7t/v25biRIwfTqMH6/2+IUQhVOe99wdPHgwZcuW1T52dXVl+PDh+RSeKCwyM9UaOi+9pD/p+/jA8eNqzXxJ+kIUbQb/hDMzM6lQoYL2sYuLC3fv3jX4wsnJyfTs2ZOsrCwA1q1bR0BAABUrVgTgtddeY/z48cyZM4edO3dia2vLmjVrqFq1am6vReRSTIw6L//oUd22UqVg7lx1M3QpqiZE8WAw8Tdr1oy5c+cycOBALCwsWLNmDe7u7gZf2MnJiV27dmFtbc20adM4fvw4rq6uhIeHa89JSUkhMjKSyMhIDhw4wKJFi1i0aFGeLkg8u3v31HH6uXPhwQPd9ldeUYuqvfii6WMTQhiPwT7cypUruXHjBh07dqRDhw4kJibyjb7VO0+wtrbG2toaLy8voqOjadeuHWlpafj4+PDaa69x9epVzpw5Q4MGDQBo3rw5cXFxeb8i8Ux++03d/GTWLN2kX6aMOoVz505J+kIURwZ7/CVLlmTu3Lm5foMDBw4QFBRESEgIx44dA2Dbtm3Mnz+fXr16YWVlpT3XQqp4Gd3t2/Dxx7B0qTpH/0m9esF//gPlypk+NiGEaeSY+AcMGEBwcDB9+vTRm5A3bNjw1BdOSUnB0dERW1tbLCwsSEtLIy0tDUdHRxwcHLCzs6N27drExsYCcOTIEerVq5fHyxFPs3u3WlTt/HndtooVYcUK6NLF9HEJIUwrx8Q/atQogFzP4ElISGDUqFHY2tri4uLC4sWLadeuHba2tjg4OBASEoKLiwve3t74+vpiZWVFcHBwrt5LPN2NG/D++5DTr3fwYHWbRGdnU0YlhCgoBufxe3h4cOjQIVPFk43M48+7LVtg1Ci11s6TataEr76CNm1MH5cQwnjyPI/f3t7+maZvisLl6lV1E5QePXSTvqWlugjrjz8k6Qthjgze3HV0dKRLly40b9482/FZs2YZLSiRe4oCISFqYk9J0W1/VFLZBAuvhRCFlMHE36tXL1PEIfJBQoJ68/aXX3TbrK3hk09g0iSpryOEuXtq4j906BC2tra0bNmSGjVqmCom8ZyystRtDidNUvfAfVLz5movv1Ej08cmhCh8chzjnz17NuPHjycmJoauXbuyfft2U8YlnlFcnFpHZ8wY3aRfogTMnw8HD0rSF0L8K8dZPe7u7vzxxx/Y2tpy6dIlOnXqRExMjEmDk1k9Obt/X52COX06ZGTotms08PXXULu2yUMTQhQwQ7kzx6EeS0tLbG1tAahcubJ260VR8I4eVYuq6fscLl1a/UAYPFiKqgkh9Msx8SckJOD1cGslRVG4cOECXl5eKIqChYUFBw4cMFmQQnX3Lnz2mZrY9RVV69xZXX1bpYrpYxNCFB05Jn4pmFa4REaqvfjTp3XbypZV6+v07q1ufC6EEE+TY+KvVq2aKeMQObh1Cz76SN0KUZ++fWHxYnB1NWlYQogiTPZSKsRCQ9UNUC5e1G2rXFkd1gkMNH1cQoiiTW7/FULJyfD22/Dqq/qT/rBh8OefkvSFELkjPf5CRFFg82Z49124dk23vVYtWLVKnaophBC5JT3+QuLyZejWDXr21E36lpYwYYJaVE2SvhAir6THX8AURS2n8P778NiaC61GjWD1amjRwvSxCSGKJ+nxF6CzZ6FdO3Wa5pNJ38ZGXZV7+LAkfSFE/pIefwF48ACWLFGrZd65o9vu6an28h/uQy+EEPlKEr+JnTyplluIitJtc3CAmTNh9Gh4bA96IYTIV0ZL/MnJyfTs2ZOsrCwA1q1bx5tvvsn9+/ext7dn8+bNODs7o9FotGUgPDw8mDdvnrFCKlAZGTB3Lnz+uf6iam3aqNsg1qxp+tiEEObF4J67uZWZmQmAtbU106ZNo1mzZvj7+1OqVCkWLFhAlSpV6NWrFxqNhl9//RVra93PoOJSnTM6Wu3lx8bqtjk5wYIFMHCglFsQQuSPPO+5m1vW1tZYW1vj5eVFdHQ0r7zyCqVKlQLgxIkTNGzYEFD39PX396dDhw7Frj7QnTswcSK0bKk/6Xfp8u/QjyR9IYSpGK3H/7igoCCsra0ZPHgwCxcuxMLCgnHjxmU7JyYmhs8//5zNmzdrjxXlHn9EhDpb56+/dNtcXWHpUnjjDUn4Qoj8V2A9/pSUFDIeDmZbWFhw//59Jk+ejK2tbbakf+PGDQAcHBywKwabwf7zD4wYoS600pf0+/VTd83q2VOSvhCiYBitx3/s2DFGjRqFra0tLi4ujB07lu7du2uHeDp27MhHH32Er68vADY2NgQFBVGnTh3taxS1Hv/OnTB8OCQm6ra9+CKsXAmvvGL6uIQQ5sVQ7jTJUE9uFZXEn5QEY8fChg3620eOhNmz1d2xhBDC2HK99aIwTFHgu+/UeffXr+u216mjFlV7+KVGCCEKBSnZkEuXLqmzcvr00U36Vlbw4Ydw/LgkfSFE4SM9/uekKGovfsIE9Ubuk156SS238PLLpo9NCCGehfT4n8OZM+oK26FDdZO+ra26Kjc6WpK+EKJwkx7/M3jwAL78EiZPhrt3ddtbtVJ7+fXqmT42IYR4XpL4DThxQl1Ze+iQbpujozpbZ+RIKaomhCg6JPHnICMDZs1Sf+7f121v104tqla9uslDE0KIPJHEr8ehQ2rRtD//1G1zdoZFi6B/f1l5K4QomuTm7mPu3FG3QGzVSn/Sf/11tajagAGS9IUQRZf0+B/au1ctqnb2rG5b+fKwbBl07276uIQQIr+ZfY8/NVWdnhkQoD/p9++v9vIl6Qshiguz7vH/+KNaSfPyZd22qlXVm7cdOpg+LiGEMCaz7PFfuwa9e6slF55M+hYW8O676jROSfpCiOLIrHr8iqJW0HzvPUhO1m13c1PLMXh7mz42IYQwFbPp8V+8CIGB8NZbuknfygo+/hhiYiTpCyGKv+LZ458+Xe2+9+5N1oaNfLWhJBP3debWLd1TmzaFb76BJk1MHqUQQhSI4pf4p01TE7+lJf9bFcGQPb2IQKNzmp2deur774ONjamDFEKIgmO0xJ+cnEzPnj3JysoCYN26dcydO5fjx49TunRp1q1bh5OTE3PmzGHnzp3Y2tqyZs0aqlatmvs3nT5d/QG+zhrImD0LuYe9zmne3upYvptb7t9KCCGKKqON8Ts5ObFr1y727t2Ln58fW7Zs4e7du0RERNCnTx+Cg4NJSUkhMjKSyMhIZsyYwaJFi/L2pm5uYKleUnn+1kn6JUvcZ+lSiIiQpC+EMF9GS/zW1tZYW1vj5eVFdHQ0FStWpGnTpgA0b96cuLg4zpw5Q4MGDbIdy5PevdU7uMBr7KAXG7VNHcod5US8DaNGaT8bhBDCLBk9BR44cIDAwEASEhKweqx2sYWFBYqi6BzLk40bYccO7cP/MIa6nCKEtwlNakG1gxuf8mQhhDAPRhvjT0lJwdHREVtbWywsLChRogRHjx4F4MiRI9SrV4/atWsTGxub7VienDoFD+8pAJQjiZPUx4osUB62CyGEmTNa4k9ISGDUqFHY2tri4uLCunXrmDRpEn5+fpQsWZL169fj7OyMt7c3vr6+WFlZERwcnLc3nTpVXaX1cFYPgYFY7dgBWQ/bpk7Nj0sTQogizUJRFKWgg8hJamqq9t9OTk7P/sTH5vGzcaPa05ekL4QwE4ZyZ/FM/EIIYcYM5U6Z3yKEEGZGEr8QQpgZSfxCCGFmikytnsfHrIQQQuSe9PiFEMLMSOIXQggzU6incwohhMh/0uMXQggzI4lfCCHMTLFJ/B07dsTJyYnMzMxsxzMzM3nzzTfx8/Ojb9++3L9/v4AizH85XfPp06fx9vamZcuW9OjRwyyu+ZGNGzdSu3ZtE0dlPE+73p07d9K+fXt8fX2L1ay3nK751q1bvPbaa7Rs2RJvb2/Onz9fQBHmv6f9zRojhxWbxP/zzz9r6/0/ebx+/fpERETQsGFD/vvf/xZAdMaR0zVXqlSJPXv2EBUVRcWKFbVVUYuDnK4ZYNOmTVy7do0KFSqYOCrjyel6ExMTWbVqFT/99BP79u0rViVNcrrmPXv20LJlS6KiohgzZgw//vhjAURnHE/7mzVGDis2iT8n8fHxOhvAFHclS5bEzs4ORVE4c+ZMseoB52Tbtm0kJiYyZsyYgg7FJEJDQ0lNTaVz58507dqVpKSkgg7J6DQaDbt27WLy5MmEh4fTo0ePgg4p3zztb9YYOazYJ/583+ylCJkwYQLvvPMOZcqUKehQjG737t1s374djUZDbGwsY8eOLeiQjColJYXRo0eze/duBgwYwIIFCwo6JKOLj4/H19eXQYMGoSgKBw8eLOiQ8p2+v1lj5LBin/jr1aunswFMcZeRkcGwYcNo3bo1b7zxRkGHYxLLly8nPDyc8PBwGjVqxOLFiws6JKNyc3PTbmLk5OSEtXWRWYSfawcPHqRatWrUqFGDt956i8jIyIIOKd887W/WKDlMKSb69++vuLq6Kj179lTOnDmj9OrVS1EURbl//77St29fxdfXV+nVq5eSkZFRwJHmn5yuOSQkRKlcubLi5+en+Pn5KWvWrCnYQPNRTtf8uNatWxdAZMaR0/VmZWUpb7/9tqLRaJTOnTsrSUlJBRxp/snpmpOSkpR27dopfn5+Srt27ZSEhIQCjjT/6PubNWYOkwVcQghhZor9UI8QQojsJPELIYSZkcQvhBBmRhK/EEKYGUn8QghhZiTxi0Lvhx9+oGnTptSuXZu6desyd+5cAJYuXcrSpUvz/PpHjhzh5Zdf5tatW9pjX375JR999FG287Zs2UK9evWoX78+Gzdu1B7fv38/jRo1wt3dnUWLFmmPx8fH06JFC+rWrcsHH3yQ5zivXLmCp6cnbm5ufPfdd6xatUrb9ttvv+Hr65tjDSMhssnzhFAhjOjq1atKgwYNlJSUFEVRFOXKlStKUFBQvr5Hy5YtlcOHD2sft2vXTilZsqTy4Ycfao+lpqYqderUUW7cuKGkpqYq7u7uyo0bN5SsrCzFzc1NOXfunJKRkaF4eHgoJ0+eVBRFUby9vZXff/9dycrKUrp166aEhobmKc4FCxYon332maIoinLu3DnF09MzW/ukSZOUZcuW5ek9hHmQHr8o1BITE3F0dMTZ2RmAChUqMGzYMACmTZtGUFAQ8fHxuLu74+7uTtWqVXF3dwfUiodt2rShQYMGvPLKK6SkpOi8flRUFI6Ojrz88svaY7t372bJkiXZzouOjqZly5a4uLhQunRpfHx8OHjwIGfPnqVcuXJUr14dGxsbunTpwt69e8nIyCAxMREPDw8sLCzo3r07YWFhOu9/+PBhmjRpQq1atfDx8SEtLY3U1FRef/113N3dadWqFRqNhuvXrzNr1iyWLVuGu7s706ZN4/jx47i7uzNlyhQA3nvvPZYtW5Yvv3dRvBX/dd6iSHvppZfIysqiSZMmtGnTBj8/Pzp16pStdom7uzvx8fEAvPHGG9ol7++99x5r1qyhatWqLF68mKVLl2qT5CNhYWEEBgYajOPq1au4urpqH5ctW5arV6/i5OSkczwxMZGkpCReeOEFnfOfNGPGDBYsWECbNm04evQolpaWzJgxA29vb7Zu3cqxY8cYN24cZcuW5d1336VChQoMHz6chIQE4uPjiYqK0r5W+fLlKVGiBFeuXKFixYoGr0mYL+nxi0LN2tqa3377jRkzZmBjY8PEiRNzrD+0fv16bGxs6NmzJ7du3SIiIoL27dvj7u7OkiVLuHz5ss5zEhMTqVGjxjPHkh/HH9eoUSMmT57MihUrcHV1xd7envDwcPr16weAvb39M8X2SPXq1UlMTHyu5wjzIz1+UejZ2toSGBhIYGAgn332GZUrV0Z5otLIpUuXmD17trZwl6IoVK1aVftN4GksLQ33f8qXL8+1a9e0j69fv07r1q31Hi9fvjxly5YlOTlZ5/iTZsyYQfv27dmzZw+tWrUiKiqKjIyMXBddy8rKytXzhHmRHr8o1Pbu3UtQUJB2tsqff/5JrVq1dErTDh48mPnz5+Pi4gJA6dKlKVmyJNu3bwfg5s2bHDp0SOf1q1SpQkJCgsE4WrRoQWRkJKmpqdpvEy1btqRWrVpcunSJCxcukJmZyY8//oifnx92dnaUL1+e6OhoQJ2ZpNFodF43NDSUli1bMn36dOrXr8/ly5dp2rQpP//8M0COm+g4Oztz5coVHjx4kO1DMCEhgSpVqhi8HmHeJPGLQq1KlSrs2LGDOnXq0LBhQz766CNCQkKynXPw4EF+/fVXxo4di7u7u/ZG7bp161i8eDFubm60aNGCCxcu6Lx+QEAAP/30U7ZjvXv3Zvr06YSEhODr6wuopY9nzZpFy5Yt8fDw4NNPP6VMmTJYWFiwatUqOnXqRIMGDejevTsNGzYE4Ouvv2bEiBHUrVuXqlWr8uqrr+q8f1RUFHXr1qVevXrUq1cPDw8Ppk2bxsKFC6lfvz6hoaF6fy/Ozs506NCBGjVqaO9bXLp0ifT0dBnfFwZJdU5h9ry8vAgKCqJx48YFHYqO+Ph4hg8fTnh4uMFz33vvPdzc3Bg5cqTxAxNFmvT4hdlbsmQJw4cP5+7duwUdSq7t2bOHw4cPM3To0IIORRQB0uMXQggzIz1+IYQwM5L4hRDCzEjiF0IIMyOJXwghzIwkfiGEMDOS+IUQwsz8PzD2+sUHxgpBAAAAAElFTkSuQmCC\n",
            "text/plain": "<Figure size 432x288 with 1 Axes>"
          },
          "metadata": {}
        }
      ],
      "execution_count": 12,
      "metadata": {},
      "id": "21332a57"
    },
    {
      "cell_type": "markdown",
=======
      ]
    },
    {
      "cell_type": "markdown",
      "id": "8f6ed2bd",
      "metadata": {
        "id": "8f6ed2bd"
      },
>>>>>>> f2adcd5d8fa8db8c0b09e0bc450fd68b39e2f1f7
      "source": [
        "As you can see, setting $w = 100$ and $b = 100$ does *not* result in a line that fits our data. \n",
        "\n",
        "### Challenge\n",
        "Try experimenting with different values of $w$ and $b$. What should the values be for a line that fits our data?\n",
        "\n",
        "#### Tip:\n",
        "You can use your mouse to click on the green \"Hints\" below to reveal some hints for choosing b and w."
<<<<<<< HEAD
      ],
      "metadata": {},
      "id": "8f6ed2bd"
    },
    {
      "cell_type": "markdown",
=======
      ]
    },
    {
      "cell_type": "markdown",
      "id": "68f15976",
      "metadata": {
        "id": "68f15976"
      },
>>>>>>> f2adcd5d8fa8db8c0b09e0bc450fd68b39e2f1f7
      "source": [
        "<details>\n",
        "<summary>\n",
        "    <font size='3', color='darkgreen'><b>Hints</b></font>\n",
        "</summary>\n",
        "    <p>\n",
        "    <ul>\n",
        "        <li>Try $w = 200$ and $b = 100$ </li>\n",
        "    </ul>\n",
        "    </p>"
<<<<<<< HEAD
      ],
      "metadata": {},
      "id": "68f15976"
    },
    {
      "cell_type": "markdown",
      "source": [
        "### Prediction\n",
        "Now that we have a model, we can use it to make our original prediction. Let's predict the price of a house with 1200 sqft. Since the units of $x$ are in 1000's of sqft, $x$ is 1.2.\n"
      ],
      "metadata": {},
      "id": "065970b6"
    },
    {
      "cell_type": "code",
=======
      ]
    },
    {
      "cell_type": "markdown",
      "id": "065970b6",
      "metadata": {
        "id": "065970b6"
      },
      "source": [
        "### Prediction\n",
        "Now that we have a model, we can use it to make our original prediction. Let's predict the price of a house with 1200 sqft. Since the units of $x$ are in 1000's of sqft, $x$ is 1.2.\n"
      ]
    },
    {
      "cell_type": "code",
      "execution_count": null,
      "id": "feabfcef",
      "metadata": {
        "id": "feabfcef",
        "outputId": "bfb07b7e-c11d-45bb-a200-019d33817d92"
      },
      "outputs": [
        {
          "name": "stdout",
          "output_type": "stream",
          "text": [
            "$340 thousand dollars\n"
          ]
        }
      ],
>>>>>>> f2adcd5d8fa8db8c0b09e0bc450fd68b39e2f1f7
      "source": [
        "w = 200                         \n",
        "b = 100    \n",
        "x_i = 1.2\n",
        "\n",
        "cost_1200sqft = w * x_i + b    \n",
        "\n",
        "print(f\"${cost_1200sqft:.0f} thousand dollars\")"
<<<<<<< HEAD
      ],
      "outputs": [
        {
          "output_type": "stream",
          "name": "stdout",
          "text": [
            "$340 thousand dollars\n"
          ]
        }
      ],
      "execution_count": 10,
      "metadata": {},
      "id": "feabfcef"
    },
    {
      "cell_type": "markdown",
=======
      ]
    },
    {
      "cell_type": "markdown",
      "id": "fc8d65d8",
      "metadata": {
        "id": "fc8d65d8"
      },
>>>>>>> f2adcd5d8fa8db8c0b09e0bc450fd68b39e2f1f7
      "source": [
        "\n",
        "### In this lab you have learned:\n",
        " - Linear regression builds a model which establishes a relationship between features and targets\n",
        "     - In the example above, the feature was house size and the target was house price\n",
        "     - for simple linear regression, the model has two parameters $w$ and $b$ whose values are 'fit' using *training data*.\n",
        "     - once a model's parameters have been determined, the model can be used to make predictions on novel data."
<<<<<<< HEAD
      ],
      "metadata": {},
      "id": "fc8d65d8"
    },
    {
      "cell_type": "code",
      "source": [],
      "outputs": [],
      "execution_count": null,
      "metadata": {},
      "id": "58699100"
    },
    {
      "cell_type": "code",
      "source": [],
      "outputs": [],
      "execution_count": null,
      "metadata": {},
      "id": "90c87abd"
=======
      ]
    },
    {
      "cell_type": "code",
      "execution_count": null,
      "id": "58699100",
      "metadata": {
        "id": "58699100"
      },
      "outputs": [],
      "source": []
    },
    {
      "cell_type": "code",
      "execution_count": null,
      "id": "90c87abd",
      "metadata": {
        "id": "90c87abd"
      },
      "outputs": [],
      "source": []
>>>>>>> f2adcd5d8fa8db8c0b09e0bc450fd68b39e2f1f7
    }
  ],
  "metadata": {
    "kernelspec": {
      "display_name": "Python 3 (ipykernel)",
      "language": "python",
      "name": "python3"
    },
    "language_info": {
      "codemirror_mode": {
        "name": "ipython",
        "version": 3
      },
      "file_extension": ".py",
      "mimetype": "text/x-python",
      "name": "python",
      "nbconvert_exporter": "python",
      "pygments_lexer": "ipython3",
      "version": "3.9.12"
    },
    "toc-autonumbering": false,
<<<<<<< HEAD
    "nteract": {
      "version": "0.28.0"
=======
    "colab": {
      "provenance": [],
      "include_colab_link": true
>>>>>>> f2adcd5d8fa8db8c0b09e0bc450fd68b39e2f1f7
    }
  },
  "nbformat": 4,
  "nbformat_minor": 5
}