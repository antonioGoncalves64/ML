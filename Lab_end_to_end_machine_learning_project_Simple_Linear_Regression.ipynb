{
  "cells": [
    {
      "cell_type": "markdown",
      "source": [
        "**End-to-end Machine Learning project**"
      ],
      "metadata": {
        "id": "qlbKe5heHaCy"
      }
    },
    {
      "cell_type": "code",
      "source": [
        "\n",
        "# Since we are going to use various libraries for calculations, we need to import them.\n",
        "import pandas as pd\n",
        "import numpy as np\n",
        "import matplotlib.pyplot as plt\n",
        "from sklearn import linear_model\n",
        "\n"
      ],
      "outputs": [],
      "execution_count": 84,
      "metadata": {
        "id": "Kdh61wPpu3C_"
      }
    },
    {
      "cell_type": "code",
      "source": [
        "# Read the CSV file and check the first five rows of our dataset. In this case, we are using a vehicle model dataset \n",
        "data = pd.read_csv(\"https://s3-api.us-geo.objectstorage.softlayer.net/cf-courses-data/CognitiveClass/ML0101ENv3/labs/FuelConsumptionCo2.csv\")\n",
        "data.head()\n",
        "\n"
      ],
      "outputs": [
        {
          "output_type": "execute_result",
          "execution_count": 82,
          "data": {
            "text/plain": "   MODELYEAR   MAKE       MODEL VEHICLECLASS  ENGINESIZE  CYLINDERS  \\\n0       2014  ACURA         ILX      COMPACT         2.0          4   \n1       2014  ACURA         ILX      COMPACT         2.4          4   \n2       2014  ACURA  ILX HYBRID      COMPACT         1.5          4   \n3       2014  ACURA     MDX 4WD  SUV - SMALL         3.5          6   \n4       2014  ACURA     RDX AWD  SUV - SMALL         3.5          6   \n\n  TRANSMISSION FUELTYPE  FUELCONSUMPTION_CITY  FUELCONSUMPTION_HWY  \\\n0          AS5        Z                   9.9                  6.7   \n1           M6        Z                  11.2                  7.7   \n2          AV7        Z                   6.0                  5.8   \n3          AS6        Z                  12.7                  9.1   \n4          AS6        Z                  12.1                  8.7   \n\n   FUELCONSUMPTION_COMB  FUELCONSUMPTION_COMB_MPG  CO2EMISSIONS  \n0                   8.5                        33           196  \n1                   9.6                        29           221  \n2                   5.9                        48           136  \n3                  11.1                        25           255  \n4                  10.6                        27           244  ",
            "text/html": "\n  <div id=\"df-75e0d520-0d3d-4b09-b72e-33c225930056\">\n    <div class=\"colab-df-container\">\n      <div>\n<style scoped>\n    .dataframe tbody tr th:only-of-type {\n        vertical-align: middle;\n    }\n\n    .dataframe tbody tr th {\n        vertical-align: top;\n    }\n\n    .dataframe thead th {\n        text-align: right;\n    }\n</style>\n<table border=\"1\" class=\"dataframe\">\n  <thead>\n    <tr style=\"text-align: right;\">\n      <th></th>\n      <th>MODELYEAR</th>\n      <th>MAKE</th>\n      <th>MODEL</th>\n      <th>VEHICLECLASS</th>\n      <th>ENGINESIZE</th>\n      <th>CYLINDERS</th>\n      <th>TRANSMISSION</th>\n      <th>FUELTYPE</th>\n      <th>FUELCONSUMPTION_CITY</th>\n      <th>FUELCONSUMPTION_HWY</th>\n      <th>FUELCONSUMPTION_COMB</th>\n      <th>FUELCONSUMPTION_COMB_MPG</th>\n      <th>CO2EMISSIONS</th>\n    </tr>\n  </thead>\n  <tbody>\n    <tr>\n      <th>0</th>\n      <td>2014</td>\n      <td>ACURA</td>\n      <td>ILX</td>\n      <td>COMPACT</td>\n      <td>2.0</td>\n      <td>4</td>\n      <td>AS5</td>\n      <td>Z</td>\n      <td>9.9</td>\n      <td>6.7</td>\n      <td>8.5</td>\n      <td>33</td>\n      <td>196</td>\n    </tr>\n    <tr>\n      <th>1</th>\n      <td>2014</td>\n      <td>ACURA</td>\n      <td>ILX</td>\n      <td>COMPACT</td>\n      <td>2.4</td>\n      <td>4</td>\n      <td>M6</td>\n      <td>Z</td>\n      <td>11.2</td>\n      <td>7.7</td>\n      <td>9.6</td>\n      <td>29</td>\n      <td>221</td>\n    </tr>\n    <tr>\n      <th>2</th>\n      <td>2014</td>\n      <td>ACURA</td>\n      <td>ILX HYBRID</td>\n      <td>COMPACT</td>\n      <td>1.5</td>\n      <td>4</td>\n      <td>AV7</td>\n      <td>Z</td>\n      <td>6.0</td>\n      <td>5.8</td>\n      <td>5.9</td>\n      <td>48</td>\n      <td>136</td>\n    </tr>\n    <tr>\n      <th>3</th>\n      <td>2014</td>\n      <td>ACURA</td>\n      <td>MDX 4WD</td>\n      <td>SUV - SMALL</td>\n      <td>3.5</td>\n      <td>6</td>\n      <td>AS6</td>\n      <td>Z</td>\n      <td>12.7</td>\n      <td>9.1</td>\n      <td>11.1</td>\n      <td>25</td>\n      <td>255</td>\n    </tr>\n    <tr>\n      <th>4</th>\n      <td>2014</td>\n      <td>ACURA</td>\n      <td>RDX AWD</td>\n      <td>SUV - SMALL</td>\n      <td>3.5</td>\n      <td>6</td>\n      <td>AS6</td>\n      <td>Z</td>\n      <td>12.1</td>\n      <td>8.7</td>\n      <td>10.6</td>\n      <td>27</td>\n      <td>244</td>\n    </tr>\n  </tbody>\n</table>\n</div>\n      <button class=\"colab-df-convert\" onclick=\"convertToInteractive('df-75e0d520-0d3d-4b09-b72e-33c225930056')\"\n              title=\"Convert this dataframe to an interactive table.\"\n              style=\"display:none;\">\n        \n  <svg xmlns=\"http://www.w3.org/2000/svg\" height=\"24px\"viewBox=\"0 0 24 24\"\n       width=\"24px\">\n    <path d=\"M0 0h24v24H0V0z\" fill=\"none\"/>\n    <path d=\"M18.56 5.44l.94 2.06.94-2.06 2.06-.94-2.06-.94-.94-2.06-.94 2.06-2.06.94zm-11 1L8.5 8.5l.94-2.06 2.06-.94-2.06-.94L8.5 2.5l-.94 2.06-2.06.94zm10 10l.94 2.06.94-2.06 2.06-.94-2.06-.94-.94-2.06-.94 2.06-2.06.94z\"/><path d=\"M17.41 7.96l-1.37-1.37c-.4-.4-.92-.59-1.43-.59-.52 0-1.04.2-1.43.59L10.3 9.45l-7.72 7.72c-.78.78-.78 2.05 0 2.83L4 21.41c.39.39.9.59 1.41.59.51 0 1.02-.2 1.41-.59l7.78-7.78 2.81-2.81c.8-.78.8-2.07 0-2.86zM5.41 20L4 18.59l7.72-7.72 1.47 1.35L5.41 20z\"/>\n  </svg>\n      </button>\n      \n  <style>\n    .colab-df-container {\n      display:flex;\n      flex-wrap:wrap;\n      gap: 12px;\n    }\n\n    .colab-df-convert {\n      background-color: #E8F0FE;\n      border: none;\n      border-radius: 50%;\n      cursor: pointer;\n      display: none;\n      fill: #1967D2;\n      height: 32px;\n      padding: 0 0 0 0;\n      width: 32px;\n    }\n\n    .colab-df-convert:hover {\n      background-color: #E2EBFA;\n      box-shadow: 0px 1px 2px rgba(60, 64, 67, 0.3), 0px 1px 3px 1px rgba(60, 64, 67, 0.15);\n      fill: #174EA6;\n    }\n\n    [theme=dark] .colab-df-convert {\n      background-color: #3B4455;\n      fill: #D2E3FC;\n    }\n\n    [theme=dark] .colab-df-convert:hover {\n      background-color: #434B5C;\n      box-shadow: 0px 1px 3px 1px rgba(0, 0, 0, 0.15);\n      filter: drop-shadow(0px 1px 2px rgba(0, 0, 0, 0.3));\n      fill: #FFFFFF;\n    }\n  </style>\n\n      <script>\n        const buttonEl =\n          document.querySelector('#df-75e0d520-0d3d-4b09-b72e-33c225930056 button.colab-df-convert');\n        buttonEl.style.display =\n          google.colab.kernel.accessAllowed ? 'block' : 'none';\n\n        async function convertToInteractive(key) {\n          const element = document.querySelector('#df-75e0d520-0d3d-4b09-b72e-33c225930056');\n          const dataTable =\n            await google.colab.kernel.invokeFunction('convertToInteractive',\n                                                     [key], {});\n          if (!dataTable) return;\n\n          const docLinkHtml = 'Like what you see? Visit the ' +\n            '<a target=\"_blank\" href=https://colab.research.google.com/notebooks/data_table.ipynb>data table notebook</a>'\n            + ' to learn more about interactive tables.';\n          element.innerHTML = '';\n          dataTable['output_type'] = 'display_data';\n          await google.colab.output.renderOutput(dataTable, element);\n          const docLink = document.createElement('div');\n          docLink.innerHTML = docLinkHtml;\n          element.appendChild(docLink);\n        }\n      </script>\n    </div>\n  </div>\n  "
          },
          "metadata": {}
        }
      ],
      "execution_count": 82,
      "metadata": {
        "id": "OdVn6zusu-0i",
        "outputId": "144210ea-b8a0-4b1e-95c2-d4f871facbd8",
        "colab": {
          "base_uri": "https://localhost:8080/",
          "height": 248
        }
      }
    },
    {
      "cell_type": "code",
      "source": [
        "# Our goal is to predict the value of “co2 emissions” from the value of “engine size” in our dataset. \n",
        "# Select the features we want to consider in predicting values.\n",
        "# We can visualize our data on a scatter plot.\n",
        "\n",
        "data = data[[\"ENGINESIZE\",\"CO2EMISSIONS\"]]\n",
        "\n",
        "# ENGINESIZE vs CO2EMISSIONS:\n",
        "plt.scatter(data[\"ENGINESIZE\"] , data[\"CO2EMISSIONS\"] , color=\"blue\")\n",
        "plt.xlabel(\"ENGINESIZE\")\n",
        "plt.ylabel(\"CO2EMISSIONS\")\n",
        "plt.show()"
      ],
      "outputs": [
        {
          "output_type": "display_data",
          "data": {
            "text/plain": "<Figure size 640x480 with 1 Axes>",
            "image/png": "[encoded data removed]"
          },
          "metadata": {}
        }
      ],
      "execution_count": 86,
      "metadata": {
        "id": "rb5uSFM9vqoZ",
        "outputId": "19b953ef-453f-459f-f3d2-63b1f75cb7db",
        "colab": {
          "base_uri": "https://localhost:8080/",
          "height": 454
        }
      }
    },
    {
      "cell_type": "code",
      "source": [
        "# Divide the data into training and testing data.\n",
        "# To check the accuracy of a model, we are going to divide our data into training and testing datasets. \n",
        "# We will use training data to train our model, and then we will check the accuracy of our model using the testing dataset.\n",
        "# Generating training and testing data from our data.\n",
        "# We are using 80% data for training.\n",
        "\n",
        "train = data[:(int((len(data)*0.8)))]\n",
        "test = data[(int((len(data)*0.8))):]\n"
      ],
      "outputs": [],
      "execution_count": 87,
      "metadata": {
        "id": "ScPoOEhHw5Bk"
      }
    },
    {
      "cell_type": "code",
      "source": [
        "# Training our model\n",
        "# Here is how we can train our model and find the coefficients for our best-fit regression line.\n",
        "\n",
        "# Modeling:\n",
        "# Using sklearn package to model data :\n",
        "regr = linear_model.LinearRegression()\n",
        "train_x = np.array(train[[\"ENGINESIZE\"]])\n",
        "train_y = np.array(train[[\"CO2EMISSIONS\"]])\n",
        "regr.fit(train_x,train_y)\n",
        "\n",
        "# The coefficients:\n",
        "print (\"coefficients : \",regr.coef_) #Slope\n",
        "print (\"Intercept : \",regr.intercept_) #Intercept\n"
      ],
      "outputs": [
        {
          "output_type": "stream",
          "name": "stdout",
          "text": [
            "coefficients :  [[38.79512384]]\n",
            "Intercept :  [127.16989951]\n"
          ]
        }
      ],
      "execution_count": 89,
      "metadata": {
        "id": "e8Eg9zTCxYj4",
        "outputId": "89c4f8f3-c3d2-4cd3-9117-97a9f448f13f",
        "colab": {
          "base_uri": "https://localhost:8080/"
        }
      }
    },
    {
      "cell_type": "code",
      "source": [
        "# Plot the best fit line.\n",
        "# Based on the coefficients, we can plot the best fit line for our dataset.\n",
        "\n",
        "# Plotting the regression line:\n",
        "plt.scatter(train[\"ENGINESIZE\"], train[\"CO2EMISSIONS\"], color='blue')\n",
        "plt.plot(train_x, regr.coef_*train_x + regr.intercept_, '-r')\n",
        "plt.xlabel(\"Engine size\")\n",
        "plt.ylabel(\"Emission\")\n"
      ],
      "outputs": [
        {
          "output_type": "execute_result",
          "execution_count": 90,
          "data": {
            "text/plain": "Text(0, 0.5, 'Emission')"
          },
          "metadata": {}
        },
        {
          "output_type": "display_data",
          "data": {
            "text/plain": "<Figure size 640x480 with 1 Axes>",
            "image/png": "[encoded data removed]"
          },
          "metadata": {}
        }
      ],
      "execution_count": 90,
      "metadata": {
        "id": "ztqsLJWfyALC",
        "outputId": "40f787ad-90b1-4e32-b0ee-8daad9351ddd",
        "colab": {
          "base_uri": "https://localhost:8080/",
          "height": 471
        }
      }
    },
    {
      "cell_type": "code",
      "source": [
        "# Prediction function.\n",
        "# We are going to use a prediction function for our testing dataset.\n",
        "# Function for predicting future values :\n",
        "def get_regression_predictions(input_features,intercept,slope):\n",
        " predicted_values = input_features*slope + intercept\n",
        " return predicted_values\n"
      ],
      "outputs": [],
      "execution_count": 92,
      "metadata": {
        "id": "6PY3K9-uySEt"
      }
    },
    {
      "cell_type": "code",
      "source": [
        "# Predicting co2 emissions for future car.\n",
        "# Predicting the values of co2 emissions based on the regression line.\n",
        "\n",
        "my_engine_size = 3.5\n",
        "estimatd_emission = get_regression_predictions(my_engine_size,regr.intercept_[0],regr.coef_[0][0])\n",
        "print (\"Estimated Emission :\",estimatd_emission)"
      ],
      "outputs": [
        {
          "output_type": "stream",
          "name": "stdout",
          "text": [
            "Estimated Emission : 262.9528329350173\n"
          ]
        }
      ],
      "execution_count": 93,
      "metadata": {
        "id": "nmlmopqzyl26",
        "outputId": "f152a9f3-f880-4469-b560-84d460f4c347",
        "colab": {
          "base_uri": "https://localhost:8080/"
        }
      }
    },
    {
      "cell_type": "code",
      "source": [
        "# Checking accuracy for test data.\n",
        "# We can check the accuracy of a model by comparing the actual values with the predicted values in our dataset.\n",
        "\n",
        "from sklearn.metrics import r2_score\n",
        "test_x = np.array(test[['ENGINESIZE']])\n",
        "test_y = np.array(test[['CO2EMISSIONS']])\n",
        "test_y_ = regr.predict(test_x)\n",
        "print(\"Mean absolute error: %.2f\" % np.mean(np.absolute(test_y_ - test_y)))\n",
        "print(\"Mean sum of squares (MSE): %.2f\" % np.mean((test_y_ - test_y) ** 2))\n",
        "print(\"R2-score: %.2f\" % r2_score(test_y_ , test_y) )"
      ],
      "outputs": [
        {
          "output_type": "stream",
          "name": "stdout",
          "text": [
            "Mean absolute error: 20.60\n",
            "Mean sum of squares (MSE): 746.45\n",
            "R2-score: 0.71\n"
          ]
        }
      ],
      "execution_count": 94,
      "metadata": {
        "id": "-ldhqJ4yy7qq",
        "outputId": "156c429d-93ab-440c-fe37-defffaeeae48",
        "colab": {
          "base_uri": "https://localhost:8080/"
        }
      }
    },
    {
      "cell_type": "markdown",
      "source": [
        "Now let's preprocess the categorical input feature, `ocean_proximity`:"
      ],
      "metadata": {
        "id": "_6UK40I2HaDv"
      }
    },
    {
      "cell_type": "code",
      "source": [
        "housing_cat_encoded[:8]"
      ],
      "outputs": [
        {
          "output_type": "execute_result",
          "execution_count": 64,
          "data": {
            "text/plain": "array([[3.],\n       [0.],\n       [1.],\n       [1.],\n       [4.],\n       [1.],\n       [0.],\n       [3.]])"
          },
          "metadata": {}
        }
      ],
      "execution_count": null,
      "metadata": {
        "id": "xnXwx0M2HaDw",
        "outputId": "a6edf0d2-b938-44ac-b2c6-3a5f1292fe84"
      }
    },
    {
      "cell_type": "code",
      "source": [
        "ordinal_encoder.categories_"
      ],
      "outputs": [
        {
          "output_type": "execute_result",
          "execution_count": 65,
          "data": {
            "text/plain": "[array(['<1H OCEAN', 'INLAND', 'ISLAND', 'NEAR BAY', 'NEAR OCEAN'],\n       dtype=object)]"
          },
          "metadata": {}
        }
      ],
      "execution_count": null,
      "metadata": {
        "id": "ebTiPTPlHaDx",
        "outputId": "001f33e0-7f96-4733-d418-f9254e57f923"
      }
    },
    {
      "cell_type": "code",
      "source": [
        "from sklearn.preprocessing import OneHotEncoder\n",
        "\n",
        "cat_encoder = OneHotEncoder()\n",
        "housing_cat_1hot = cat_encoder.fit_transform(housing_cat)"
      ],
      "outputs": [],
      "execution_count": null,
      "metadata": {
        "id": "ro29njDsHaDy"
      }
    },
    {
      "cell_type": "code",
      "source": [
        "housing_cat_1hot"
      ],
      "outputs": [
        {
          "output_type": "execute_result",
          "execution_count": 67,
          "data": {
            "text/plain": "<16512x5 sparse matrix of type '<class 'numpy.float64'>'\n\twith 16512 stored elements in Compressed Sparse Row format>"
          },
          "metadata": {}
        }
      ],
      "execution_count": null,
      "metadata": {
        "id": "trq7k7ZrHaDz",
        "outputId": "2e76e50c-f531-4954-dfba-08c6e9b0794d"
      }
    },
    {
      "cell_type": "markdown",
      "source": [
        "By default, the `OneHotEncoder` class returns a sparse array, but we can convert it to a dense array if needed by calling the `toarray()` method:"
      ],
      "metadata": {
        "id": "cOu7RkSGHaDz"
      }
    },
    {
      "cell_type": "code",
      "source": [
        "housing_cat_1hot.toarray()"
      ],
      "outputs": [
        {
          "output_type": "execute_result",
          "execution_count": 68,
          "data": {
            "text/plain": "array([[0., 0., 0., 1., 0.],\n       [1., 0., 0., 0., 0.],\n       [0., 1., 0., 0., 0.],\n       ...,\n       [0., 0., 0., 0., 1.],\n       [1., 0., 0., 0., 0.],\n       [0., 0., 0., 0., 1.]])"
          },
          "metadata": {}
        }
      ],
      "execution_count": null,
      "metadata": {
        "id": "ibz6zy1mHaD0",
        "outputId": "3005ecbe-8c9e-40d1-bd1c-86740fd8b0b9"
      }
    },
    {
      "cell_type": "markdown",
      "source": [
        "Alternatively, you can set `sparse=False` when creating the `OneHotEncoder`:"
      ],
      "metadata": {
        "id": "8u4sUboXHaD1"
      }
    },
    {
      "cell_type": "code",
      "source": [
        "cat_encoder = OneHotEncoder(sparse=False)\n",
        "housing_cat_1hot = cat_encoder.fit_transform(housing_cat)\n",
        "housing_cat_1hot"
      ],
      "outputs": [
        {
          "output_type": "execute_result",
          "execution_count": 69,
          "data": {
            "text/plain": "array([[0., 0., 0., 1., 0.],\n       [1., 0., 0., 0., 0.],\n       [0., 1., 0., 0., 0.],\n       ...,\n       [0., 0., 0., 0., 1.],\n       [1., 0., 0., 0., 0.],\n       [0., 0., 0., 0., 1.]])"
          },
          "metadata": {}
        }
      ],
      "execution_count": null,
      "metadata": {
        "id": "qKuiT_PfHaD1",
        "outputId": "093bb367-636e-4f8b-d78b-214ff6887003"
      }
    },
    {
      "cell_type": "code",
      "source": [
        "cat_encoder.categories_"
      ],
      "outputs": [
        {
          "output_type": "execute_result",
          "execution_count": 70,
          "data": {
            "text/plain": "[array(['<1H OCEAN', 'INLAND', 'ISLAND', 'NEAR BAY', 'NEAR OCEAN'],\n       dtype=object)]"
          },
          "metadata": {}
        }
      ],
      "execution_count": null,
      "metadata": {
        "id": "HomlwgPNHaD2",
        "outputId": "0293b625-bd3a-478e-d5bd-431522968f84"
      }
    },
    {
      "cell_type": "code",
      "source": [
        "df_test = pd.DataFrame({\"ocean_proximity\": [\"INLAND\", \"NEAR BAY\"]})\n",
        "pd.get_dummies(df_test)"
      ],
      "outputs": [
        {
          "output_type": "execute_result",
          "execution_count": 71,
          "data": {
            "text/html": "<div>\n<style scoped>\n    .dataframe tbody tr th:only-of-type {\n        vertical-align: middle;\n    }\n\n    .dataframe tbody tr th {\n        vertical-align: top;\n    }\n\n    .dataframe thead th {\n        text-align: right;\n    }\n</style>\n<table border=\"1\" class=\"dataframe\">\n  <thead>\n    <tr style=\"text-align: right;\">\n      <th></th>\n      <th>ocean_proximity_INLAND</th>\n      <th>ocean_proximity_NEAR BAY</th>\n    </tr>\n  </thead>\n  <tbody>\n    <tr>\n      <th>0</th>\n      <td>1</td>\n      <td>0</td>\n    </tr>\n    <tr>\n      <th>1</th>\n      <td>0</td>\n      <td>1</td>\n    </tr>\n  </tbody>\n</table>\n</div>",
            "text/plain": "   ocean_proximity_INLAND  ocean_proximity_NEAR BAY\n0                       1                         0\n1                       0                         1"
          },
          "metadata": {}
        }
      ],
      "execution_count": null,
      "metadata": {
        "id": "bigvgnnzHaD2",
        "outputId": "ae0e7d25-070f-4c25-bf1c-065cf4b6f6cc"
      }
    },
    {
      "cell_type": "code",
      "source": [
        "cat_encoder.transform(df_test)"
      ],
      "outputs": [
        {
          "output_type": "execute_result",
          "execution_count": 72,
          "data": {
            "text/plain": "array([[0., 1., 0., 0., 0.],\n       [0., 0., 0., 1., 0.]])"
          },
          "metadata": {}
        }
      ],
      "execution_count": null,
      "metadata": {
        "id": "0Pr6AAJ6HaD3",
        "outputId": "87118c2a-b6cb-4b27-fc08-63c520a4c899"
      }
    },
    {
      "cell_type": "code",
      "source": [
        "df_test_unknown = pd.DataFrame({\"ocean_proximity\": [\"<2H OCEAN\", \"ISLAND\"]})\n",
        "pd.get_dummies(df_test_unknown)"
      ],
      "outputs": [
        {
          "output_type": "execute_result",
          "execution_count": 73,
          "data": {
            "text/html": "<div>\n<style scoped>\n    .dataframe tbody tr th:only-of-type {\n        vertical-align: middle;\n    }\n\n    .dataframe tbody tr th {\n        vertical-align: top;\n    }\n\n    .dataframe thead th {\n        text-align: right;\n    }\n</style>\n<table border=\"1\" class=\"dataframe\">\n  <thead>\n    <tr style=\"text-align: right;\">\n      <th></th>\n      <th>ocean_proximity_&lt;2H OCEAN</th>\n      <th>ocean_proximity_ISLAND</th>\n    </tr>\n  </thead>\n  <tbody>\n    <tr>\n      <th>0</th>\n      <td>1</td>\n      <td>0</td>\n    </tr>\n    <tr>\n      <th>1</th>\n      <td>0</td>\n      <td>1</td>\n    </tr>\n  </tbody>\n</table>\n</div>",
            "text/plain": "   ocean_proximity_<2H OCEAN  ocean_proximity_ISLAND\n0                          1                       0\n1                          0                       1"
          },
          "metadata": {}
        }
      ],
      "execution_count": null,
      "metadata": {
        "id": "Mm57L1uiHaD3",
        "outputId": "52f44350-cd34-4d30-fd0a-31d70bc6bc3b"
      }
    },
    {
      "cell_type": "code",
      "source": [
        "cat_encoder.handle_unknown = \"ignore\"\n",
        "cat_encoder.transform(df_test_unknown)"
      ],
      "outputs": [
        {
          "output_type": "execute_result",
          "execution_count": 74,
          "data": {
            "text/plain": "array([[0., 0., 0., 0., 0.],\n       [0., 0., 1., 0., 0.]])"
          },
          "metadata": {}
        }
      ],
      "execution_count": null,
      "metadata": {
        "id": "liQ4mNdnHaD4",
        "outputId": "c99a9e12-6887-4b9f-b8b9-4f27902780eb"
      }
    },
    {
      "cell_type": "code",
      "source": [
        "cat_encoder.feature_names_in_"
      ],
      "outputs": [
        {
          "output_type": "execute_result",
          "execution_count": 75,
          "data": {
            "text/plain": "array(['ocean_proximity'], dtype=object)"
          },
          "metadata": {}
        }
      ],
      "execution_count": null,
      "metadata": {
        "id": "9ydkwlLOHaD4",
        "outputId": "0ded646e-f406-4449-bac5-79e5ee13a0e5"
      }
    },
    {
      "cell_type": "code",
      "source": [
        "cat_encoder.get_feature_names_out()"
      ],
      "outputs": [
        {
          "output_type": "execute_result",
          "execution_count": 76,
          "data": {
            "text/plain": "array(['ocean_proximity_<1H OCEAN', 'ocean_proximity_INLAND',\n       'ocean_proximity_ISLAND', 'ocean_proximity_NEAR BAY',\n       'ocean_proximity_NEAR OCEAN'], dtype=object)"
          },
          "metadata": {}
        }
      ],
      "execution_count": null,
      "metadata": {
        "id": "mhcTQ1Y_HaD5",
        "outputId": "3805d647-4de6-434c-f6b7-5149a835916d"
      }
    },
    {
      "cell_type": "code",
      "source": [
        "df_output = pd.DataFrame(cat_encoder.transform(df_test_unknown),\n",
        "                         columns=cat_encoder.get_feature_names_out(),\n",
        "                         index=df_test_unknown.index)"
      ],
      "outputs": [],
      "execution_count": null,
      "metadata": {
        "id": "SRAsvKK-HaD5"
      }
    },
    {
      "cell_type": "code",
      "source": [
        "df_output"
      ],
      "outputs": [
        {
          "output_type": "execute_result",
          "execution_count": 78,
          "data": {
            "text/html": "<div>\n<style scoped>\n    .dataframe tbody tr th:only-of-type {\n        vertical-align: middle;\n    }\n\n    .dataframe tbody tr th {\n        vertical-align: top;\n    }\n\n    .dataframe thead th {\n        text-align: right;\n    }\n</style>\n<table border=\"1\" class=\"dataframe\">\n  <thead>\n    <tr style=\"text-align: right;\">\n      <th></th>\n      <th>ocean_proximity_&lt;1H OCEAN</th>\n      <th>ocean_proximity_INLAND</th>\n      <th>ocean_proximity_ISLAND</th>\n      <th>ocean_proximity_NEAR BAY</th>\n      <th>ocean_proximity_NEAR OCEAN</th>\n    </tr>\n  </thead>\n  <tbody>\n    <tr>\n      <th>0</th>\n      <td>0.0</td>\n      <td>0.0</td>\n      <td>0.0</td>\n      <td>0.0</td>\n      <td>0.0</td>\n    </tr>\n    <tr>\n      <th>1</th>\n      <td>0.0</td>\n      <td>0.0</td>\n      <td>1.0</td>\n      <td>0.0</td>\n      <td>0.0</td>\n    </tr>\n  </tbody>\n</table>\n</div>",
            "text/plain": "   ocean_proximity_<1H OCEAN  ocean_proximity_INLAND  ocean_proximity_ISLAND  \\\n0                        0.0                     0.0                     0.0   \n1                        0.0                     0.0                     1.0   \n\n   ocean_proximity_NEAR BAY  ocean_proximity_NEAR OCEAN  \n0                       0.0                         0.0  \n1                       0.0                         0.0  "
          },
          "metadata": {}
        }
      ],
      "execution_count": null,
      "metadata": {
        "id": "7dOdkY_5HaD6",
        "outputId": "75be8095-3427-4e21-f1c7-740985e2e89a"
      }
    },
    {
      "cell_type": "markdown",
      "source": [
        "## Feature Scaling"
      ],
      "metadata": {
        "id": "A3Z_wPziHaD6"
      }
    },
    {
      "cell_type": "code",
      "source": [
        "from sklearn.preprocessing import MinMaxScaler\n",
        "\n",
        "min_max_scaler = MinMaxScaler(feature_range=(-1, 1))\n",
        "housing_num_min_max_scaled = min_max_scaler.fit_transform(housing_num)"
      ],
      "outputs": [],
      "execution_count": null,
      "metadata": {
        "id": "4FV20mYPHaD6"
      }
    },
    {
      "cell_type": "code",
      "source": [
        "from sklearn.preprocessing import StandardScaler\n",
        "\n",
        "std_scaler = StandardScaler()\n",
        "housing_num_std_scaled = std_scaler.fit_transform(housing_num)"
      ],
      "outputs": [],
      "execution_count": null,
      "metadata": {
        "id": "vT8fFj54HaD7"
      }
    },
    {
      "cell_type": "code",
      "source": [
        "# extra code – this cell generates Figure 2–17\n",
        "fig, axs = plt.subplots(1, 2, figsize=(8, 3), sharey=True)\n",
        "housing[\"population\"].hist(ax=axs[0], bins=50)\n",
        "housing[\"population\"].apply(np.log).hist(ax=axs[1], bins=50)\n",
        "axs[0].set_xlabel(\"Population\")\n",
        "axs[1].set_xlabel(\"Log of population\")\n",
        "axs[0].set_ylabel(\"Number of districts\")\n",
        "save_fig(\"long_tail_plot\")\n",
        "plt.show()"
      ],
      "outputs": [
        {
          "output_type": "display_data",
          "data": {
            "image/png": "[encoded data removed]",
            "text/plain": "<Figure size 576x216 with 2 Axes>"
          },
          "metadata": {
            "needs_background": "light"
          }
        }
      ],
      "execution_count": null,
      "metadata": {
        "id": "jRXPA9L_HaD7",
        "outputId": "5f56a10b-194e-436d-a2b0-80db693a32c9"
      }
    },
    {
      "cell_type": "markdown",
      "source": [
        "What if we replace each value with its percentile?"
      ],
      "metadata": {
        "id": "UeHfYYDFHaD7"
      }
    },
    {
      "cell_type": "code",
      "source": [
        "# extra code – just shows that we get a uniform distribution\n",
        "percentiles = [np.percentile(housing[\"median_income\"], p)\n",
        "               for p in range(1, 100)]\n",
        "flattened_median_income = pd.cut(housing[\"median_income\"],\n",
        "                                 bins=[-np.inf] + percentiles + [np.inf],\n",
        "                                 labels=range(1, 100 + 1))\n",
        "flattened_median_income.hist(bins=50)\n",
        "plt.xlabel(\"Median income percentile\")\n",
        "plt.ylabel(\"Number of districts\")\n",
        "plt.show()\n",
        "# Note: incomes below the 1st percentile are labeled 1, and incomes above the\n",
        "# 99th percentile are labeled 100. This is why the distribution below ranges\n",
        "# from 1 to 100 (not 0 to 100)."
      ],
      "outputs": [
        {
          "output_type": "display_data",
          "data": {
            "image/png": "[encoded data removed]",
            "text/plain": "<Figure size 432x288 with 1 Axes>"
          },
          "metadata": {
            "needs_background": "light"
          }
        }
      ],
      "execution_count": null,
      "metadata": {
        "id": "eV45vRgGHaD8",
        "outputId": "454d7930-4749-4b92-d815-b55b5cadda1b"
      }
    },
    {
      "cell_type": "code",
      "source": [
        "from sklearn.metrics.pairwise import rbf_kernel\n",
        "\n",
        "age_simil_35 = rbf_kernel(housing[[\"housing_median_age\"]], [[35]], gamma=0.1)"
      ],
      "outputs": [],
      "execution_count": null,
      "metadata": {
        "id": "pPeVceHjHaD8"
      }
    },
    {
      "cell_type": "code",
      "source": [
        "# extra code – this cell generates Figure 2–18\n",
        "\n",
        "ages = np.linspace(housing[\"housing_median_age\"].min(),\n",
        "                   housing[\"housing_median_age\"].max(),\n",
        "                   500).reshape(-1, 1)\n",
        "gamma1 = 0.1\n",
        "gamma2 = 0.03\n",
        "rbf1 = rbf_kernel(ages, [[35]], gamma=gamma1)\n",
        "rbf2 = rbf_kernel(ages, [[35]], gamma=gamma2)\n",
        "\n",
        "fig, ax1 = plt.subplots()\n",
        "\n",
        "ax1.set_xlabel(\"Housing median age\")\n",
        "ax1.set_ylabel(\"Number of districts\")\n",
        "ax1.hist(housing[\"housing_median_age\"], bins=50)\n",
        "\n",
        "ax2 = ax1.twinx()  # create a twin axis that shares the same x-axis\n",
        "color = \"blue\"\n",
        "ax2.plot(ages, rbf1, color=color, label=\"gamma = 0.10\")\n",
        "ax2.plot(ages, rbf2, color=color, label=\"gamma = 0.03\", linestyle=\"--\")\n",
        "ax2.tick_params(axis='y', labelcolor=color)\n",
        "ax2.set_ylabel(\"Age similarity\", color=color)\n",
        "\n",
        "plt.legend(loc=\"upper left\")\n",
        "save_fig(\"age_similarity_plot\")\n",
        "plt.show()"
      ],
      "outputs": [
        {
          "output_type": "display_data",
          "data": {
            "image/png": "[encoded data removed]",
            "text/plain": "<Figure size 432x288 with 2 Axes>"
          },
          "metadata": {
            "needs_background": "light"
          }
        }
      ],
      "execution_count": null,
      "metadata": {
        "id": "WFLq2ncGHaD9",
        "outputId": "ecb6069e-c52c-4a8f-ed82-814dc515b3ce"
      }
    },
    {
      "cell_type": "code",
      "source": [
        "from sklearn.linear_model import LinearRegression\n",
        "\n",
        "target_scaler = StandardScaler()\n",
        "scaled_labels = target_scaler.fit_transform(housing_labels.to_frame())\n",
        "\n",
        "model = LinearRegression()\n",
        "model.fit(housing[[\"median_income\"]], scaled_labels)\n",
        "some_new_data = housing[[\"median_income\"]].iloc[:5]  # pretend this is new data\n",
        "\n",
        "scaled_predictions = model.predict(some_new_data)\n",
        "predictions = target_scaler.inverse_transform(scaled_predictions)"
      ],
      "outputs": [],
      "execution_count": null,
      "metadata": {
        "id": "4NDkYtd5HaD9"
      }
    },
    {
      "cell_type": "code",
      "source": [
        "predictions"
      ],
      "outputs": [
        {
          "output_type": "execute_result",
          "execution_count": 86,
          "data": {
            "text/plain": "array([[131997.15275877],\n       [299359.35844434],\n       [146023.37185694],\n       [138840.33653057],\n       [192016.61557639]])"
          },
          "metadata": {}
        }
      ],
      "execution_count": null,
      "metadata": {
        "id": "oOQsfdJeHaD9",
        "outputId": "8a3a5322-a54f-4dd8-e4f7-df856c439fa4"
      }
    },
    {
      "cell_type": "code",
      "source": [
        "from sklearn.compose import TransformedTargetRegressor\n",
        "\n",
        "model = TransformedTargetRegressor(LinearRegression(),\n",
        "                                   transformer=StandardScaler())\n",
        "model.fit(housing[[\"median_income\"]], housing_labels)\n",
        "predictions = model.predict(some_new_data)"
      ],
      "outputs": [],
      "execution_count": null,
      "metadata": {
        "id": "-RgBjjFmHaD-"
      }
    },
    {
      "cell_type": "code",
      "source": [
        "predictions"
      ],
      "outputs": [
        {
          "output_type": "execute_result",
          "execution_count": 88,
          "data": {
            "text/plain": "array([131997.15275877, 299359.35844434, 146023.37185694, 138840.33653057,\n       192016.61557639])"
          },
          "metadata": {}
        }
      ],
      "execution_count": null,
      "metadata": {
        "id": "9VpSGFeOHaD-",
        "outputId": "5ab06836-0d98-4bf5-9c25-5be6bce515f8"
      }
    },
    {
      "cell_type": "markdown",
      "source": [
        "## Custom Transformers"
      ],
      "metadata": {
        "id": "EuBf2DhrHaD-"
      }
    },
    {
      "cell_type": "markdown",
      "source": [
        "To create simple transformers:"
      ],
      "metadata": {
        "id": "9LRj0dSXHaD_"
      }
    },
    {
      "cell_type": "code",
      "source": [
        "from sklearn.preprocessing import FunctionTransformer\n",
        "\n",
        "log_transformer = FunctionTransformer(np.log, inverse_func=np.exp)\n",
        "log_pop = log_transformer.transform(housing[[\"population\"]])"
      ],
      "outputs": [],
      "execution_count": null,
      "metadata": {
        "id": "vvi2UShdHaD_"
      }
    },
    {
      "cell_type": "code",
      "source": [
        "rbf_transformer = FunctionTransformer(rbf_kernel,\n",
        "                                      kw_args=dict(Y=[[35.]], gamma=0.1))\n",
        "age_simil_35 = rbf_transformer.transform(housing[[\"housing_median_age\"]])"
      ],
      "outputs": [],
      "execution_count": null,
      "metadata": {
        "id": "KCyQNVoWHaD_"
      }
    },
    {
      "cell_type": "code",
      "source": [
        "age_simil_35"
      ],
      "outputs": [
        {
          "output_type": "execute_result",
          "execution_count": 91,
          "data": {
            "text/plain": "array([[2.81118530e-13],\n       [8.20849986e-02],\n       [6.70320046e-01],\n       ...,\n       [9.55316054e-22],\n       [6.70320046e-01],\n       [3.03539138e-04]])"
          },
          "metadata": {}
        }
      ],
      "execution_count": null,
      "metadata": {
        "id": "bXNtzuR2HaD_",
        "outputId": "ebda789c-937d-41a9-80ad-e40d8b6da363"
      }
    },
    {
      "cell_type": "code",
      "source": [
        "sf_coords = 37.7749, -122.41\n",
        "sf_transformer = FunctionTransformer(rbf_kernel,\n",
        "                                     kw_args=dict(Y=[sf_coords], gamma=0.1))\n",
        "sf_simil = sf_transformer.transform(housing[[\"latitude\", \"longitude\"]])"
      ],
      "outputs": [],
      "execution_count": null,
      "metadata": {
        "id": "Kr9PwyXDHaEA"
      }
    },
    {
      "cell_type": "code",
      "source": [
        "sf_simil"
      ],
      "outputs": [
        {
          "output_type": "execute_result",
          "execution_count": 93,
          "data": {
            "text/plain": "array([[0.999927  ],\n       [0.05258419],\n       [0.94864161],\n       ...,\n       [0.00388525],\n       [0.05038518],\n       [0.99868067]])"
          },
          "metadata": {}
        }
      ],
      "execution_count": null,
      "metadata": {
        "id": "HLB0xBHRHaEA",
        "outputId": "947a60f1-0079-44b9-b6d2-c0a08f5d0bf9"
      }
    },
    {
      "cell_type": "code",
      "source": [
        "ratio_transformer = FunctionTransformer(lambda X: X[:, [0]] / X[:, [1]])\n",
        "ratio_transformer.transform(np.array([[1., 2.], [3., 4.]]))"
      ],
      "outputs": [
        {
          "output_type": "execute_result",
          "execution_count": 94,
          "data": {
            "text/plain": "array([[0.5 ],\n       [0.75]])"
          },
          "metadata": {}
        }
      ],
      "execution_count": null,
      "metadata": {
        "id": "JUXIEMgZHaEA",
        "outputId": "f725b766-2725-406a-fc76-a777cd9e935b"
      }
    },
    {
      "cell_type": "code",
      "source": [
        "from sklearn.base import BaseEstimator, TransformerMixin\n",
        "from sklearn.utils.validation import check_array, check_is_fitted\n",
        "\n",
        "class StandardScalerClone(BaseEstimator, TransformerMixin):\n",
        "    def __init__(self, with_mean=True):  # no *args or **kwargs!\n",
        "        self.with_mean = with_mean\n",
        "\n",
        "    def fit(self, X, y=None):  # y is required even though we don't use it\n",
        "        X = check_array(X)  # checks that X is an array with finite float values\n",
        "        self.mean_ = X.mean(axis=0)\n",
        "        self.scale_ = X.std(axis=0)\n",
        "        self.n_features_in_ = X.shape[1]  # every estimator stores this in fit()\n",
        "        return self  # always return self!\n",
        "\n",
        "    def transform(self, X):\n",
        "        check_is_fitted(self)  # looks for learned attributes (with trailing _)\n",
        "        X = check_array(X)\n",
        "        assert self.n_features_in_ == X.shape[1]\n",
        "        if self.with_mean:\n",
        "            X = X - self.mean_\n",
        "        return X / self.scale_"
      ],
      "outputs": [],
      "execution_count": null,
      "metadata": {
        "id": "o_OzlekzHaEB"
      }
    },
    {
      "cell_type": "code",
      "source": [
        "from sklearn.cluster import KMeans\n",
        "\n",
        "class ClusterSimilarity(BaseEstimator, TransformerMixin):\n",
        "    def __init__(self, n_clusters=10, gamma=1.0, random_state=None):\n",
        "        self.n_clusters = n_clusters\n",
        "        self.gamma = gamma\n",
        "        self.random_state = random_state\n",
        "\n",
        "    def fit(self, X, y=None, sample_weight=None):\n",
        "        self.kmeans_ = KMeans(self.n_clusters, random_state=self.random_state)\n",
        "        self.kmeans_.fit(X, sample_weight=sample_weight)\n",
        "        return self  # always return self!\n",
        "\n",
        "    def transform(self, X):\n",
        "        return rbf_kernel(X, self.kmeans_.cluster_centers_, gamma=self.gamma)\n",
        "    \n",
        "    def get_feature_names_out(self, names=None):\n",
        "        return [f\"Cluster {i} similarity\" for i in range(self.n_clusters)]"
      ],
      "outputs": [],
      "execution_count": null,
      "metadata": {
        "id": "TqknWWDeHaEB"
      }
    },
    {
      "cell_type": "code",
      "source": [
        "cluster_simil = ClusterSimilarity(n_clusters=10, gamma=1., random_state=42)\n",
        "similarities = cluster_simil.fit_transform(housing[[\"latitude\", \"longitude\"]],\n",
        "                                           sample_weight=housing_labels)"
      ],
      "outputs": [],
      "execution_count": null,
      "metadata": {
        "id": "PssLAlPjHaEC"
      }
    },
    {
      "cell_type": "code",
      "source": [
        "similarities[:3].round(2)"
      ],
      "outputs": [
        {
          "output_type": "execute_result",
          "execution_count": 98,
          "data": {
            "text/plain": "array([[0.  , 0.14, 0.  , 0.  , 0.  , 0.08, 0.  , 0.99, 0.  , 0.6 ],\n       [0.63, 0.  , 0.99, 0.  , 0.  , 0.  , 0.04, 0.  , 0.11, 0.  ],\n       [0.  , 0.29, 0.  , 0.  , 0.01, 0.44, 0.  , 0.7 , 0.  , 0.3 ]])"
          },
          "metadata": {}
        }
      ],
      "execution_count": null,
      "metadata": {
        "id": "ZOR9tsVgHaEC",
        "outputId": "fa89d957-15e0-4a38-d6bd-46f75d1b51b7"
      }
    },
    {
      "cell_type": "code",
      "source": [
        "# extra code – this cell generates Figure 2–19\n",
        "\n",
        "housing_renamed = housing.rename(columns={\n",
        "    \"latitude\": \"Latitude\", \"longitude\": \"Longitude\",\n",
        "    \"population\": \"Population\",\n",
        "    \"median_house_value\": \"Median house value (ᴜsᴅ)\"})\n",
        "housing_renamed[\"Max cluster similarity\"] = similarities.max(axis=1)\n",
        "\n",
        "housing_renamed.plot(kind=\"scatter\", x=\"Longitude\", y=\"Latitude\", grid=True,\n",
        "                     s=housing_renamed[\"Population\"] / 100, label=\"Population\",\n",
        "                     c=\"Max cluster similarity\",\n",
        "                     cmap=\"jet\", colorbar=True,\n",
        "                     legend=True, sharex=False, figsize=(10, 7))\n",
        "plt.plot(cluster_simil.kmeans_.cluster_centers_[:, 1],\n",
        "         cluster_simil.kmeans_.cluster_centers_[:, 0],\n",
        "         linestyle=\"\", color=\"black\", marker=\"X\", markersize=20,\n",
        "         label=\"Cluster centers\")\n",
        "plt.legend(loc=\"upper right\")\n",
        "save_fig(\"district_cluster_plot\")\n",
        "plt.show()"
      ],
      "outputs": [
        {
          "output_type": "display_data",
          "data": {
            "image/png": "[encoded data removed]",
            "text/plain": "<Figure size 720x504 with 2 Axes>"
          },
          "metadata": {
            "needs_background": "light"
          }
        }
      ],
      "execution_count": null,
      "metadata": {
        "id": "dd2-Ep3BHaED",
        "outputId": "279a01cc-d15b-459c-82f9-89049f2495f0"
      }
    },
    {
      "cell_type": "markdown",
      "source": [
        "## Transformation Pipelines"
      ],
      "metadata": {
        "id": "1-jDrfUjHaED"
      }
    },
    {
      "cell_type": "markdown",
      "source": [
        "Now let's build a pipeline to preprocess the numerical attributes:"
      ],
      "metadata": {
        "id": "ym0IZbKvHaED"
      }
    },
    {
      "cell_type": "code",
      "source": [
        "from sklearn.pipeline import Pipeline\n",
        "\n",
        "num_pipeline = Pipeline([\n",
        "    (\"impute\", SimpleImputer(strategy=\"median\")),\n",
        "    (\"standardize\", StandardScaler()),\n",
        "])"
      ],
      "outputs": [],
      "execution_count": null,
      "metadata": {
        "id": "O2zZN93fHaEE"
      }
    },
    {
      "cell_type": "code",
      "source": [
        "from sklearn.pipeline import make_pipeline\n",
        "\n",
        "num_pipeline = make_pipeline(SimpleImputer(strategy=\"median\"), StandardScaler())"
      ],
      "outputs": [],
      "execution_count": null,
      "metadata": {
        "id": "fvTdwbeSHaEE"
      }
    },
    {
      "cell_type": "code",
      "source": [
        "from sklearn import set_config\n",
        "\n",
        "set_config(display='diagram')\n",
        "\n",
        "num_pipeline"
      ],
      "outputs": [
        {
          "output_type": "execute_result",
          "execution_count": 102,
          "data": {
            "text/plain": "Pipeline(steps=[('simpleimputer', SimpleImputer(strategy='median')),\n                ('standardscaler', StandardScaler())])"
          },
          "metadata": {}
        }
      ],
      "execution_count": null,
      "metadata": {
        "id": "IpmflWPfHaEF",
        "outputId": "728d1c91-9502-40e1-8607-bcf9877bca60"
      }
    },
    {
      "cell_type": "code",
      "source": [
        "housing_num_prepared = num_pipeline.fit_transform(housing_num)\n",
        "housing_num_prepared[:2].round(2)"
      ],
      "outputs": [
        {
          "output_type": "execute_result",
          "execution_count": 103,
          "data": {
            "text/plain": "array([[-1.42,  1.01,  1.86,  0.31,  1.37,  0.14,  1.39, -0.94],\n       [ 0.6 , -0.7 ,  0.91, -0.31, -0.44, -0.69, -0.37,  1.17]])"
          },
          "metadata": {}
        }
      ],
      "execution_count": null,
      "metadata": {
        "id": "7FNekmR6HaEF",
        "outputId": "18ec62f0-b837-4fb4-f9be-a8ae15bc6673"
      }
    },
    {
      "cell_type": "code",
      "source": [
        "def monkey_patch_get_signature_names_out():\n",
        "    \"\"\"Monkey patch some classes which did not handle get_feature_names_out()\n",
        "       correctly in Scikit-Learn 1.0.*.\"\"\"\n",
        "    from inspect import Signature, signature, Parameter\n",
        "    import pandas as pd\n",
        "    from sklearn.impute import SimpleImputer\n",
        "    from sklearn.pipeline import make_pipeline, Pipeline\n",
        "    from sklearn.preprocessing import FunctionTransformer, StandardScaler\n",
        "\n",
        "    default_get_feature_names_out = StandardScaler.get_feature_names_out\n",
        "\n",
        "    if not hasattr(SimpleImputer, \"get_feature_names_out\"):\n",
        "      print(\"Monkey-patching SimpleImputer.get_feature_names_out()\")\n",
        "      SimpleImputer.get_feature_names_out = default_get_feature_names_out\n",
        "\n",
        "    if not hasattr(FunctionTransformer, \"get_feature_names_out\"):\n",
        "        print(\"Monkey-patching FunctionTransformer.get_feature_names_out()\")\n",
        "        orig_init = FunctionTransformer.__init__\n",
        "        orig_sig = signature(orig_init)\n",
        "\n",
        "        def __init__(*args, feature_names_out=None, **kwargs):\n",
        "            orig_sig.bind(*args, **kwargs)\n",
        "            orig_init(*args, **kwargs)\n",
        "            args[0].feature_names_out = feature_names_out\n",
        "\n",
        "        __init__.__signature__ = Signature(\n",
        "            list(signature(orig_init).parameters.values()) + [\n",
        "                Parameter(\"feature_names_out\", Parameter.KEYWORD_ONLY)])\n",
        "\n",
        "        def get_feature_names_out(self, names=None):\n",
        "            if callable(self.feature_names_out):\n",
        "                return self.feature_names_out(self, names)\n",
        "            assert self.feature_names_out == \"one-to-one\"\n",
        "            return default_get_feature_names_out(self, names)\n",
        "\n",
        "        FunctionTransformer.__init__ = __init__\n",
        "        FunctionTransformer.get_feature_names_out = get_feature_names_out\n",
        "\n",
        "monkey_patch_get_signature_names_out()"
      ],
      "outputs": [],
      "execution_count": null,
      "metadata": {
        "id": "8BW7QGTYHaEG"
      }
    },
    {
      "cell_type": "code",
      "source": [
        "df_housing_num_prepared = pd.DataFrame(\n",
        "    housing_num_prepared, columns=num_pipeline.get_feature_names_out(),\n",
        "    index=housing_num.index)"
      ],
      "outputs": [],
      "execution_count": null,
      "metadata": {
        "id": "yzMTeTohHaEG"
      }
    },
    {
      "cell_type": "code",
      "source": [
        "df_housing_num_prepared.head(2)  # extra code"
      ],
      "outputs": [
        {
          "output_type": "execute_result",
          "execution_count": 106,
          "data": {
            "text/html": "<div>\n<style scoped>\n    .dataframe tbody tr th:only-of-type {\n        vertical-align: middle;\n    }\n\n    .dataframe tbody tr th {\n        vertical-align: top;\n    }\n\n    .dataframe thead th {\n        text-align: right;\n    }\n</style>\n<table border=\"1\" class=\"dataframe\">\n  <thead>\n    <tr style=\"text-align: right;\">\n      <th></th>\n      <th>longitude</th>\n      <th>latitude</th>\n      <th>housing_median_age</th>\n      <th>total_rooms</th>\n      <th>total_bedrooms</th>\n      <th>population</th>\n      <th>households</th>\n      <th>median_income</th>\n    </tr>\n  </thead>\n  <tbody>\n    <tr>\n      <th>13096</th>\n      <td>-1.423037</td>\n      <td>1.013606</td>\n      <td>1.861119</td>\n      <td>0.311912</td>\n      <td>1.368167</td>\n      <td>0.137460</td>\n      <td>1.394812</td>\n      <td>-0.936491</td>\n    </tr>\n    <tr>\n      <th>14973</th>\n      <td>0.596394</td>\n      <td>-0.702103</td>\n      <td>0.907630</td>\n      <td>-0.308620</td>\n      <td>-0.435925</td>\n      <td>-0.693771</td>\n      <td>-0.373485</td>\n      <td>1.171942</td>\n    </tr>\n  </tbody>\n</table>\n</div>",
            "text/plain": "       longitude  latitude  housing_median_age  total_rooms  total_bedrooms  \\\n13096  -1.423037  1.013606            1.861119     0.311912        1.368167   \n14973   0.596394 -0.702103            0.907630    -0.308620       -0.435925   \n\n       population  households  median_income  \n13096    0.137460    1.394812      -0.936491  \n14973   -0.693771   -0.373485       1.171942  "
          },
          "metadata": {}
        }
      ],
      "execution_count": null,
      "metadata": {
        "id": "0c2prTeXHaEH",
        "outputId": "45642762-6985-4f52-8f2e-a13cd1a2e816"
      }
    },
    {
      "cell_type": "code",
      "source": [
        "num_pipeline.steps"
      ],
      "outputs": [
        {
          "output_type": "execute_result",
          "execution_count": 107,
          "data": {
            "text/plain": "[('simpleimputer', SimpleImputer(strategy='median')),\n ('standardscaler', StandardScaler())]"
          },
          "metadata": {}
        }
      ],
      "execution_count": null,
      "metadata": {
        "id": "D61YE4QNHaEH",
        "outputId": "e23c2e08-84eb-4a13-be18-ab30d66f492b"
      }
    },
    {
      "cell_type": "code",
      "source": [
        "num_pipeline[1]"
      ],
      "outputs": [
        {
          "output_type": "execute_result",
          "execution_count": 108,
          "data": {
            "text/plain": "StandardScaler()"
          },
          "metadata": {}
        }
      ],
      "execution_count": null,
      "metadata": {
        "id": "dt__O9_YHaEI",
        "outputId": "0ff08f7e-41a2-40bd-aa67-13d45a49759a"
      }
    },
    {
      "cell_type": "code",
      "source": [
        "num_pipeline[:-1]"
      ],
      "outputs": [
        {
          "output_type": "execute_result",
          "execution_count": 109,
          "data": {
            "text/plain": "Pipeline(steps=[('simpleimputer', SimpleImputer(strategy='median'))])"
          },
          "metadata": {}
        }
      ],
      "execution_count": null,
      "metadata": {
        "id": "AyKix7D8HaEI",
        "outputId": "0c4126f4-f4f6-499a-a190-9099f3817322"
      }
    },
    {
      "cell_type": "code",
      "source": [
        "num_pipeline.named_steps[\"simpleimputer\"]"
      ],
      "outputs": [
        {
          "output_type": "execute_result",
          "execution_count": 110,
          "data": {
            "text/plain": "SimpleImputer(strategy='median')"
          },
          "metadata": {}
        }
      ],
      "execution_count": null,
      "metadata": {
        "id": "FMQnykoeHaEI",
        "outputId": "3ac8baa0-af91-4b2b-dd8c-8ae934d85338"
      }
    },
    {
      "cell_type": "code",
      "source": [
        "num_pipeline.set_params(simpleimputer__strategy=\"median\")"
      ],
      "outputs": [
        {
          "output_type": "execute_result",
          "execution_count": 111,
          "data": {
            "text/plain": "Pipeline(steps=[('simpleimputer', SimpleImputer(strategy='median')),\n                ('standardscaler', StandardScaler())])"
          },
          "metadata": {}
        }
      ],
      "execution_count": null,
      "metadata": {
        "id": "k_jxphrRHaEJ",
        "outputId": "fdff562d-0e61-4b54-cfb1-46d6027fbcea"
      }
    },
    {
      "cell_type": "code",
      "source": [
        "from sklearn.compose import ColumnTransformer\n",
        "\n",
        "num_attribs = [\"longitude\", \"latitude\", \"housing_median_age\", \"total_rooms\",\n",
        "               \"total_bedrooms\", \"population\", \"households\", \"median_income\"]\n",
        "cat_attribs = [\"ocean_proximity\"]\n",
        "\n",
        "cat_pipeline = make_pipeline(\n",
        "    SimpleImputer(strategy=\"most_frequent\"),\n",
        "    OneHotEncoder(handle_unknown=\"ignore\"))\n",
        "\n",
        "preprocessing = ColumnTransformer([\n",
        "    (\"num\", num_pipeline, num_attribs),\n",
        "    (\"cat\", cat_pipeline, cat_attribs),\n",
        "])"
      ],
      "outputs": [],
      "execution_count": null,
      "metadata": {
        "id": "LH8pDBk2HaEJ"
      }
    },
    {
      "cell_type": "code",
      "source": [
        "from sklearn.compose import make_column_selector, make_column_transformer\n",
        "\n",
        "preprocessing = make_column_transformer(\n",
        "    (num_pipeline, make_column_selector(dtype_include=np.number)),\n",
        "    (cat_pipeline, make_column_selector(dtype_include=object)),\n",
        ")"
      ],
      "outputs": [],
      "execution_count": null,
      "metadata": {
        "id": "knakYs1OHaEJ"
      }
    },
    {
      "cell_type": "code",
      "source": [
        "housing_prepared = preprocessing.fit_transform(housing)"
      ],
      "outputs": [],
      "execution_count": null,
      "metadata": {
        "id": "NkrxoQnKHaEK"
      }
    },
    {
      "cell_type": "code",
      "source": [
        "# extra code – shows that we can get a DataFrame out if we want\n",
        "housing_prepared_fr = pd.DataFrame(\n",
        "    housing_prepared,\n",
        "    columns=preprocessing.get_feature_names_out(),\n",
        "    index=housing.index)\n",
        "housing_prepared_fr.head(2)"
      ],
      "outputs": [
        {
          "output_type": "execute_result",
          "execution_count": 115,
          "data": {
            "text/html": "<div>\n<style scoped>\n    .dataframe tbody tr th:only-of-type {\n        vertical-align: middle;\n    }\n\n    .dataframe tbody tr th {\n        vertical-align: top;\n    }\n\n    .dataframe thead th {\n        text-align: right;\n    }\n</style>\n<table border=\"1\" class=\"dataframe\">\n  <thead>\n    <tr style=\"text-align: right;\">\n      <th></th>\n      <th>pipeline-1__longitude</th>\n      <th>pipeline-1__latitude</th>\n      <th>pipeline-1__housing_median_age</th>\n      <th>pipeline-1__total_rooms</th>\n      <th>pipeline-1__total_bedrooms</th>\n      <th>pipeline-1__population</th>\n      <th>pipeline-1__households</th>\n      <th>pipeline-1__median_income</th>\n      <th>pipeline-2__ocean_proximity_&lt;1H OCEAN</th>\n      <th>pipeline-2__ocean_proximity_INLAND</th>\n      <th>pipeline-2__ocean_proximity_ISLAND</th>\n      <th>pipeline-2__ocean_proximity_NEAR BAY</th>\n      <th>pipeline-2__ocean_proximity_NEAR OCEAN</th>\n    </tr>\n  </thead>\n  <tbody>\n    <tr>\n      <th>13096</th>\n      <td>-1.423037</td>\n      <td>1.013606</td>\n      <td>1.861119</td>\n      <td>0.311912</td>\n      <td>1.368167</td>\n      <td>0.137460</td>\n      <td>1.394812</td>\n      <td>-0.936491</td>\n      <td>0.0</td>\n      <td>0.0</td>\n      <td>0.0</td>\n      <td>1.0</td>\n      <td>0.0</td>\n    </tr>\n    <tr>\n      <th>14973</th>\n      <td>0.596394</td>\n      <td>-0.702103</td>\n      <td>0.907630</td>\n      <td>-0.308620</td>\n      <td>-0.435925</td>\n      <td>-0.693771</td>\n      <td>-0.373485</td>\n      <td>1.171942</td>\n      <td>1.0</td>\n      <td>0.0</td>\n      <td>0.0</td>\n      <td>0.0</td>\n      <td>0.0</td>\n    </tr>\n  </tbody>\n</table>\n</div>",
            "text/plain": "       pipeline-1__longitude  pipeline-1__latitude  \\\n13096              -1.423037              1.013606   \n14973               0.596394             -0.702103   \n\n       pipeline-1__housing_median_age  pipeline-1__total_rooms  \\\n13096                        1.861119                 0.311912   \n14973                        0.907630                -0.308620   \n\n       pipeline-1__total_bedrooms  pipeline-1__population  \\\n13096                    1.368167                0.137460   \n14973                   -0.435925               -0.693771   \n\n       pipeline-1__households  pipeline-1__median_income  \\\n13096                1.394812                  -0.936491   \n14973               -0.373485                   1.171942   \n\n       pipeline-2__ocean_proximity_<1H OCEAN  \\\n13096                                    0.0   \n14973                                    1.0   \n\n       pipeline-2__ocean_proximity_INLAND  pipeline-2__ocean_proximity_ISLAND  \\\n13096                                 0.0                                 0.0   \n14973                                 0.0                                 0.0   \n\n       pipeline-2__ocean_proximity_NEAR BAY  \\\n13096                                   1.0   \n14973                                   0.0   \n\n       pipeline-2__ocean_proximity_NEAR OCEAN  \n13096                                     0.0  \n14973                                     0.0  "
          },
          "metadata": {}
        }
      ],
      "execution_count": null,
      "metadata": {
        "id": "aF0pGeICHaEK",
        "outputId": "ad97c5b1-c821-4bd4-8e03-39bf7be559a8"
      }
    },
    {
      "cell_type": "code",
      "source": [
        "def column_ratio(X):\n",
        "    return X[:, [0]] / X[:, [1]]\n",
        "\n",
        "def ratio_name(function_transformer, feature_names_in):\n",
        "    return [\"ratio\"]  # feature names out\n",
        "\n",
        "def ratio_pipeline():\n",
        "    return make_pipeline(\n",
        "        SimpleImputer(strategy=\"median\"),\n",
        "        FunctionTransformer(column_ratio, feature_names_out=ratio_name),\n",
        "        StandardScaler())\n",
        "\n",
        "log_pipeline = make_pipeline(\n",
        "    SimpleImputer(strategy=\"median\"),\n",
        "    FunctionTransformer(np.log, feature_names_out=\"one-to-one\"),\n",
        "    StandardScaler())\n",
        "cluster_simil = ClusterSimilarity(n_clusters=10, gamma=1., random_state=42)\n",
        "default_num_pipeline = make_pipeline(SimpleImputer(strategy=\"median\"),\n",
        "                                     StandardScaler())\n",
        "preprocessing = ColumnTransformer([\n",
        "        (\"bedrooms\", ratio_pipeline(), [\"total_bedrooms\", \"total_rooms\"]),\n",
        "        (\"rooms_per_house\", ratio_pipeline(), [\"total_rooms\", \"households\"]),\n",
        "        (\"people_per_house\", ratio_pipeline(), [\"population\", \"households\"]),\n",
        "        (\"log\", log_pipeline, [\"total_bedrooms\", \"total_rooms\", \"population\",\n",
        "                               \"households\", \"median_income\"]),\n",
        "        (\"geo\", cluster_simil, [\"latitude\", \"longitude\"]),\n",
        "        (\"cat\", cat_pipeline, make_column_selector(dtype_include=object)),\n",
        "    ],\n",
        "    remainder=default_num_pipeline)  # one column remaining: housing_median_age"
      ],
      "outputs": [],
      "execution_count": null,
      "metadata": {
        "id": "764q_2AiHaEK"
      }
    },
    {
      "cell_type": "code",
      "source": [
        "housing_prepared = preprocessing.fit_transform(housing)\n",
        "housing_prepared.shape"
      ],
      "outputs": [
        {
          "output_type": "execute_result",
          "execution_count": 117,
          "data": {
            "text/plain": "(16512, 24)"
          },
          "metadata": {}
        }
      ],
      "execution_count": null,
      "metadata": {
        "id": "uKbc9ZAbHaEL",
        "outputId": "af6032c5-7679-416b-aa3f-0c941579d8ce"
      }
    },
    {
      "cell_type": "code",
      "source": [
        "preprocessing.get_feature_names_out()"
      ],
      "outputs": [
        {
          "output_type": "execute_result",
          "execution_count": 118,
          "data": {
            "text/plain": "array(['bedrooms__ratio', 'rooms_per_house__ratio',\n       'people_per_house__ratio', 'log__total_bedrooms',\n       'log__total_rooms', 'log__population', 'log__households',\n       'log__median_income', 'geo__Cluster 0 similarity',\n       'geo__Cluster 1 similarity', 'geo__Cluster 2 similarity',\n       'geo__Cluster 3 similarity', 'geo__Cluster 4 similarity',\n       'geo__Cluster 5 similarity', 'geo__Cluster 6 similarity',\n       'geo__Cluster 7 similarity', 'geo__Cluster 8 similarity',\n       'geo__Cluster 9 similarity', 'cat__ocean_proximity_<1H OCEAN',\n       'cat__ocean_proximity_INLAND', 'cat__ocean_proximity_ISLAND',\n       'cat__ocean_proximity_NEAR BAY', 'cat__ocean_proximity_NEAR OCEAN',\n       'remainder__housing_median_age'], dtype=object)"
          },
          "metadata": {}
        }
      ],
      "execution_count": null,
      "metadata": {
        "id": "_V3kMwFnHaEL",
        "outputId": "bd23bf34-4d25-4ac3-bf94-21d72fc6ea32"
      }
    },
    {
      "cell_type": "markdown",
      "source": [
        "# Select and Train a Model"
      ],
      "metadata": {
        "id": "vlLM3qnCHaEM"
      }
    },
    {
      "cell_type": "markdown",
      "source": [
        "## Training and Evaluating on the Training Set"
      ],
      "metadata": {
        "id": "GhRPbEw2HaEM"
      }
    },
    {
      "cell_type": "code",
      "source": [
        "from sklearn.linear_model import LinearRegression\n",
        "\n",
        "lin_reg = make_pipeline(preprocessing, LinearRegression())\n",
        "lin_reg.fit(housing, housing_labels)"
      ],
      "outputs": [
        {
          "output_type": "execute_result",
          "execution_count": 119,
          "data": {
            "text/plain": "Pipeline(steps=[('columntransformer',\n                 ColumnTransformer(remainder=Pipeline(steps=[('simpleimputer',\n                                                              SimpleImputer(strategy='median')),\n                                                             ('standardscaler',\n                                                              StandardScaler())]),\n                                   transformers=[('bedrooms',\n                                                  Pipeline(steps=[('simpleimputer',\n                                                                   SimpleImputer(strategy='median')),\n                                                                  ('functiontransformer',\n                                                                   FunctionTransformer(feature_names_out=<function ratio_name at 0x1a5...\n                                                   'households',\n                                                   'median_income']),\n                                                 ('geo',\n                                                  ClusterSimilarity(random_state=42),\n                                                  ['latitude', 'longitude']),\n                                                 ('cat',\n                                                  Pipeline(steps=[('simpleimputer',\n                                                                   SimpleImputer(strategy='most_frequent')),\n                                                                  ('onehotencoder',\n                                                                   OneHotEncoder(handle_unknown='ignore'))]),\n                                                  <sklearn.compose._column_transformer.make_column_selector object at 0x1a57e3a00>)])),\n                ('linearregression', LinearRegression())])"
          },
          "metadata": {}
        }
      ],
      "execution_count": null,
      "metadata": {
        "id": "yUQ8RadDHaEM",
        "outputId": "e3f1b4a0-11a3-4a1c-b71c-7a6110e6d3f4"
      }
    },
    {
      "cell_type": "markdown",
      "source": [
        "Let's try the full preprocessing pipeline on a few training instances:"
      ],
      "metadata": {
        "id": "LZz0EvVCHaEN"
      }
    },
    {
      "cell_type": "code",
      "source": [
        "housing_predictions = lin_reg.predict(housing)\n",
        "housing_predictions[:5].round(-2)  # -2 = rounded to the nearest hundred"
      ],
      "outputs": [
        {
          "output_type": "execute_result",
          "execution_count": 120,
          "data": {
            "text/plain": "array([243700., 372400., 128800.,  94400., 328300.])"
          },
          "metadata": {}
        }
      ],
      "execution_count": null,
      "metadata": {
        "id": "56EH_gbkHaEN",
        "outputId": "dc43024f-8d02-4608-d311-9ce55a507b82"
      }
    },
    {
      "cell_type": "markdown",
      "source": [
        "Compare against the actual values:"
      ],
      "metadata": {
        "id": "1dkFF__BHaEO"
      }
    },
    {
      "cell_type": "code",
      "source": [
        "housing_labels.iloc[:5].values"
      ],
      "outputs": [
        {
          "output_type": "execute_result",
          "execution_count": 121,
          "data": {
            "text/plain": "array([458300., 483800., 101700.,  96100., 361800.])"
          },
          "metadata": {}
        }
      ],
      "execution_count": null,
      "metadata": {
        "id": "porN7EL5HaEO",
        "outputId": "a9182989-fcce-4316-f963-3488f95582e0"
      }
    },
    {
      "cell_type": "code",
      "source": [
        "# extra code – computes the error ratios discussed in the book\n",
        "error_ratios = housing_predictions[:5].round(-2) / housing_labels.iloc[:5].values - 1\n",
        "print(\", \".join([f\"{100 * ratio:.1f}%\" for ratio in error_ratios]))"
      ],
      "outputs": [
        {
          "output_type": "stream",
          "name": "stdout",
          "text": [
            "-46.8%, -23.0%, 26.6%, -1.8%, -9.3%\n"
          ]
        }
      ],
      "execution_count": null,
      "metadata": {
        "id": "DX3EE2wwHaEO",
        "outputId": "97facf11-2903-4b60-8f7b-e553a1b9df60"
      }
    },
    {
      "cell_type": "code",
      "source": [
        "from sklearn.metrics import mean_squared_error\n",
        "\n",
        "lin_rmse = mean_squared_error(housing_labels, housing_predictions,\n",
        "                              squared=False)\n",
        "lin_rmse"
      ],
      "outputs": [
        {
          "output_type": "execute_result",
          "execution_count": 123,
          "data": {
            "text/plain": "68687.89176589991"
          },
          "metadata": {}
        }
      ],
      "execution_count": null,
      "metadata": {
        "id": "mJITGUIUHaEP",
        "outputId": "2b96837a-b01d-42aa-eee3-aabb73d40706"
      }
    },
    {
      "cell_type": "code",
      "source": [
        "from sklearn.tree import DecisionTreeRegressor\n",
        "\n",
        "tree_reg = make_pipeline(preprocessing, DecisionTreeRegressor(random_state=42))\n",
        "tree_reg.fit(housing, housing_labels)"
      ],
      "outputs": [
        {
          "output_type": "execute_result",
          "execution_count": 124,
          "data": {
            "text/plain": "Pipeline(steps=[('columntransformer',\n                 ColumnTransformer(remainder=Pipeline(steps=[('simpleimputer',\n                                                              SimpleImputer(strategy='median')),\n                                                             ('standardscaler',\n                                                              StandardScaler())]),\n                                   transformers=[('bedrooms',\n                                                  Pipeline(steps=[('simpleimputer',\n                                                                   SimpleImputer(strategy='median')),\n                                                                  ('functiontransformer',\n                                                                   FunctionTransformer(feature_names_out=<function ratio_name at 0x1a5...\n                                                 ('geo',\n                                                  ClusterSimilarity(random_state=42),\n                                                  ['latitude', 'longitude']),\n                                                 ('cat',\n                                                  Pipeline(steps=[('simpleimputer',\n                                                                   SimpleImputer(strategy='most_frequent')),\n                                                                  ('onehotencoder',\n                                                                   OneHotEncoder(handle_unknown='ignore'))]),\n                                                  <sklearn.compose._column_transformer.make_column_selector object at 0x1a57e3a00>)])),\n                ('decisiontreeregressor',\n                 DecisionTreeRegressor(random_state=42))])"
          },
          "metadata": {}
        }
      ],
      "execution_count": null,
      "metadata": {
        "id": "zgh3tpNgHaEP",
        "outputId": "d1bb3f0b-12de-45c9-c5a7-3eef73b0f38e"
      }
    },
    {
      "cell_type": "code",
      "source": [
        "housing_predictions = tree_reg.predict(housing)\n",
        "tree_rmse = mean_squared_error(housing_labels, housing_predictions,\n",
        "                              squared=False)\n",
        "tree_rmse"
      ],
      "outputs": [
        {
          "output_type": "execute_result",
          "execution_count": 125,
          "data": {
            "text/plain": "0.0"
          },
          "metadata": {}
        }
      ],
      "execution_count": null,
      "metadata": {
        "id": "oH7VgSqGHaEQ",
        "outputId": "8ec2b422-f5db-4ab9-d2a9-dd3c6e6c7e4e"
      }
    }
  ],
  "metadata": {
    "kernelspec": {
      "display_name": "Python 3",
      "language": "python",
      "name": "python3"
    },
    "language_info": {
      "name": "python",
      "version": "3.10.6",
      "mimetype": "text/x-python",
      "codemirror_mode": {
        "name": "ipython",
        "version": 3
      },
      "pygments_lexer": "ipython3",
      "nbconvert_exporter": "python",
      "file_extension": ".py"
    },
    "nav_menu": {
      "height": "279px",
      "width": "309px"
    },
    "toc": {
      "nav_menu": {},
      "number_sections": true,
      "sideBar": true,
      "skip_h1_title": false,
      "toc_cell": false,
      "toc_position": {},
      "toc_section_display": "block",
      "toc_window_display": false
    },
    "colab": {
      "provenance": []
    },
    "nteract": {
      "version": "0.28.0"
    }
  },
  "nbformat": 4,
  "nbformat_minor": 0
}